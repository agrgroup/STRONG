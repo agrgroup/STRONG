{
 "cells": [
  {
   "cell_type": "code",
   "execution_count": 1,
   "id": "547ee723",
   "metadata": {},
   "outputs": [],
   "source": [
    "import pandas as pd\n",
    "import numpy as np\n",
    "\n",
    "import matplotlib as mpl\n",
    "import matplotlib.pyplot as plt\n",
    "\n",
    "\n",
    "import random \n",
    "import math\n",
    "\n",
    "import sklearn\n",
    "from sklearn.model_selection import train_test_split\n",
    "from sklearn.model_selection import KFold\n",
    "from sklearn import metrics\n",
    "from sklearn.model_selection import GridSearchCV\n",
    "from sklearn.metrics import r2_score\n",
    "\n",
    "import tensorflow as tf\n",
    "from tensorflow import keras\n",
    "from tensorflow.keras.models import Sequential\n",
    "from tensorflow.keras import layers\n",
    "from tensorflow.keras.layers import Dense, Activation\n",
    "from tensorflow.keras.optimizers import Adam\n",
    "\n",
    "from tensorflow.keras.wrappers.scikit_learn import KerasRegressor"
   ]
  },
  {
   "cell_type": "code",
   "execution_count": 2,
   "id": "352e1ea2",
   "metadata": {},
   "outputs": [
    {
     "name": "stdout",
     "output_type": "stream",
     "text": [
      "<class 'pandas.core.frame.DataFrame'>\n",
      "RangeIndex: 24884 entries, 0 to 24883\n",
      "Data columns (total 8 columns):\n",
      " #   Column                   Non-Null Count  Dtype  \n",
      "---  ------                   --------------  -----  \n",
      " 0   pore_number              24884 non-null  int64  \n",
      " 1   N                        24884 non-null  int64  \n",
      " 2   Canonical_STRONGs        24884 non-null  object \n",
      " 3   radius                   24884 non-null  float64\n",
      " 4   Canonical_STRONG_radius  24884 non-null  object \n",
      " 5   barrier_CO2              24884 non-null  float64\n",
      " 6   barrier_N2               24884 non-null  float64\n",
      " 7   barrier_O2               24884 non-null  float64\n",
      "dtypes: float64(4), int64(2), object(2)\n",
      "memory usage: 1.5+ MB\n",
      "225AAFFFZFFAAFFZFFAAFFZFFFZFACAFFFZFFZF\n",
      "1.89\n"
     ]
    }
   ],
   "source": [
    "# Data Pre-processing- splitting the dataset into test/train set \n",
    "\n",
    "csv_data = pd.read_csv('input/barrier_fluegas_final2.csv')\n",
    "csv_data.info()\n",
    "\n",
    "train_X, test_X, train_y, test_y = train_test_split(csv_data.Canonical_STRONG_radius, csv_data.barrier_N2, test_size = 0.25, random_state = 42)\n",
    "train_X, train_y = train_X.reset_index(drop=True), train_y.reset_index(drop=True)\n",
    "test_X, test_y = test_X.reset_index(drop=True), test_y.reset_index(drop=True)\n",
    "\n",
    "print(train_X[1])\n",
    "print(train_y[1])"
   ]
  },
  {
   "cell_type": "code",
   "execution_count": 3,
   "id": "9a645865",
   "metadata": {},
   "outputs": [],
   "source": [
    "# Block - Data pre-processing (tokenization)\n",
    "\n",
    "tokenizer = tf.keras.preprocessing.text.Tokenizer(\n",
    "    num_words = None, # maximum number of words to keep\n",
    "    filters=\"\", #find each character after other  \n",
    "    char_level=True # treat each character as token\n",
    ")\n",
    "\n",
    "# updates internal vocabulary based on a list of texts, required before using texts_to_sequences\n",
    "tokenizer.fit_on_texts(train_X)"
   ]
  },
  {
   "cell_type": "code",
   "execution_count": 4,
   "id": "e26ba1ef",
   "metadata": {},
   "outputs": [
    {
     "name": "stdout",
     "output_type": "stream",
     "text": [
      "[ 5  5 12  2  2  1  1  1  3  1  1  2  2  1  1  3  1  1  2  2  1  1  3  1\n",
      "  1  1  3  1  2  4  2  1  1  1  3  1  1  3  1  0  0  0  0  0  0  0  0  0\n",
      "  0  0  0  0  0  0  0  0  0  0  0  0  0  0]\n",
      "[6 7 5 2 2 1 2 2 1 1 1 3 1 3 1 1 3 1 1 1 2 4 2 1 1 1 2 2 1 1 2 2 1 3 1 3 1\n",
      " 1 1 3 1 3 1 1 1 2 2 1 3 1 1 0 0 0 0 0 0 0 0 0 0 0]\n"
     ]
    }
   ],
   "source": [
    "# Block - Data pre-processing (padding)\n",
    "\n",
    "# transforms each text in texts to a sequence of integers, padded to a length of padded length\n",
    "max_len = csv_data.Canonical_STRONG_radius.map(lambda x: len(x)).max()\n",
    "padded_len = max_len + 10\n",
    "\n",
    "train_X = tokenizer.texts_to_sequences(train_X)\n",
    "padded_train_X = tf.keras.preprocessing.sequence.pad_sequences(train_X, padding=\"post\", maxlen = padded_len)\n",
    "test_X = tokenizer.texts_to_sequences(test_X)\n",
    "padded_test_X = tf.keras.preprocessing.sequence.pad_sequences(test_X, padding=\"post\", maxlen = padded_len)\n",
    "\n",
    "print(padded_train_X[1])\n",
    "print(padded_test_X[15])"
   ]
  },
  {
   "cell_type": "code",
   "execution_count": 5,
   "id": "dc36413f",
   "metadata": {},
   "outputs": [
    {
     "name": "stdout",
     "output_type": "stream",
     "text": [
      "62\n"
     ]
    }
   ],
   "source": [
    "print(padded_len)"
   ]
  },
  {
   "cell_type": "markdown",
   "id": "8ef6505a",
   "metadata": {},
   "source": [
    "# Hyperparameter Tuning"
   ]
  },
  {
   "cell_type": "code",
   "execution_count": 6,
   "id": "f23bf4d3",
   "metadata": {},
   "outputs": [],
   "source": [
    "# K-Fold Cross validation for hyperparameter tuning\n",
    "vocab_size = 17\n",
    "\n",
    "def create_model(embedding_dim, gru_units, dense_units, activation):\n",
    "    model = tf.keras.Sequential()\n",
    "    model.add(tf.keras.layers.Embedding(input_dim=vocab_size, output_dim=embedding_dim, mask_zero=True))\n",
    "    model.add(tf.keras.layers.GRU(gru_units))\n",
    "    \n",
    "    for units in dense_units:\n",
    "        model.add(tf.keras.layers.Dense(units=units, activation=activation))\n",
    "    \n",
    "    model.add(tf.keras.layers.Dense(1))\n",
    "    \n",
    "    model.compile(loss = tf.losses.MeanSquaredError() , optimizer = tf.optimizers.Adam(), metrics = tf.metrics.MeanAbsoluteError())\n",
    "    return model"
   ]
  },
  {
   "cell_type": "code",
   "execution_count": 7,
   "id": "032ca364",
   "metadata": {},
   "outputs": [],
   "source": [
    "# Parameter Grid to be tuned\n",
    "\n",
    "param_grid = {\n",
    "    'embedding_dim':[32, 48, padded_len],\n",
    "    'gru_units': [32,48, padded_len],\n",
    "    'dense_units':[[padded_len,55,50,45,40,35,30,25,20,15,10,5],[padded_len,60,54,48,42,36,30,24,18,12,6,3],[padded_len,56,48,40,32,24,16,8,4]],\n",
    "    'activation': ['relu'], \n",
    "}"
   ]
  },
  {
   "cell_type": "code",
   "execution_count": 8,
   "id": "853a109f",
   "metadata": {},
   "outputs": [
    {
     "name": "stderr",
     "output_type": "stream",
     "text": [
      "C:\\Users\\91739\\AppData\\Local\\Temp\\ipykernel_21468\\3510641784.py:4: DeprecationWarning: KerasRegressor is deprecated, use Sci-Keras (https://github.com/adriangb/scikeras) instead. See https://www.adriangb.com/scikeras/stable/migration.html for help migrating.\n",
      "  model = KerasRegressor(build_fn=create_model, verbose=0)\n"
     ]
    }
   ],
   "source": [
    "# Grid search CV (5 fold)\n",
    "\n",
    "# create the KerasRegressor warpper with the RNN model function\n",
    "model = KerasRegressor(build_fn=create_model, verbose=0)\n",
    "\n",
    "# define the cross-validation strategy (K-fold)\n",
    "cross_validation = KFold(n_splits=5)\n",
    "\n",
    "# define the GridSearchCV with the model, hyperparameters, and cross-validation\n",
    "grid_search = GridSearchCV(estimator=model, param_grid=param_grid, cv= cross_validation, scoring='r2')"
   ]
  },
  {
   "cell_type": "code",
   "execution_count": 9,
   "id": "a65dbcd9",
   "metadata": {},
   "outputs": [
    {
     "data": {
      "text/plain": [
       "GridSearchCV(cv=KFold(n_splits=5, random_state=None, shuffle=False),\n",
       "             estimator=<keras.wrappers.scikit_learn.KerasRegressor object at 0x0000023A4F3012B0>,\n",
       "             param_grid={'activation': ['relu'],\n",
       "                         'dense_units': [[62, 55, 50, 45, 40, 35, 30, 25, 20,\n",
       "                                          15, 10, 5],\n",
       "                                         [62, 60, 54, 48, 42, 36, 30, 24, 18,\n",
       "                                          12, 6, 3],\n",
       "                                         [62, 56, 48, 40, 32, 24, 16, 8, 4]],\n",
       "                         'embedding_dim': [32, 48, 62],\n",
       "                         'gru_units': [32, 48, 62]},\n",
       "             scoring='r2')"
      ]
     },
     "execution_count": 9,
     "metadata": {},
     "output_type": "execute_result"
    }
   ],
   "source": [
    "grid_search.fit(padded_train_X, train_y)"
   ]
  },
  {
   "cell_type": "code",
   "execution_count": 10,
   "id": "10e3e5ed",
   "metadata": {},
   "outputs": [
    {
     "name": "stdout",
     "output_type": "stream",
     "text": [
      "Best Hyperparameters:  {'activation': 'relu', 'dense_units': [62, 56, 48, 40, 32, 24, 16, 8, 4], 'embedding_dim': 48, 'gru_units': 62}\n",
      "Best R2 Score:  0.6419693054129668\n"
     ]
    }
   ],
   "source": [
    "# Print the best hyperparameters and corresponding R2 score\n",
    "print(\"Best Hyperparameters: \", grid_search.best_params_)\n",
    "print(\"Best R2 Score: \", grid_search.best_score_)"
   ]
  },
  {
   "cell_type": "markdown",
   "id": "c924d25f",
   "metadata": {},
   "source": [
    "# Sequential Model"
   ]
  },
  {
   "cell_type": "code",
   "execution_count": 15,
   "id": "46d824d7",
   "metadata": {},
   "outputs": [
    {
     "name": "stdout",
     "output_type": "stream",
     "text": [
      "Epoch 1/125\n",
      "584/584 [==============================] - 23s 31ms/step - loss: 58.8982 - mean_absolute_error: 5.4557\n",
      "Epoch 2/125\n",
      "584/584 [==============================] - 18s 31ms/step - loss: 13.3337 - mean_absolute_error: 2.6229\n",
      "Epoch 3/125\n",
      "584/584 [==============================] - 18s 31ms/step - loss: 12.4846 - mean_absolute_error: 2.4644\n",
      "Epoch 4/125\n",
      "584/584 [==============================] - 19s 32ms/step - loss: 12.1982 - mean_absolute_error: 2.4042\n",
      "Epoch 5/125\n",
      "584/584 [==============================] - 19s 32ms/step - loss: 11.8894 - mean_absolute_error: 2.3647\n",
      "Epoch 6/125\n",
      "584/584 [==============================] - 19s 32ms/step - loss: 11.1568 - mean_absolute_error: 2.2944\n",
      "Epoch 7/125\n",
      "584/584 [==============================] - 19s 32ms/step - loss: 10.0774 - mean_absolute_error: 2.1857\n",
      "Epoch 8/125\n",
      "584/584 [==============================] - 19s 32ms/step - loss: 9.5248 - mean_absolute_error: 2.1110\n",
      "Epoch 9/125\n",
      "584/584 [==============================] - 19s 32ms/step - loss: 8.5201 - mean_absolute_error: 1.9903\n",
      "Epoch 10/125\n",
      "584/584 [==============================] - 19s 32ms/step - loss: 7.9278 - mean_absolute_error: 1.9171\n",
      "Epoch 11/125\n",
      "584/584 [==============================] - 19s 32ms/step - loss: 7.5622 - mean_absolute_error: 1.8676\n",
      "Epoch 12/125\n",
      "584/584 [==============================] - 19s 32ms/step - loss: 7.1193 - mean_absolute_error: 1.8095\n",
      "Epoch 13/125\n",
      "584/584 [==============================] - 19s 32ms/step - loss: 6.8285 - mean_absolute_error: 1.7755\n",
      "Epoch 14/125\n",
      "584/584 [==============================] - 19s 32ms/step - loss: 6.5251 - mean_absolute_error: 1.7403\n",
      "Epoch 15/125\n",
      "584/584 [==============================] - 19s 32ms/step - loss: 6.3356 - mean_absolute_error: 1.7130\n",
      "Epoch 16/125\n",
      "584/584 [==============================] - 19s 32ms/step - loss: 6.0647 - mean_absolute_error: 1.6707\n",
      "Epoch 17/125\n",
      "584/584 [==============================] - 19s 32ms/step - loss: 5.8651 - mean_absolute_error: 1.6488\n",
      "Epoch 18/125\n",
      "584/584 [==============================] - 19s 32ms/step - loss: 5.6574 - mean_absolute_error: 1.6205\n",
      "Epoch 19/125\n",
      "584/584 [==============================] - 18s 32ms/step - loss: 5.5102 - mean_absolute_error: 1.5942\n",
      "Epoch 20/125\n",
      "584/584 [==============================] - 19s 32ms/step - loss: 5.3481 - mean_absolute_error: 1.5635\n",
      "Epoch 21/125\n",
      "584/584 [==============================] - 19s 32ms/step - loss: 5.3069 - mean_absolute_error: 1.5598\n",
      "Epoch 22/125\n",
      "584/584 [==============================] - 19s 32ms/step - loss: 4.9167 - mean_absolute_error: 1.4961\n",
      "Epoch 23/125\n",
      "584/584 [==============================] - 19s 32ms/step - loss: 4.8975 - mean_absolute_error: 1.4947\n",
      "Epoch 24/125\n",
      "584/584 [==============================] - 19s 32ms/step - loss: 4.7945 - mean_absolute_error: 1.4767\n",
      "Epoch 25/125\n",
      "584/584 [==============================] - 19s 32ms/step - loss: 4.5189 - mean_absolute_error: 1.4332\n",
      "Epoch 26/125\n",
      "584/584 [==============================] - 19s 32ms/step - loss: 4.6110 - mean_absolute_error: 1.4455\n",
      "Epoch 27/125\n",
      "584/584 [==============================] - 19s 32ms/step - loss: 4.2550 - mean_absolute_error: 1.3870\n",
      "Epoch 28/125\n",
      "584/584 [==============================] - 19s 32ms/step - loss: 4.2451 - mean_absolute_error: 1.3827\n",
      "Epoch 29/125\n",
      "584/584 [==============================] - 19s 32ms/step - loss: 4.0361 - mean_absolute_error: 1.3413\n",
      "Epoch 30/125\n",
      "584/584 [==============================] - 19s 32ms/step - loss: 3.9557 - mean_absolute_error: 1.3311\n",
      "Epoch 31/125\n",
      "584/584 [==============================] - 19s 32ms/step - loss: 3.8293 - mean_absolute_error: 1.3106\n",
      "Epoch 32/125\n",
      "584/584 [==============================] - 19s 32ms/step - loss: 3.7798 - mean_absolute_error: 1.3056\n",
      "Epoch 33/125\n",
      "584/584 [==============================] - 19s 32ms/step - loss: 3.5968 - mean_absolute_error: 1.2651\n",
      "Epoch 34/125\n",
      "584/584 [==============================] - 19s 32ms/step - loss: 3.5182 - mean_absolute_error: 1.2570\n",
      "Epoch 35/125\n",
      "584/584 [==============================] - 19s 32ms/step - loss: 3.4325 - mean_absolute_error: 1.2448\n",
      "Epoch 36/125\n",
      "584/584 [==============================] - 19s 32ms/step - loss: 3.3939 - mean_absolute_error: 1.2370\n",
      "Epoch 37/125\n",
      "584/584 [==============================] - 19s 32ms/step - loss: 3.3083 - mean_absolute_error: 1.2253\n",
      "Epoch 38/125\n",
      "584/584 [==============================] - 19s 32ms/step - loss: 3.1667 - mean_absolute_error: 1.1908\n",
      "Epoch 39/125\n",
      "584/584 [==============================] - 19s 32ms/step - loss: 3.1328 - mean_absolute_error: 1.1913\n",
      "Epoch 40/125\n",
      "584/584 [==============================] - 19s 32ms/step - loss: 3.1219 - mean_absolute_error: 1.1938\n",
      "Epoch 41/125\n",
      "584/584 [==============================] - 19s 32ms/step - loss: 2.9693 - mean_absolute_error: 1.1556\n",
      "Epoch 42/125\n",
      "584/584 [==============================] - 19s 32ms/step - loss: 2.8774 - mean_absolute_error: 1.1405\n",
      "Epoch 43/125\n",
      "584/584 [==============================] - 19s 32ms/step - loss: 2.7713 - mean_absolute_error: 1.1189\n",
      "Epoch 44/125\n",
      "584/584 [==============================] - 19s 32ms/step - loss: 2.8009 - mean_absolute_error: 1.1295\n",
      "Epoch 45/125\n",
      "584/584 [==============================] - 19s 32ms/step - loss: 2.6520 - mean_absolute_error: 1.0999\n",
      "Epoch 46/125\n",
      "584/584 [==============================] - 19s 32ms/step - loss: 2.6936 - mean_absolute_error: 1.1166\n",
      "Epoch 47/125\n",
      "584/584 [==============================] - 19s 32ms/step - loss: 2.5193 - mean_absolute_error: 1.0748\n",
      "Epoch 48/125\n",
      "584/584 [==============================] - 19s 32ms/step - loss: 2.5162 - mean_absolute_error: 1.0748\n",
      "Epoch 49/125\n",
      "584/584 [==============================] - 19s 32ms/step - loss: 2.4449 - mean_absolute_error: 1.0673\n",
      "Epoch 50/125\n",
      "584/584 [==============================] - 19s 32ms/step - loss: 2.3786 - mean_absolute_error: 1.0501\n",
      "Epoch 51/125\n",
      "584/584 [==============================] - 19s 32ms/step - loss: 2.3431 - mean_absolute_error: 1.0439\n",
      "Epoch 52/125\n",
      "584/584 [==============================] - 19s 32ms/step - loss: 2.2394 - mean_absolute_error: 1.0226\n",
      "Epoch 53/125\n",
      "584/584 [==============================] - 19s 32ms/step - loss: 2.1569 - mean_absolute_error: 1.0034\n",
      "Epoch 54/125\n",
      "584/584 [==============================] - 19s 32ms/step - loss: 2.1351 - mean_absolute_error: 1.0027\n",
      "Epoch 55/125\n",
      "584/584 [==============================] - 19s 32ms/step - loss: 2.0318 - mean_absolute_error: 0.9797\n",
      "Epoch 56/125\n",
      "584/584 [==============================] - 19s 32ms/step - loss: 2.0613 - mean_absolute_error: 0.9840\n",
      "Epoch 57/125\n",
      "584/584 [==============================] - 19s 32ms/step - loss: 2.0497 - mean_absolute_error: 0.9761\n",
      "Epoch 58/125\n",
      "584/584 [==============================] - 19s 32ms/step - loss: 1.9441 - mean_absolute_error: 0.9618\n",
      "Epoch 59/125\n",
      "584/584 [==============================] - 19s 32ms/step - loss: 1.9367 - mean_absolute_error: 0.9574\n",
      "Epoch 60/125\n",
      "584/584 [==============================] - 19s 32ms/step - loss: 1.8840 - mean_absolute_error: 0.9447\n",
      "Epoch 61/125\n",
      "584/584 [==============================] - 19s 32ms/step - loss: 1.8065 - mean_absolute_error: 0.9324\n",
      "Epoch 62/125\n",
      "584/584 [==============================] - 19s 32ms/step - loss: 1.8297 - mean_absolute_error: 0.9339\n",
      "Epoch 63/125\n",
      "584/584 [==============================] - 19s 32ms/step - loss: 1.7302 - mean_absolute_error: 0.9120\n",
      "Epoch 64/125\n",
      "584/584 [==============================] - 19s 32ms/step - loss: 1.7709 - mean_absolute_error: 0.9196\n",
      "Epoch 65/125\n",
      "584/584 [==============================] - 19s 32ms/step - loss: 1.6803 - mean_absolute_error: 0.8972\n",
      "Epoch 66/125\n",
      "584/584 [==============================] - 19s 33ms/step - loss: 1.6497 - mean_absolute_error: 0.8893\n",
      "Epoch 67/125\n",
      "584/584 [==============================] - 19s 32ms/step - loss: 1.5491 - mean_absolute_error: 0.8646\n",
      "Epoch 68/125\n",
      "584/584 [==============================] - 19s 32ms/step - loss: 1.5832 - mean_absolute_error: 0.8758\n",
      "Epoch 69/125\n",
      "584/584 [==============================] - 19s 32ms/step - loss: 1.5302 - mean_absolute_error: 0.8668\n",
      "Epoch 70/125\n",
      "584/584 [==============================] - 19s 32ms/step - loss: 1.5469 - mean_absolute_error: 0.8672\n",
      "Epoch 71/125\n",
      "584/584 [==============================] - 19s 32ms/step - loss: 1.5224 - mean_absolute_error: 0.8633\n",
      "Epoch 72/125\n"
     ]
    },
    {
     "name": "stdout",
     "output_type": "stream",
     "text": [
      "584/584 [==============================] - 18s 31ms/step - loss: 1.4645 - mean_absolute_error: 0.8490\n",
      "Epoch 73/125\n",
      "584/584 [==============================] - 18s 32ms/step - loss: 1.4333 - mean_absolute_error: 0.8396\n",
      "Epoch 74/125\n",
      "584/584 [==============================] - 18s 32ms/step - loss: 1.3776 - mean_absolute_error: 0.8236\n",
      "Epoch 75/125\n",
      "584/584 [==============================] - 18s 32ms/step - loss: 1.3704 - mean_absolute_error: 0.8216\n",
      "Epoch 76/125\n",
      "584/584 [==============================] - 18s 32ms/step - loss: 1.2968 - mean_absolute_error: 0.8022\n",
      "Epoch 77/125\n",
      "584/584 [==============================] - 18s 32ms/step - loss: 1.3525 - mean_absolute_error: 0.8143\n",
      "Epoch 78/125\n",
      "584/584 [==============================] - 18s 32ms/step - loss: 1.3036 - mean_absolute_error: 0.8020\n",
      "Epoch 79/125\n",
      "584/584 [==============================] - 19s 32ms/step - loss: 1.2669 - mean_absolute_error: 0.7909\n",
      "Epoch 80/125\n",
      "584/584 [==============================] - 19s 32ms/step - loss: 1.2621 - mean_absolute_error: 0.7893\n",
      "Epoch 81/125\n",
      "584/584 [==============================] - 19s 32ms/step - loss: 1.2642 - mean_absolute_error: 0.7959\n",
      "Epoch 82/125\n",
      "584/584 [==============================] - 18s 32ms/step - loss: 1.2019 - mean_absolute_error: 0.7714\n",
      "Epoch 83/125\n",
      "584/584 [==============================] - 18s 32ms/step - loss: 1.2200 - mean_absolute_error: 0.7799\n",
      "Epoch 84/125\n",
      "584/584 [==============================] - 19s 32ms/step - loss: 1.1900 - mean_absolute_error: 0.7702\n",
      "Epoch 85/125\n",
      "584/584 [==============================] - 19s 32ms/step - loss: 1.1210 - mean_absolute_error: 0.7531\n",
      "Epoch 86/125\n",
      "584/584 [==============================] - 19s 32ms/step - loss: 1.1280 - mean_absolute_error: 0.7547\n",
      "Epoch 87/125\n",
      "584/584 [==============================] - 19s 32ms/step - loss: 1.1086 - mean_absolute_error: 0.7500\n",
      "Epoch 88/125\n",
      "584/584 [==============================] - 19s 32ms/step - loss: 1.0789 - mean_absolute_error: 0.7376\n",
      "Epoch 89/125\n",
      "584/584 [==============================] - 19s 32ms/step - loss: 1.1135 - mean_absolute_error: 0.7468\n",
      "Epoch 90/125\n",
      "584/584 [==============================] - 19s 32ms/step - loss: 1.0271 - mean_absolute_error: 0.7199\n",
      "Epoch 91/125\n",
      "584/584 [==============================] - 19s 32ms/step - loss: 1.0618 - mean_absolute_error: 0.7321\n",
      "Epoch 92/125\n",
      "584/584 [==============================] - 19s 32ms/step - loss: 1.0196 - mean_absolute_error: 0.7183\n",
      "Epoch 93/125\n",
      "584/584 [==============================] - 19s 32ms/step - loss: 1.0215 - mean_absolute_error: 0.7218\n",
      "Epoch 94/125\n",
      "584/584 [==============================] - 19s 32ms/step - loss: 0.9720 - mean_absolute_error: 0.7059\n",
      "Epoch 95/125\n",
      "584/584 [==============================] - 19s 32ms/step - loss: 1.0189 - mean_absolute_error: 0.7215\n",
      "Epoch 96/125\n",
      "584/584 [==============================] - 19s 32ms/step - loss: 0.9991 - mean_absolute_error: 0.7123\n",
      "Epoch 97/125\n",
      "584/584 [==============================] - 19s 32ms/step - loss: 0.9711 - mean_absolute_error: 0.7020\n",
      "Epoch 98/125\n",
      "584/584 [==============================] - 19s 32ms/step - loss: 0.9540 - mean_absolute_error: 0.6983\n",
      "Epoch 99/125\n",
      "584/584 [==============================] - 19s 32ms/step - loss: 0.9149 - mean_absolute_error: 0.6850\n",
      "Epoch 100/125\n",
      "584/584 [==============================] - 19s 32ms/step - loss: 0.9317 - mean_absolute_error: 0.6903\n",
      "Epoch 101/125\n",
      "584/584 [==============================] - 19s 32ms/step - loss: 0.9557 - mean_absolute_error: 0.6967\n",
      "Epoch 102/125\n",
      "584/584 [==============================] - 19s 32ms/step - loss: 0.8900 - mean_absolute_error: 0.6742\n",
      "Epoch 103/125\n",
      "584/584 [==============================] - 19s 32ms/step - loss: 0.9050 - mean_absolute_error: 0.6809\n",
      "Epoch 104/125\n",
      "584/584 [==============================] - 19s 32ms/step - loss: 0.8746 - mean_absolute_error: 0.6678\n",
      "Epoch 105/125\n",
      "584/584 [==============================] - 19s 32ms/step - loss: 0.8451 - mean_absolute_error: 0.6604\n",
      "Epoch 106/125\n",
      "584/584 [==============================] - 19s 32ms/step - loss: 0.8601 - mean_absolute_error: 0.6643\n",
      "Epoch 107/125\n",
      "584/584 [==============================] - 19s 32ms/step - loss: 0.8443 - mean_absolute_error: 0.6579\n",
      "Epoch 108/125\n",
      "584/584 [==============================] - 19s 32ms/step - loss: 0.8385 - mean_absolute_error: 0.6532\n",
      "Epoch 109/125\n",
      "584/584 [==============================] - 19s 32ms/step - loss: 0.8451 - mean_absolute_error: 0.6581\n",
      "Epoch 110/125\n",
      "584/584 [==============================] - 19s 32ms/step - loss: 0.7936 - mean_absolute_error: 0.6402\n",
      "Epoch 111/125\n",
      "584/584 [==============================] - 19s 32ms/step - loss: 0.8581 - mean_absolute_error: 0.6617\n",
      "Epoch 112/125\n",
      "584/584 [==============================] - 19s 32ms/step - loss: 0.8512 - mean_absolute_error: 0.6623\n",
      "Epoch 113/125\n",
      "584/584 [==============================] - 19s 32ms/step - loss: 0.8271 - mean_absolute_error: 0.6476\n",
      "Epoch 114/125\n",
      "584/584 [==============================] - 19s 32ms/step - loss: 0.7673 - mean_absolute_error: 0.6294\n",
      "Epoch 115/125\n",
      "584/584 [==============================] - 19s 32ms/step - loss: 0.7466 - mean_absolute_error: 0.6231\n",
      "Epoch 116/125\n",
      "584/584 [==============================] - 19s 33ms/step - loss: 0.7263 - mean_absolute_error: 0.6138\n",
      "Epoch 117/125\n",
      "584/584 [==============================] - 19s 32ms/step - loss: 0.7494 - mean_absolute_error: 0.6234\n",
      "Epoch 118/125\n",
      "584/584 [==============================] - 19s 32ms/step - loss: 0.7625 - mean_absolute_error: 0.6288\n",
      "Epoch 119/125\n",
      "584/584 [==============================] - 19s 32ms/step - loss: 0.7700 - mean_absolute_error: 0.6284\n",
      "Epoch 120/125\n",
      "584/584 [==============================] - 19s 32ms/step - loss: 0.7246 - mean_absolute_error: 0.6114\n",
      "Epoch 121/125\n",
      "584/584 [==============================] - 19s 32ms/step - loss: 0.7132 - mean_absolute_error: 0.6081\n",
      "Epoch 122/125\n",
      "584/584 [==============================] - 19s 32ms/step - loss: 0.7385 - mean_absolute_error: 0.6191\n",
      "Epoch 123/125\n",
      "584/584 [==============================] - 19s 32ms/step - loss: 0.7073 - mean_absolute_error: 0.6046\n",
      "Epoch 124/125\n",
      "584/584 [==============================] - 19s 32ms/step - loss: 0.7179 - mean_absolute_error: 0.6087\n",
      "Epoch 125/125\n",
      "584/584 [==============================] - 19s 32ms/step - loss: 0.7304 - mean_absolute_error: 0.6127\n"
     ]
    }
   ],
   "source": [
    "# Sequential model developed using hyperparameter obtained from k-fold cross validation\n",
    "\n",
    "vocab_size = 17\n",
    "\n",
    "model = tf.keras.Sequential()\n",
    " \n",
    "model.add(tf.keras.layers.Embedding(input_dim=vocab_size, output_dim=padded_len, mask_zero=True))\n",
    "model.add(tf.keras.layers.GRU(padded_len))\n",
    "model.add(tf.keras.layers.Dense(padded_len, activation=\"relu\"))\n",
    "model.add(tf.keras.layers.Dense(56, activation=\"relu\"))\n",
    "model.add(tf.keras.layers.Dense(48, activation=\"relu\"))\n",
    "model.add(tf.keras.layers.Dense(40, activation=\"relu\"))\n",
    "model.add(tf.keras.layers.Dense(32, activation=\"relu\"))\n",
    "model.add(tf.keras.layers.Dense(24, activation=\"relu\"))\n",
    "model.add(tf.keras.layers.Dense(16, activation=\"relu\"))\n",
    "model.add(tf.keras.layers.Dense(8, activation=\"relu\"))\n",
    "model.add(tf.keras.layers.Dense(4, activation=\"relu\"))\n",
    "    \n",
    "# regression, so no activation\n",
    "model.add(tf.keras.layers.Dense(1))\n",
    "    \n",
    "# compile the model\n",
    "model.compile(loss = tf.losses.MeanSquaredError(), optimizer = tf.optimizers.Adam(), metrics = tf.metrics.MeanAbsoluteError())\n",
    "    \n",
    "# train the model\n",
    "model_history = model.fit(padded_train_X, train_y, batch_size=32, epochs=125)"
   ]
  },
  {
   "cell_type": "code",
   "execution_count": 12,
   "id": "c348a2d5",
   "metadata": {},
   "outputs": [
    {
     "data": {
      "image/png": "[encoded data removed]",
      "text/plain": [
       "<Figure size 432x288 with 1 Axes>"
      ]
     },
     "metadata": {
      "needs_background": "light"
     },
     "output_type": "display_data"
    },
    {
     "data": {
      "image/png": "[encoded data removed]",
      "text/plain": [
       "<Figure size 432x288 with 1 Axes>"
      ]
     },
     "metadata": {
      "needs_background": "light"
     },
     "output_type": "display_data"
    }
   ],
   "source": [
    "# plotting mse loss\n",
    "training_mse_loss = model_history.history['loss']\n",
    "training_mae_loss = model_history.history['mean_absolute_error']\n",
    "\n",
    "epoch_count = range(0,len(training_mse_loss))\n",
    "\n",
    "plt.plot(epoch_count, training_mse_loss[0:], 'r--')\n",
    "plt.legend(['Training MSE Loss'])\n",
    "plt.xlabel('Epoch')\n",
    "plt.ylabel('Loss')\n",
    "plt.show();\n",
    "\n",
    "plt.plot(epoch_count, training_mae_loss[0:], 'b--')\n",
    "plt.legend(['Training MAE Loss'])\n",
    "plt.xlabel('Epoch')\n",
    "plt.ylabel('Loss')\n",
    "plt.show();"
   ]
  },
  {
   "cell_type": "code",
   "execution_count": 13,
   "id": "874007ed",
   "metadata": {},
   "outputs": [
    {
     "name": "stdout",
     "output_type": "stream",
     "text": [
      "195/195 [==============================] - 3s 8ms/step\n",
      "584/584 [==============================] - 4s 8ms/step\n"
     ]
    }
   ],
   "source": [
    "# evaluate on test data\n",
    "yhat = model.predict(padded_test_X)\n",
    "\n",
    "# evaluate on train data\n",
    "yhat_train = model.predict(padded_train_X)"
   ]
  },
  {
   "cell_type": "code",
   "execution_count": 14,
   "id": "b3d7ce20",
   "metadata": {},
   "outputs": [
    {
     "name": "stdout",
     "output_type": "stream",
     "text": [
      "test metrics\n",
      "1.1443366009406082\n",
      "3.2562468936642692\n",
      "0.9644969460850663\n",
      "train metrics\n",
      "0.6044939398805167\n",
      "0.7141830906446024\n",
      "0.9921551502002849\n"
     ]
    },
    {
     "data": {
      "image/png": "[encoded data removed]",
      "text/plain": [
       "<Figure size 432x288 with 1 Axes>"
      ]
     },
     "metadata": {
      "needs_background": "light"
     },
     "output_type": "display_data"
    }
   ],
   "source": [
    "print(\"test metrics\")\n",
    "mae_test = metrics.mean_absolute_error(test_y,yhat)\n",
    "mse_test = metrics.mean_squared_error(test_y,yhat)\n",
    "r2_test = metrics.r2_score(test_y,yhat)\n",
    "\n",
    "print(mae_test)\n",
    "print(mse_test)\n",
    "print(r2_test)\n",
    "\n",
    "print(\"train metrics\")\n",
    "mae_train = metrics.mean_absolute_error(train_y,yhat_train)\n",
    "mse_train = metrics.mean_squared_error(train_y,yhat_train)\n",
    "r2_train = metrics.r2_score(train_y,yhat_train)\n",
    "\n",
    "print(mae_train)\n",
    "print(mse_train)\n",
    "print(r2_train)\n",
    "\n",
    "plt.scatter(train_y,yhat_train,color = 'purple')\n",
    "plt.scatter(test_y,yhat, color = 'green')\n",
    "plt.plot(train_y,train_y, 'r--')\n",
    "#plt.title('Parity plot')\n",
    "plt.ylabel('predicted $N_{2}$ barrier \\n (kcal/mol)')\n",
    "plt.xlabel('actual $N_{2}$ barrier \\n (kcal/mol)')\n",
    "plt.legend(['train_set', 'test_set'])\n",
    "plt.show()"
   ]
  },
  {
   "cell_type": "markdown",
   "id": "ae05fc82",
   "metadata": {},
   "source": [
    "# Saving the trained model"
   ]
  },
  {
   "cell_type": "code",
   "execution_count": 16,
   "id": "a9aabe5b",
   "metadata": {},
   "outputs": [],
   "source": [
    "from tensorflow.keras.models import save_model\n",
    "from tensorflow.keras.models import load_model"
   ]
  },
  {
   "cell_type": "code",
   "execution_count": 17,
   "id": "2fc5d28a",
   "metadata": {},
   "outputs": [],
   "source": [
    "# save the model to disk\n",
    "filename = 'output/N2_barrier_stablestrong/N2_barrier_finalmodel2.h5'\n",
    "save_model(model, filename)"
   ]
  },
  {
   "cell_type": "markdown",
   "id": "844e811f",
   "metadata": {},
   "source": [
    "# loading the saved model"
   ]
  },
  {
   "cell_type": "code",
   "execution_count": 18,
   "id": "5aed4330",
   "metadata": {},
   "outputs": [],
   "source": [
    "# load the model from disk\n",
    "filename = 'output/N2_barrier_stablestrong/N2_barrier_finalmodel2.h5'\n",
    "loaded_model = load_model(filename)"
   ]
  },
  {
   "cell_type": "markdown",
   "id": "ae82135c",
   "metadata": {},
   "source": [
    "# testing the saved model"
   ]
  },
  {
   "cell_type": "code",
   "execution_count": 19,
   "id": "0a466e4e",
   "metadata": {},
   "outputs": [
    {
     "name": "stdout",
     "output_type": "stream",
     "text": [
      "195/195 [==============================] - 3s 8ms/step\n",
      "584/584 [==============================] - 5s 8ms/step\n"
     ]
    }
   ],
   "source": [
    "# evaluate on train and test data\n",
    "yhat_test_loaded = loaded_model.predict(padded_test_X)\n",
    "yhat_train_loaded = loaded_model.predict(padded_train_X)"
   ]
  },
  {
   "cell_type": "code",
   "execution_count": 20,
   "id": "2cab1b16",
   "metadata": {},
   "outputs": [
    {
     "name": "stdout",
     "output_type": "stream",
     "text": [
      "test metrics\n",
      "1.1783563214777137\n",
      "3.539484630777188\n",
      "0.9614087881597475\n",
      "train metrics\n",
      "0.6550249371479825\n",
      "0.8310166955277077\n",
      "0.9908718069037642\n"
     ]
    }
   ],
   "source": [
    "print(\"test metrics\")\n",
    "mae_test = metrics.mean_absolute_error(test_y,yhat_test_loaded)\n",
    "mse_test = metrics.mean_squared_error(test_y,yhat_test_loaded)\n",
    "r2_test = metrics.r2_score(test_y,yhat_test_loaded)\n",
    "\n",
    "print(mae_test)\n",
    "print(mse_test)\n",
    "print(r2_test)\n",
    "\n",
    "print(\"train metrics\")\n",
    "mae_train = metrics.mean_absolute_error(train_y,yhat_train_loaded)\n",
    "mse_train = metrics.mean_squared_error(train_y,yhat_train_loaded)\n",
    "r2_train = metrics.r2_score(train_y,yhat_train_loaded)\n",
    "\n",
    "print(mae_train)\n",
    "print(mse_train)\n",
    "print(r2_train)"
   ]
  },
  {
   "cell_type": "code",
   "execution_count": 21,
   "id": "8fcca5e8",
   "metadata": {},
   "outputs": [
    {
     "data": {
      "image/png": "[encoded data removed]",
      "text/plain": [
       "<Figure size 432x288 with 1 Axes>"
      ]
     },
     "metadata": {
      "needs_background": "light"
     },
     "output_type": "display_data"
    }
   ],
   "source": [
    "plt.scatter(train_y,yhat_train_loaded,color = 'purple')\n",
    "plt.scatter(test_y,yhat_test_loaded, color = 'green')\n",
    "plt.plot(train_y,train_y, 'r--')\n",
    "\n",
    "plt.ylabel('predicted $\\\\rm N_{2}$ barrier \\n (kcal/mol)', fontname=\"Arial\", fontsize=24)\n",
    "plt.xlabel('actual $\\\\rm N_{2}$ barrier \\n (kcal/mol)', fontname=\"Arial\", fontsize=24)\n",
    "plt.legend(['train set', 'test set'], fontsize=\"18\" )\n",
    "plt.xticks(fontsize=20, fontname=\"Arial\")\n",
    "plt.yticks(fontsize=20, fontname=\"Arial\")\n",
    "plt.savefig(\"figures/N2_barrier_stablestrong/final2_parityplot.png\", format=\"png\", dpi=1600, bbox_inches='tight')\n",
    "plt.show()"
   ]
  },
  {
   "cell_type": "markdown",
   "id": "d314fc9c",
   "metadata": {},
   "source": [
    "# Predicting N2 Barriers for stable nanopores obtained using STRONGs algorithm"
   ]
  },
  {
   "cell_type": "code",
   "execution_count": 22,
   "id": "a63ea4ef",
   "metadata": {},
   "outputs": [
    {
     "name": "stdout",
     "output_type": "stream",
     "text": [
      "<class 'pandas.core.frame.DataFrame'>\n",
      "RangeIndex: 188180 entries, 0 to 188179\n",
      "Data columns (total 8 columns):\n",
      " #   Column                   Non-Null Count   Dtype  \n",
      "---  ------                   --------------   -----  \n",
      " 0   pore_number              188180 non-null  int64  \n",
      " 1   N                        188180 non-null  int64  \n",
      " 2   STRONG                   188180 non-null  object \n",
      " 3   Canonical_STRONG         188180 non-null  object \n",
      " 4   x_coord                  188180 non-null  float64\n",
      " 5   y_coord                  188180 non-null  float64\n",
      " 6   radius                   188180 non-null  float64\n",
      " 7   Canonical_STRONG_radius  188180 non-null  object \n",
      "dtypes: float64(3), int64(2), object(3)\n",
      "memory usage: 11.5+ MB\n"
     ]
    }
   ],
   "source": [
    "# Feature Data - Canonical STRONGs for stable nanopores\n",
    "\n",
    "csv_data_stable_nanopores = pd.read_csv('input/stable_strongs.csv')\n",
    "csv_data_stable_nanopores.info()"
   ]
  },
  {
   "cell_type": "code",
   "execution_count": 23,
   "id": "68cbfd28",
   "metadata": {},
   "outputs": [],
   "source": [
    "# Tokenization of Feature Data\n",
    "\n",
    "stable_nanopores_STRONG_X = tokenizer.texts_to_sequences(csv_data_stable_nanopores['Canonical_STRONG_radius'])\n",
    "stable_nanopores_padded_X = tf.keras.preprocessing.sequence.pad_sequences(stable_nanopores_STRONG_X, padding=\"post\", maxlen = padded_len)"
   ]
  },
  {
   "cell_type": "code",
   "execution_count": 24,
   "id": "3b715f37",
   "metadata": {},
   "outputs": [
    {
     "name": "stdout",
     "output_type": "stream",
     "text": [
      "5881/5881 [==============================] - 54s 9ms/step\n"
     ]
    }
   ],
   "source": [
    "# Calculating N2 barriers for stable nanopores\n",
    "stable_nanopores_yhat = loaded_model.predict(stable_nanopores_padded_X)"
   ]
  },
  {
   "cell_type": "code",
   "execution_count": 26,
   "id": "faa262fb",
   "metadata": {},
   "outputs": [],
   "source": [
    "# saving the N2 barrier for stable nanopores\n",
    "type(stable_nanopores_yhat)\n",
    "np.savetxt('output/N2_barrier_stablestrong/stablestrong_barrierN2_final2.csv', stable_nanopores_yhat)"
   ]
  },
  {
   "cell_type": "markdown",
   "id": "f8191874",
   "metadata": {},
   "source": [
    "# Performace Check"
   ]
  },
  {
   "cell_type": "code",
   "execution_count": 58,
   "id": "cb415e99",
   "metadata": {},
   "outputs": [],
   "source": [
    "y_train = train_y.to_numpy()\n",
    "y_train = y_train.reshape(18663,1)\n",
    "delta_train =  abs(y_train - yhat_train_loaded)\n",
    "\n",
    "y_test = test_y.to_numpy()\n",
    "y_test = y_test.reshape(6221,1)\n",
    "delta_test =  abs(y_test - yhat_test_loaded)\n"
   ]
  },
  {
   "cell_type": "code",
   "execution_count": 60,
   "id": "3942fa27",
   "metadata": {},
   "outputs": [
    {
     "data": {
      "image/png": "[encoded data removed]",
      "text/plain": [
       "<Figure size 432x288 with 1 Axes>"
      ]
     },
     "metadata": {
      "needs_background": "light"
     },
     "output_type": "display_data"
    },
    {
     "data": {
      "image/png": "[encoded data removed]",
      "text/plain": [
       "<Figure size 432x288 with 1 Axes>"
      ]
     },
     "metadata": {
      "needs_background": "light"
     },
     "output_type": "display_data"
    }
   ],
   "source": [
    "import matplotlib.pyplot as plt\n",
    "import numpy as np\n",
    "\n",
    "plt.hist(delta_train, bins=30, edgecolor='black')\n",
    "plt.xlabel('train absolute error (kcal/mol)')\n",
    "plt.ylabel('frequency')\n",
    "plt.grid(True)\n",
    "plt.show()\n",
    "\n",
    "\n",
    "plt.hist(delta_test, bins=50, edgecolor='black')\n",
    "plt.xlabel('test absolute error (kcal/mol)')\n",
    "plt.ylabel('frequency')\n",
    "plt.grid(True)\n",
    "plt.show()"
   ]
  },
  {
   "cell_type": "code",
   "execution_count": null,
   "id": "f2181218",
   "metadata": {},
   "outputs": [],
   "source": []
  }
 ],
 "metadata": {
  "kernelspec": {
   "display_name": "Python 3 (ipykernel)",
   "language": "python",
   "name": "python3"
  },
  "language_info": {
   "codemirror_mode": {
    "name": "ipython",
    "version": 3
   },
   "file_extension": ".py",
   "mimetype": "text/x-python",
   "name": "python",
   "nbconvert_exporter": "python",
   "pygments_lexer": "ipython3",
   "version": "3.9.12"
  }
 },
 "nbformat": 4,
 "nbformat_minor": 5
}
