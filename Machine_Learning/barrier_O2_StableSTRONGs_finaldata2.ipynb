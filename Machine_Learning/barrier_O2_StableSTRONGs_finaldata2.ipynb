{
 "cells": [
  {
   "cell_type": "code",
   "execution_count": 25,
   "id": "3dc01482",
   "metadata": {},
   "outputs": [],
   "source": [
    "import pandas as pd\n",
    "import numpy as np\n",
    "\n",
    "import matplotlib as mpl\n",
    "import matplotlib.pyplot as plt\n",
    "\n",
    "\n",
    "import random \n",
    "import math\n",
    "\n",
    "import sklearn\n",
    "from sklearn.model_selection import train_test_split\n",
    "from sklearn.model_selection import KFold\n",
    "from sklearn import metrics\n",
    "from sklearn.model_selection import GridSearchCV\n",
    "from sklearn.metrics import r2_score\n",
    "\n",
    "import tensorflow as tf\n",
    "from tensorflow import keras\n",
    "from tensorflow.keras.models import Sequential\n",
    "from tensorflow.keras import layers\n",
    "from tensorflow.keras.layers import Dense, Activation\n",
    "from tensorflow.keras.optimizers import Adam\n",
    "\n",
    "from tensorflow.keras.wrappers.scikit_learn import KerasRegressor"
   ]
  },
  {
   "cell_type": "code",
   "execution_count": 26,
   "id": "f6a5fc78",
   "metadata": {},
   "outputs": [
    {
     "name": "stdout",
     "output_type": "stream",
     "text": [
      "<class 'pandas.core.frame.DataFrame'>\n",
      "RangeIndex: 24884 entries, 0 to 24883\n",
      "Data columns (total 8 columns):\n",
      " #   Column                   Non-Null Count  Dtype  \n",
      "---  ------                   --------------  -----  \n",
      " 0   pore_number              24884 non-null  int64  \n",
      " 1   N                        24884 non-null  int64  \n",
      " 2   Canonical_STRONGs        24884 non-null  object \n",
      " 3   radius                   24884 non-null  float64\n",
      " 4   Canonical_STRONG_radius  24884 non-null  object \n",
      " 5   barrier_CO2              24884 non-null  float64\n",
      " 6   barrier_N2               24884 non-null  float64\n",
      " 7   barrier_O2               24884 non-null  float64\n",
      "dtypes: float64(4), int64(2), object(2)\n",
      "memory usage: 1.5+ MB\n",
      "225AAFFFZFFAAFFZFFAAFFZFFFZFACAFFFZFFZF\n",
      "1.89\n"
     ]
    }
   ],
   "source": [
    "# Data Pre-processing- splitting the dataset into test/train set \n",
    "\n",
    "csv_data = pd.read_csv('input/barrier_fluegas_final2.csv')\n",
    "csv_data.info()\n",
    "\n",
    "train_X, test_X, train_y, test_y = train_test_split(csv_data.Canonical_STRONG_radius, csv_data.barrier_O2, test_size = 0.25, random_state = 42)\n",
    "train_X, train_y = train_X.reset_index(drop=True), train_y.reset_index(drop=True)\n",
    "test_X, test_y = test_X.reset_index(drop=True), test_y.reset_index(drop=True)\n",
    "\n",
    "print(train_X[1])\n",
    "print(train_y[1])"
   ]
  },
  {
   "cell_type": "code",
   "execution_count": 27,
   "id": "7d7bbfa1",
   "metadata": {},
   "outputs": [],
   "source": [
    "# Block - Data pre-processing (tokenization)\n",
    "\n",
    "tokenizer = tf.keras.preprocessing.text.Tokenizer(\n",
    "    num_words = None, # maximum number of words to keep\n",
    "    filters=\"\", #find each character after other  \n",
    "    char_level=True # treat each character as token\n",
    ")\n",
    "\n",
    "# updates internal vocabulary based on a list of texts, required before using texts_to_sequences\n",
    "tokenizer.fit_on_texts(train_X)"
   ]
  },
  {
   "cell_type": "code",
   "execution_count": 28,
   "id": "a5285275",
   "metadata": {},
   "outputs": [
    {
     "name": "stdout",
     "output_type": "stream",
     "text": [
      "[ 5  5 12  2  2  1  1  1  3  1  1  2  2  1  1  3  1  1  2  2  1  1  3  1\n",
      "  1  1  3  1  2  4  2  1  1  1  3  1  1  3  1  0  0  0  0  0  0  0  0  0\n",
      "  0  0  0  0  0  0  0  0  0  0  0  0  0  0]\n",
      "[6 7 5 2 2 1 2 2 1 1 1 3 1 3 1 1 3 1 1 1 2 4 2 1 1 1 2 2 1 1 2 2 1 3 1 3 1\n",
      " 1 1 3 1 3 1 1 1 2 2 1 3 1 1 0 0 0 0 0 0 0 0 0 0 0]\n"
     ]
    }
   ],
   "source": [
    "# Block - Data pre-processing (padding)\n",
    "\n",
    "# transforms each text in texts to a sequence of integers, padded to a length of 50\n",
    "max_len = csv_data.Canonical_STRONG_radius.map(lambda x: len(x)).max()\n",
    "padded_len = max_len + 10\n",
    "\n",
    "train_X = tokenizer.texts_to_sequences(train_X)\n",
    "padded_train_X = tf.keras.preprocessing.sequence.pad_sequences(train_X, padding=\"post\", maxlen = padded_len)\n",
    "test_X = tokenizer.texts_to_sequences(test_X)\n",
    "padded_test_X = tf.keras.preprocessing.sequence.pad_sequences(test_X, padding=\"post\", maxlen = padded_len)\n",
    "\n",
    "print(padded_train_X[1])\n",
    "print(padded_test_X[15])"
   ]
  },
  {
   "cell_type": "code",
   "execution_count": 29,
   "id": "12165e5b",
   "metadata": {},
   "outputs": [
    {
     "name": "stdout",
     "output_type": "stream",
     "text": [
      "62\n"
     ]
    }
   ],
   "source": [
    "print(padded_len)"
   ]
  },
  {
   "cell_type": "markdown",
   "id": "7d8a20e9",
   "metadata": {},
   "source": [
    "# Hyperparamter Training"
   ]
  },
  {
   "cell_type": "code",
   "execution_count": 10,
   "id": "adf3d0f2",
   "metadata": {},
   "outputs": [],
   "source": [
    "# K-Fold Cross validation for hyperparameter tuning\n",
    "vocab_size = 17\n",
    "\n",
    "def create_model(embedding_dim, gru_units, dense_units, activation):\n",
    "    model = tf.keras.Sequential()\n",
    "    model.add(tf.keras.layers.Embedding(input_dim=vocab_size, output_dim=embedding_dim, mask_zero=True))\n",
    "    model.add(tf.keras.layers.GRU(gru_units))\n",
    "    \n",
    "    for units in dense_units:\n",
    "        model.add(tf.keras.layers.Dense(units=units, activation=activation))\n",
    "    \n",
    "    model.add(tf.keras.layers.Dense(1))\n",
    "    \n",
    "    model.compile(loss = tf.losses.MeanSquaredError() , optimizer = tf.optimizers.Adam(), metrics = tf.metrics.MeanAbsoluteError())\n",
    "    return model"
   ]
  },
  {
   "cell_type": "code",
   "execution_count": 11,
   "id": "91d4717a",
   "metadata": {},
   "outputs": [],
   "source": [
    "# Parameter Grid to be tuned\n",
    "\n",
    "param_grid = {\n",
    "    'embedding_dim':[32, 48, padded_len],\n",
    "    'gru_units': [32,48, padded_len],\n",
    "    'dense_units':[[padded_len,55,50,45,40,35,30,25,20,15,10,5],[padded_len,60,54,48,42,36,30,24,18,12,6,3],[padded_len,56,48,40,32,24,16,8,4]],\n",
    "    'activation': ['relu'], \n",
    "}"
   ]
  },
  {
   "cell_type": "code",
   "execution_count": 12,
   "id": "d8965772",
   "metadata": {},
   "outputs": [
    {
     "name": "stderr",
     "output_type": "stream",
     "text": [
      "C:\\Users\\91739\\AppData\\Local\\Temp\\ipykernel_17704\\3510641784.py:4: DeprecationWarning: KerasRegressor is deprecated, use Sci-Keras (https://github.com/adriangb/scikeras) instead. See https://www.adriangb.com/scikeras/stable/migration.html for help migrating.\n",
      "  model = KerasRegressor(build_fn=create_model, verbose=0)\n"
     ]
    }
   ],
   "source": [
    "# Grid search CV (5 fold)\n",
    "\n",
    "# create the KerasRegressor warpper with the RNN model function\n",
    "model = KerasRegressor(build_fn=create_model, verbose=0)\n",
    "\n",
    "# define the cross-validation strategy (K-fold)\n",
    "cross_validation = KFold(n_splits=5)\n",
    "\n",
    "# define the GridSearchCV with the model, hyperparameters, and cross-validation\n",
    "grid_search = GridSearchCV(estimator=model, param_grid=param_grid, cv= cross_validation, scoring='r2')"
   ]
  },
  {
   "cell_type": "code",
   "execution_count": 13,
   "id": "5528725e",
   "metadata": {},
   "outputs": [
    {
     "data": {
      "text/plain": [
       "GridSearchCV(cv=KFold(n_splits=5, random_state=None, shuffle=False),\n",
       "             estimator=<keras.wrappers.scikit_learn.KerasRegressor object at 0x00000182DF40EF40>,\n",
       "             param_grid={'activation': ['relu'],\n",
       "                         'dense_units': [[62, 55, 50, 45, 40, 35, 30, 25, 20,\n",
       "                                          15, 10, 5],\n",
       "                                         [62, 60, 54, 48, 42, 36, 30, 24, 18,\n",
       "                                          12, 6, 3],\n",
       "                                         [62, 56, 48, 40, 32, 24, 16, 8, 4]],\n",
       "                         'embedding_dim': [32, 48, 62],\n",
       "                         'gru_units': [32, 48, 62]},\n",
       "             scoring='r2')"
      ]
     },
     "execution_count": 13,
     "metadata": {},
     "output_type": "execute_result"
    }
   ],
   "source": [
    "grid_search.fit(padded_train_X, train_y)"
   ]
  },
  {
   "cell_type": "code",
   "execution_count": 14,
   "id": "cda39a6e",
   "metadata": {},
   "outputs": [
    {
     "name": "stdout",
     "output_type": "stream",
     "text": [
      "Best Hyperparameters:  {'activation': 'relu', 'dense_units': [62, 55, 50, 45, 40, 35, 30, 25, 20, 15, 10, 5], 'embedding_dim': 62, 'gru_units': 48}\n",
      "Best R2 Score:  0.8194342809706855\n"
     ]
    }
   ],
   "source": [
    "# Print the best hyperparameters and corresponding R2 score\n",
    "print(\"Best Hyperparameters: \", grid_search.best_params_)\n",
    "print(\"Best R2 Score: \", grid_search.best_score_)"
   ]
  },
  {
   "cell_type": "markdown",
   "id": "1774381f",
   "metadata": {},
   "source": [
    "# Sequential Model"
   ]
  },
  {
   "cell_type": "code",
   "execution_count": 30,
   "id": "9866538f",
   "metadata": {},
   "outputs": [
    {
     "name": "stdout",
     "output_type": "stream",
     "text": [
      "Epoch 1/125\n",
      "584/584 [==============================] - 22s 26ms/step - loss: 34.7169 - mean_absolute_error: 4.0215\n",
      "Epoch 2/125\n",
      "584/584 [==============================] - 15s 25ms/step - loss: 9.3459 - mean_absolute_error: 2.0481\n",
      "Epoch 3/125\n",
      "584/584 [==============================] - 14s 25ms/step - loss: 9.2215 - mean_absolute_error: 2.0350\n",
      "Epoch 4/125\n",
      "584/584 [==============================] - 14s 24ms/step - loss: 9.2363 - mean_absolute_error: 2.0355\n",
      "Epoch 5/125\n",
      "584/584 [==============================] - 15s 25ms/step - loss: 8.7762 - mean_absolute_error: 1.9878\n",
      "Epoch 6/125\n",
      "584/584 [==============================] - 15s 26ms/step - loss: 8.1480 - mean_absolute_error: 1.9166\n",
      "Epoch 7/125\n",
      "584/584 [==============================] - 18s 31ms/step - loss: 7.3798 - mean_absolute_error: 1.8182\n",
      "Epoch 8/125\n",
      "584/584 [==============================] - 18s 31ms/step - loss: 6.9954 - mean_absolute_error: 1.7704\n",
      "Epoch 9/125\n",
      "584/584 [==============================] - 18s 31ms/step - loss: 6.7629 - mean_absolute_error: 1.7420\n",
      "Epoch 10/125\n",
      "584/584 [==============================] - 19s 32ms/step - loss: 6.5620 - mean_absolute_error: 1.7134\n",
      "Epoch 11/125\n",
      "584/584 [==============================] - 19s 33ms/step - loss: 6.1563 - mean_absolute_error: 1.6593\n",
      "Epoch 12/125\n",
      "584/584 [==============================] - 20s 34ms/step - loss: 6.0213 - mean_absolute_error: 1.6434\n",
      "Epoch 13/125\n",
      "584/584 [==============================] - 25s 43ms/step - loss: 5.7968 - mean_absolute_error: 1.6086\n",
      "Epoch 14/125\n",
      "584/584 [==============================] - 24s 41ms/step - loss: 5.4302 - mean_absolute_error: 1.5542\n",
      "Epoch 15/125\n",
      "584/584 [==============================] - 20s 35ms/step - loss: 5.4101 - mean_absolute_error: 1.5519\n",
      "Epoch 16/125\n",
      "584/584 [==============================] - 19s 33ms/step - loss: 5.2442 - mean_absolute_error: 1.5312\n",
      "Epoch 17/125\n",
      "584/584 [==============================] - 19s 33ms/step - loss: 5.0810 - mean_absolute_error: 1.5072\n",
      "Epoch 18/125\n",
      "584/584 [==============================] - 20s 34ms/step - loss: 4.8936 - mean_absolute_error: 1.4770\n",
      "Epoch 19/125\n",
      "584/584 [==============================] - 20s 34ms/step - loss: 4.6125 - mean_absolute_error: 1.4326\n",
      "Epoch 20/125\n",
      "584/584 [==============================] - 19s 32ms/step - loss: 4.5653 - mean_absolute_error: 1.4304\n",
      "Epoch 21/125\n",
      "584/584 [==============================] - 19s 33ms/step - loss: 4.4033 - mean_absolute_error: 1.4089\n",
      "Epoch 22/125\n",
      "584/584 [==============================] - 19s 33ms/step - loss: 4.3295 - mean_absolute_error: 1.3891\n",
      "Epoch 23/125\n",
      "584/584 [==============================] - 19s 33ms/step - loss: 4.1810 - mean_absolute_error: 1.3658\n",
      "Epoch 24/125\n",
      "584/584 [==============================] - 19s 33ms/step - loss: 3.9522 - mean_absolute_error: 1.3301\n",
      "Epoch 25/125\n",
      "584/584 [==============================] - 19s 33ms/step - loss: 3.9224 - mean_absolute_error: 1.3190\n",
      "Epoch 26/125\n",
      "584/584 [==============================] - 20s 34ms/step - loss: 3.8782 - mean_absolute_error: 1.3108\n",
      "Epoch 27/125\n",
      "584/584 [==============================] - 19s 33ms/step - loss: 3.7539 - mean_absolute_error: 1.2879\n",
      "Epoch 28/125\n",
      "584/584 [==============================] - 19s 33ms/step - loss: 3.5652 - mean_absolute_error: 1.2548\n",
      "Epoch 29/125\n",
      "584/584 [==============================] - 21s 36ms/step - loss: 3.5439 - mean_absolute_error: 1.2534\n",
      "Epoch 30/125\n",
      "584/584 [==============================] - 21s 36ms/step - loss: 3.4467 - mean_absolute_error: 1.2328\n",
      "Epoch 31/125\n",
      "584/584 [==============================] - 20s 34ms/step - loss: 3.3357 - mean_absolute_error: 1.2112\n",
      "Epoch 32/125\n",
      "584/584 [==============================] - 22s 37ms/step - loss: 3.4820 - mean_absolute_error: 1.2364\n",
      "Epoch 33/125\n",
      "584/584 [==============================] - 19s 33ms/step - loss: 3.2445 - mean_absolute_error: 1.1934\n",
      "Epoch 34/125\n",
      "584/584 [==============================] - 19s 33ms/step - loss: 3.1423 - mean_absolute_error: 1.1723\n",
      "Epoch 35/125\n",
      "584/584 [==============================] - 20s 33ms/step - loss: 3.0415 - mean_absolute_error: 1.1568\n",
      "Epoch 36/125\n",
      "584/584 [==============================] - 19s 33ms/step - loss: 3.0423 - mean_absolute_error: 1.1550\n",
      "Epoch 37/125\n",
      "584/584 [==============================] - 19s 33ms/step - loss: 2.9337 - mean_absolute_error: 1.1315\n",
      "Epoch 38/125\n",
      "584/584 [==============================] - 20s 34ms/step - loss: 2.8962 - mean_absolute_error: 1.1278\n",
      "Epoch 39/125\n",
      "584/584 [==============================] - 21s 35ms/step - loss: 2.7897 - mean_absolute_error: 1.1087\n",
      "Epoch 40/125\n",
      "584/584 [==============================] - 21s 36ms/step - loss: 2.7613 - mean_absolute_error: 1.1007\n",
      "Epoch 41/125\n",
      "584/584 [==============================] - 22s 37ms/step - loss: 2.6578 - mean_absolute_error: 1.0825\n",
      "Epoch 42/125\n",
      "584/584 [==============================] - 21s 36ms/step - loss: 2.6765 - mean_absolute_error: 1.0878\n",
      "Epoch 43/125\n",
      "584/584 [==============================] - 22s 37ms/step - loss: 2.6755 - mean_absolute_error: 1.0901\n",
      "Epoch 44/125\n",
      "584/584 [==============================] - 20s 34ms/step - loss: 2.5828 - mean_absolute_error: 1.0690\n",
      "Epoch 45/125\n",
      "584/584 [==============================] - 21s 36ms/step - loss: 2.4964 - mean_absolute_error: 1.0562\n",
      "Epoch 46/125\n",
      "584/584 [==============================] - 21s 36ms/step - loss: 2.4409 - mean_absolute_error: 1.0402\n",
      "Epoch 47/125\n",
      "584/584 [==============================] - 21s 36ms/step - loss: 2.4768 - mean_absolute_error: 1.0527\n",
      "Epoch 48/125\n",
      "584/584 [==============================] - 22s 37ms/step - loss: 2.3919 - mean_absolute_error: 1.0317\n",
      "Epoch 49/125\n",
      "584/584 [==============================] - 22s 37ms/step - loss: 2.3359 - mean_absolute_error: 1.0211\n",
      "Epoch 50/125\n",
      "584/584 [==============================] - 20s 33ms/step - loss: 2.3296 - mean_absolute_error: 1.0213\n",
      "Epoch 51/125\n",
      "584/584 [==============================] - 18s 31ms/step - loss: 2.2339 - mean_absolute_error: 0.9985\n",
      "Epoch 52/125\n",
      "584/584 [==============================] - 20s 35ms/step - loss: 2.2455 - mean_absolute_error: 1.0010\n",
      "Epoch 53/125\n",
      "584/584 [==============================] - 21s 36ms/step - loss: 2.1852 - mean_absolute_error: 0.9903\n",
      "Epoch 54/125\n",
      "584/584 [==============================] - 19s 33ms/step - loss: 2.1595 - mean_absolute_error: 0.9837\n",
      "Epoch 55/125\n",
      "584/584 [==============================] - 19s 32ms/step - loss: 2.0666 - mean_absolute_error: 0.9612\n",
      "Epoch 56/125\n",
      "584/584 [==============================] - 19s 32ms/step - loss: 2.1011 - mean_absolute_error: 0.9722\n",
      "Epoch 57/125\n",
      "584/584 [==============================] - 19s 32ms/step - loss: 2.0899 - mean_absolute_error: 0.9700\n",
      "Epoch 58/125\n",
      "584/584 [==============================] - 19s 32ms/step - loss: 1.9920 - mean_absolute_error: 0.9496\n",
      "Epoch 59/125\n",
      "584/584 [==============================] - 19s 32ms/step - loss: 2.0185 - mean_absolute_error: 0.9540\n",
      "Epoch 60/125\n",
      "584/584 [==============================] - 19s 32ms/step - loss: 1.9483 - mean_absolute_error: 0.9330\n",
      "Epoch 61/125\n",
      "584/584 [==============================] - 19s 32ms/step - loss: 1.8968 - mean_absolute_error: 0.9279\n",
      "Epoch 62/125\n",
      "584/584 [==============================] - 19s 32ms/step - loss: 1.8915 - mean_absolute_error: 0.9222\n",
      "Epoch 63/125\n",
      "584/584 [==============================] - 19s 32ms/step - loss: 1.8432 - mean_absolute_error: 0.9141\n",
      "Epoch 64/125\n",
      "584/584 [==============================] - 19s 32ms/step - loss: 1.8037 - mean_absolute_error: 0.9050\n",
      "Epoch 65/125\n",
      "584/584 [==============================] - 19s 32ms/step - loss: 1.8651 - mean_absolute_error: 0.9197\n",
      "Epoch 66/125\n",
      "584/584 [==============================] - 19s 32ms/step - loss: 1.8118 - mean_absolute_error: 0.9073\n",
      "Epoch 67/125\n",
      "584/584 [==============================] - 20s 34ms/step - loss: 1.7553 - mean_absolute_error: 0.8922\n",
      "Epoch 68/125\n",
      "584/584 [==============================] - 19s 33ms/step - loss: 1.7437 - mean_absolute_error: 0.8888\n",
      "Epoch 69/125\n",
      "584/584 [==============================] - 19s 33ms/step - loss: 1.7218 - mean_absolute_error: 0.8861\n",
      "Epoch 70/125\n",
      "584/584 [==============================] - 19s 33ms/step - loss: 1.6439 - mean_absolute_error: 0.8665\n",
      "Epoch 71/125\n",
      "584/584 [==============================] - 19s 32ms/step - loss: 1.7036 - mean_absolute_error: 0.8811\n",
      "Epoch 72/125\n"
     ]
    },
    {
     "name": "stdout",
     "output_type": "stream",
     "text": [
      "584/584 [==============================] - 19s 33ms/step - loss: 1.6095 - mean_absolute_error: 0.8602\n",
      "Epoch 73/125\n",
      "584/584 [==============================] - 22s 38ms/step - loss: 1.5915 - mean_absolute_error: 0.8556\n",
      "Epoch 74/125\n",
      "584/584 [==============================] - 21s 37ms/step - loss: 1.5867 - mean_absolute_error: 0.8535\n",
      "Epoch 75/125\n",
      "584/584 [==============================] - 20s 34ms/step - loss: 1.5433 - mean_absolute_error: 0.8447\n",
      "Epoch 76/125\n",
      "584/584 [==============================] - 21s 35ms/step - loss: 1.5072 - mean_absolute_error: 0.8322\n",
      "Epoch 77/125\n",
      "584/584 [==============================] - 19s 33ms/step - loss: 1.5206 - mean_absolute_error: 0.8330\n",
      "Epoch 78/125\n",
      "584/584 [==============================] - 20s 34ms/step - loss: 1.4884 - mean_absolute_error: 0.8310\n",
      "Epoch 79/125\n",
      "584/584 [==============================] - 20s 34ms/step - loss: 1.4459 - mean_absolute_error: 0.8179\n",
      "Epoch 80/125\n",
      "584/584 [==============================] - 20s 34ms/step - loss: 1.4539 - mean_absolute_error: 0.8198\n",
      "Epoch 81/125\n",
      "584/584 [==============================] - 20s 35ms/step - loss: 1.4360 - mean_absolute_error: 0.8189\n",
      "Epoch 82/125\n",
      "584/584 [==============================] - 20s 35ms/step - loss: 1.3828 - mean_absolute_error: 0.8060\n",
      "Epoch 83/125\n",
      "584/584 [==============================] - 20s 35ms/step - loss: 1.3834 - mean_absolute_error: 0.8074\n",
      "Epoch 84/125\n",
      "584/584 [==============================] - 20s 35ms/step - loss: 1.3892 - mean_absolute_error: 0.8015\n",
      "Epoch 85/125\n",
      "584/584 [==============================] - 19s 33ms/step - loss: 1.3788 - mean_absolute_error: 0.8027\n",
      "Epoch 86/125\n",
      "584/584 [==============================] - 20s 34ms/step - loss: 1.3287 - mean_absolute_error: 0.7873\n",
      "Epoch 87/125\n",
      "584/584 [==============================] - 20s 35ms/step - loss: 1.3432 - mean_absolute_error: 0.7881\n",
      "Epoch 88/125\n",
      "584/584 [==============================] - 20s 35ms/step - loss: 1.2912 - mean_absolute_error: 0.7777\n",
      "Epoch 89/125\n",
      "584/584 [==============================] - 20s 35ms/step - loss: 1.3608 - mean_absolute_error: 0.7948\n",
      "Epoch 90/125\n",
      "584/584 [==============================] - 19s 33ms/step - loss: 1.2395 - mean_absolute_error: 0.7613\n",
      "Epoch 91/125\n",
      "584/584 [==============================] - 20s 35ms/step - loss: 1.2837 - mean_absolute_error: 0.7794\n",
      "Epoch 92/125\n",
      "584/584 [==============================] - 20s 34ms/step - loss: 1.2349 - mean_absolute_error: 0.7618\n",
      "Epoch 93/125\n",
      "584/584 [==============================] - 20s 35ms/step - loss: 1.2574 - mean_absolute_error: 0.7708\n",
      "Epoch 94/125\n",
      "584/584 [==============================] - 21s 35ms/step - loss: 1.2504 - mean_absolute_error: 0.7629\n",
      "Epoch 95/125\n",
      "584/584 [==============================] - 21s 36ms/step - loss: 1.2577 - mean_absolute_error: 0.7705\n",
      "Epoch 96/125\n",
      "584/584 [==============================] - 20s 34ms/step - loss: 1.1948 - mean_absolute_error: 0.7529\n",
      "Epoch 97/125\n",
      "584/584 [==============================] - 20s 35ms/step - loss: 1.1642 - mean_absolute_error: 0.7433\n",
      "Epoch 98/125\n",
      "584/584 [==============================] - 21s 37ms/step - loss: 1.2717 - mean_absolute_error: 0.7715\n",
      "Epoch 99/125\n",
      "584/584 [==============================] - 20s 34ms/step - loss: 1.1302 - mean_absolute_error: 0.7337\n",
      "Epoch 100/125\n",
      "584/584 [==============================] - 21s 35ms/step - loss: 1.1311 - mean_absolute_error: 0.7338\n",
      "Epoch 101/125\n",
      "584/584 [==============================] - 19s 33ms/step - loss: 1.1610 - mean_absolute_error: 0.7444\n",
      "Epoch 102/125\n",
      "584/584 [==============================] - 20s 34ms/step - loss: 1.1165 - mean_absolute_error: 0.7300\n",
      "Epoch 103/125\n",
      "584/584 [==============================] - 19s 33ms/step - loss: 1.1424 - mean_absolute_error: 0.7339\n",
      "Epoch 104/125\n",
      "584/584 [==============================] - 20s 34ms/step - loss: 1.0719 - mean_absolute_error: 0.7154\n",
      "Epoch 105/125\n",
      "584/584 [==============================] - 19s 33ms/step - loss: 1.0722 - mean_absolute_error: 0.7170\n",
      "Epoch 106/125\n",
      "584/584 [==============================] - 19s 33ms/step - loss: 1.0890 - mean_absolute_error: 0.7207\n",
      "Epoch 107/125\n",
      "584/584 [==============================] - 19s 33ms/step - loss: 1.1047 - mean_absolute_error: 0.7250\n",
      "Epoch 108/125\n",
      "584/584 [==============================] - 19s 33ms/step - loss: 1.0993 - mean_absolute_error: 0.7262\n",
      "Epoch 109/125\n",
      "584/584 [==============================] - 19s 33ms/step - loss: 1.0873 - mean_absolute_error: 0.7184\n",
      "Epoch 110/125\n",
      "584/584 [==============================] - 20s 34ms/step - loss: 0.9962 - mean_absolute_error: 0.6945\n",
      "Epoch 111/125\n",
      "584/584 [==============================] - 20s 35ms/step - loss: 0.9788 - mean_absolute_error: 0.6896\n",
      "Epoch 112/125\n",
      "584/584 [==============================] - 20s 35ms/step - loss: 1.0361 - mean_absolute_error: 0.7062\n",
      "Epoch 113/125\n",
      "584/584 [==============================] - 20s 35ms/step - loss: 0.9978 - mean_absolute_error: 0.6947\n",
      "Epoch 114/125\n",
      "584/584 [==============================] - 20s 35ms/step - loss: 1.0111 - mean_absolute_error: 0.6978\n",
      "Epoch 115/125\n",
      "584/584 [==============================] - 36s 62ms/step - loss: 1.0223 - mean_absolute_error: 0.7004\n",
      "Epoch 116/125\n",
      "584/584 [==============================] - 22s 38ms/step - loss: 1.0212 - mean_absolute_error: 0.6995\n",
      "Epoch 117/125\n",
      "584/584 [==============================] - 21s 36ms/step - loss: 0.9724 - mean_absolute_error: 0.6847\n",
      "Epoch 118/125\n",
      "584/584 [==============================] - 23s 40ms/step - loss: 0.9676 - mean_absolute_error: 0.6871\n",
      "Epoch 119/125\n",
      "584/584 [==============================] - 22s 38ms/step - loss: 0.9159 - mean_absolute_error: 0.6659\n",
      "Epoch 120/125\n",
      "584/584 [==============================] - 16s 27ms/step - loss: 0.9537 - mean_absolute_error: 0.6807\n",
      "Epoch 121/125\n",
      "584/584 [==============================] - 15s 26ms/step - loss: 0.9909 - mean_absolute_error: 0.6906\n",
      "Epoch 122/125\n",
      "584/584 [==============================] - 15s 26ms/step - loss: 0.9146 - mean_absolute_error: 0.6700\n",
      "Epoch 123/125\n",
      "584/584 [==============================] - 15s 26ms/step - loss: 0.9361 - mean_absolute_error: 0.6756\n",
      "Epoch 124/125\n",
      "584/584 [==============================] - 16s 27ms/step - loss: 0.8977 - mean_absolute_error: 0.6616\n",
      "Epoch 125/125\n",
      "584/584 [==============================] - 16s 27ms/step - loss: 0.9234 - mean_absolute_error: 0.6689\n"
     ]
    }
   ],
   "source": [
    "# Sequential model developed using hyperparameter obtained from k-fold cross validation\n",
    "\n",
    "vocab_size = 17\n",
    "\n",
    "model = tf.keras.Sequential()\n",
    " \n",
    "model.add(tf.keras.layers.Embedding(input_dim=vocab_size, output_dim=padded_len, mask_zero=True))\n",
    "model.add(tf.keras.layers.GRU(48))\n",
    "model.add(tf.keras.layers.Dense(padded_len, activation=\"relu\"))\n",
    "model.add(tf.keras.layers.Dense(55, activation=\"relu\"))\n",
    "model.add(tf.keras.layers.Dense(50, activation=\"relu\"))\n",
    "model.add(tf.keras.layers.Dense(45, activation=\"relu\"))\n",
    "model.add(tf.keras.layers.Dense(40, activation=\"relu\"))\n",
    "model.add(tf.keras.layers.Dense(35, activation=\"relu\"))\n",
    "model.add(tf.keras.layers.Dense(30, activation=\"relu\"))\n",
    "model.add(tf.keras.layers.Dense(25, activation=\"relu\"))\n",
    "model.add(tf.keras.layers.Dense(20, activation=\"relu\"))\n",
    "model.add(tf.keras.layers.Dense(15, activation=\"relu\"))\n",
    "model.add(tf.keras.layers.Dense(10, activation=\"relu\"))\n",
    "model.add(tf.keras.layers.Dense(5, activation=\"relu\"))\n",
    "\n",
    "# regression, so no activation\n",
    "model.add(tf.keras.layers.Dense(1))\n",
    "    \n",
    "# compile the model\n",
    "model.compile(loss = tf.losses.MeanSquaredError(), optimizer = tf.optimizers.Adam(), metrics = tf.metrics.MeanAbsoluteError())\n",
    "    \n",
    "# train the model\n",
    "model_history = model.fit(padded_train_X, train_y, batch_size=32, epochs=125)"
   ]
  },
  {
   "cell_type": "code",
   "execution_count": 31,
   "id": "942476da",
   "metadata": {},
   "outputs": [
    {
     "data": {
      "image/png": "[encoded data removed]",
      "text/plain": [
       "<Figure size 432x288 with 1 Axes>"
      ]
     },
     "metadata": {
      "needs_background": "light"
     },
     "output_type": "display_data"
    },
    {
     "data": {
      "image/png": "[encoded data removed]",
      "text/plain": [
       "<Figure size 432x288 with 1 Axes>"
      ]
     },
     "metadata": {
      "needs_background": "light"
     },
     "output_type": "display_data"
    }
   ],
   "source": [
    "# plotting mse loss\n",
    "training_mse_loss = model_history.history['loss']\n",
    "training_mae_loss = model_history.history['mean_absolute_error']\n",
    "\n",
    "epoch_count = range(0,len(training_mse_loss))\n",
    "\n",
    "plt.plot(epoch_count, training_mse_loss[0:], 'r--')\n",
    "plt.legend(['Training MSE Loss'])\n",
    "plt.xlabel('Epoch')\n",
    "plt.ylabel('Loss')\n",
    "plt.show();\n",
    "\n",
    "plt.plot(epoch_count, training_mae_loss[0:], 'b--')\n",
    "plt.legend(['Training MAE Loss'])\n",
    "plt.xlabel('Epoch')\n",
    "plt.ylabel('Loss')\n",
    "plt.show();"
   ]
  },
  {
   "cell_type": "code",
   "execution_count": 32,
   "id": "5321359c",
   "metadata": {},
   "outputs": [
    {
     "name": "stdout",
     "output_type": "stream",
     "text": [
      "195/195 [==============================] - 3s 8ms/step\n",
      "584/584 [==============================] - 4s 8ms/step\n"
     ]
    }
   ],
   "source": [
    "# evaluate on test data\n",
    "yhat = model.predict(padded_test_X)\n",
    "\n",
    "# evaluate on train data\n",
    "yhat_train = model.predict(padded_train_X)"
   ]
  },
  {
   "cell_type": "code",
   "execution_count": 33,
   "id": "ae035a4a",
   "metadata": {},
   "outputs": [
    {
     "name": "stdout",
     "output_type": "stream",
     "text": [
      "test metrics\n",
      "1.0444861640249528\n",
      "2.8019231901709416\n",
      "0.9506072036423272\n",
      "train metrics\n",
      "0.6371567159536304\n",
      "0.8376494477138817\n",
      "0.9852355321373691\n"
     ]
    },
    {
     "data": {
      "image/png": "[encoded data removed]",
      "text/plain": [
       "<Figure size 432x288 with 1 Axes>"
      ]
     },
     "metadata": {
      "needs_background": "light"
     },
     "output_type": "display_data"
    }
   ],
   "source": [
    "print(\"test metrics\")\n",
    "mae_test = metrics.mean_absolute_error(test_y,yhat)\n",
    "mse_test = metrics.mean_squared_error(test_y,yhat)\n",
    "r2_test = metrics.r2_score(test_y,yhat)\n",
    "\n",
    "print(mae_test)\n",
    "print(mse_test)\n",
    "print(r2_test)\n",
    "\n",
    "print(\"train metrics\")\n",
    "mae_train = metrics.mean_absolute_error(train_y,yhat_train)\n",
    "mse_train = metrics.mean_squared_error(train_y,yhat_train)\n",
    "r2_train = metrics.r2_score(train_y,yhat_train)\n",
    "\n",
    "print(mae_train)\n",
    "print(mse_train)\n",
    "print(r2_train)\n",
    "\n",
    "plt.scatter(train_y,yhat_train,color = 'purple')\n",
    "plt.scatter(test_y,yhat, color = 'green')\n",
    "plt.plot(train_y,train_y, 'r--')\n",
    "#plt.title('Parity plot')\n",
    "plt.ylabel('predicted $O_{2}$ barrier \\n (kcal/mol)')\n",
    "plt.xlabel('actual $O_{2}$ barrier \\n (kcal/mol)')\n",
    "plt.legend(['train_set', 'test_set'])\n",
    "plt.show()"
   ]
  },
  {
   "cell_type": "markdown",
   "id": "5168edeb",
   "metadata": {},
   "source": [
    "# saving the trained model"
   ]
  },
  {
   "cell_type": "code",
   "execution_count": 34,
   "id": "c21a506f",
   "metadata": {},
   "outputs": [],
   "source": [
    "from tensorflow.keras.models import save_model\n",
    "from tensorflow.keras.models import load_model"
   ]
  },
  {
   "cell_type": "code",
   "execution_count": 35,
   "id": "7d006520",
   "metadata": {},
   "outputs": [],
   "source": [
    "# save the model to disk\n",
    "filename = 'output/O2_barrier_stablestrong/O2_barrier_finalmodel2.h5'\n",
    "save_model(model, filename)"
   ]
  },
  {
   "cell_type": "markdown",
   "id": "1020f3af",
   "metadata": {},
   "source": [
    "# loading the saved model"
   ]
  },
  {
   "cell_type": "code",
   "execution_count": 36,
   "id": "633b93bc",
   "metadata": {},
   "outputs": [],
   "source": [
    "# load the model from disk\n",
    "filename = 'output/O2_barrier_stablestrong/O2_barrier_finalmodel2.h5'\n",
    "loaded_model = load_model(filename)"
   ]
  },
  {
   "cell_type": "markdown",
   "id": "9d842a06",
   "metadata": {},
   "source": [
    "# testing the saved model"
   ]
  },
  {
   "cell_type": "code",
   "execution_count": 37,
   "id": "580e9f00",
   "metadata": {},
   "outputs": [
    {
     "name": "stdout",
     "output_type": "stream",
     "text": [
      "195/195 [==============================] - 3s 8ms/step\n",
      "584/584 [==============================] - 4s 7ms/step\n"
     ]
    }
   ],
   "source": [
    "# evaluate on train and test data\n",
    "yhat_test_loaded = loaded_model.predict(padded_test_X)\n",
    "yhat_train_loaded = loaded_model.predict(padded_train_X)"
   ]
  },
  {
   "cell_type": "code",
   "execution_count": 38,
   "id": "62b2f2de",
   "metadata": {},
   "outputs": [
    {
     "name": "stdout",
     "output_type": "stream",
     "text": [
      "test metrics\n",
      "1.0444861640249528\n",
      "2.8019231901709416\n",
      "0.9506072036423272\n",
      "train metrics\n",
      "0.6371567159536304\n",
      "0.8376494477138817\n",
      "0.9852355321373691\n"
     ]
    }
   ],
   "source": [
    "print(\"test metrics\")\n",
    "mae_test = metrics.mean_absolute_error(test_y,yhat_test_loaded)\n",
    "mse_test = metrics.mean_squared_error(test_y,yhat_test_loaded)\n",
    "r2_test = metrics.r2_score(test_y,yhat_test_loaded)\n",
    "\n",
    "print(mae_test)\n",
    "print(mse_test)\n",
    "print(r2_test)\n",
    "\n",
    "print(\"train metrics\")\n",
    "mae_train = metrics.mean_absolute_error(train_y,yhat_train_loaded)\n",
    "mse_train = metrics.mean_squared_error(train_y,yhat_train_loaded)\n",
    "r2_train = metrics.r2_score(train_y,yhat_train_loaded)\n",
    "\n",
    "print(mae_train)\n",
    "print(mse_train)\n",
    "print(r2_train)"
   ]
  },
  {
   "cell_type": "code",
   "execution_count": 39,
   "id": "136d271b",
   "metadata": {},
   "outputs": [
    {
     "data": {
      "image/png": "[encoded data removed]",
      "text/plain": [
       "<Figure size 432x288 with 1 Axes>"
      ]
     },
     "metadata": {
      "needs_background": "light"
     },
     "output_type": "display_data"
    }
   ],
   "source": [
    "plt.scatter(train_y,yhat_train_loaded,color = 'purple')\n",
    "plt.scatter(test_y,yhat_test_loaded, color = 'green')\n",
    "plt.plot(train_y,train_y, 'r--')\n",
    "\n",
    "plt.ylabel('predicted $\\\\rm O_{2}$ barrier \\n (kcal/mol)', fontname=\"Arial\", fontsize=24)\n",
    "plt.xlabel('actual $\\\\rm O_{2}$ barrier \\n (kcal/mol)', fontname=\"Arial\", fontsize=24)\n",
    "plt.legend(['train set', 'test set'], fontsize=\"18\" )\n",
    "plt.xticks(fontsize=20, fontname=\"Arial\")\n",
    "plt.yticks(fontsize=20, fontname=\"Arial\")\n",
    "plt.savefig(\"figures/O2_barrier_stablestrong/final2_parityplot.png\", format=\"png\", dpi=1600, bbox_inches='tight')\n",
    "plt.show()"
   ]
  },
  {
   "cell_type": "markdown",
   "id": "630b3482",
   "metadata": {},
   "source": [
    "# Predicting O2 Barriers for stable nanopores obtained using STRONGs algorithm"
   ]
  },
  {
   "cell_type": "code",
   "execution_count": 40,
   "id": "3066552b",
   "metadata": {},
   "outputs": [
    {
     "name": "stdout",
     "output_type": "stream",
     "text": [
      "<class 'pandas.core.frame.DataFrame'>\n",
      "RangeIndex: 188180 entries, 0 to 188179\n",
      "Data columns (total 8 columns):\n",
      " #   Column                   Non-Null Count   Dtype  \n",
      "---  ------                   --------------   -----  \n",
      " 0   pore_number              188180 non-null  int64  \n",
      " 1   N                        188180 non-null  int64  \n",
      " 2   STRONG                   188180 non-null  object \n",
      " 3   Canonical_STRONG         188180 non-null  object \n",
      " 4   x_coord                  188180 non-null  float64\n",
      " 5   y_coord                  188180 non-null  float64\n",
      " 6   radius                   188180 non-null  float64\n",
      " 7   Canonical_STRONG_radius  188180 non-null  object \n",
      "dtypes: float64(3), int64(2), object(3)\n",
      "memory usage: 11.5+ MB\n"
     ]
    }
   ],
   "source": [
    "# Feature Data - Canonical STRONGs for stable nanopores\n",
    "\n",
    "csv_data_stable_nanopores = pd.read_csv('input/stable_strongs.csv')\n",
    "csv_data_stable_nanopores.info()"
   ]
  },
  {
   "cell_type": "code",
   "execution_count": 41,
   "id": "66a3253c",
   "metadata": {},
   "outputs": [],
   "source": [
    "# Tokenization of Feature Data\n",
    "\n",
    "stable_nanopores_STRONG_X = tokenizer.texts_to_sequences(csv_data_stable_nanopores['Canonical_STRONG_radius'])\n",
    "stable_nanopores_padded_X = tf.keras.preprocessing.sequence.pad_sequences(stable_nanopores_STRONG_X, padding=\"post\", maxlen = padded_len)"
   ]
  },
  {
   "cell_type": "code",
   "execution_count": 42,
   "id": "7b8a2ed1",
   "metadata": {},
   "outputs": [
    {
     "name": "stdout",
     "output_type": "stream",
     "text": [
      "5881/5881 [==============================] - 44s 8ms/step\n"
     ]
    }
   ],
   "source": [
    "# Calculating O2 barriers for stable nanopores\n",
    "stable_nanopores_yhat = loaded_model.predict(stable_nanopores_padded_X)"
   ]
  },
  {
   "cell_type": "code",
   "execution_count": 43,
   "id": "b2d70102",
   "metadata": {},
   "outputs": [],
   "source": [
    "# saving the N2 barrier for stable nanopores\n",
    "type(stable_nanopores_yhat)\n",
    "np.savetxt('output/O2_barrier_stablestrong/stablestrong_barrierO2_final2.csv', stable_nanopores_yhat)"
   ]
  },
  {
   "cell_type": "markdown",
   "id": "9b953c76",
   "metadata": {},
   "source": [
    "# Performance Check"
   ]
  },
  {
   "cell_type": "code",
   "execution_count": 44,
   "id": "c0ae4119",
   "metadata": {},
   "outputs": [],
   "source": [
    "y_train = train_y.to_numpy()\n",
    "y_train = y_train.reshape(18663,1)\n",
    "delta_train =  abs(y_train - yhat_train_loaded)\n",
    "\n",
    "y_test = test_y.to_numpy()\n",
    "y_test = y_test.reshape(6221,1)\n",
    "delta_test =  abs(y_test - yhat_test_loaded)"
   ]
  },
  {
   "cell_type": "code",
   "execution_count": 45,
   "id": "dc44bfeb",
   "metadata": {},
   "outputs": [
    {
     "data": {
      "image/png": "[encoded data removed]",
      "text/plain": [
       "<Figure size 432x288 with 1 Axes>"
      ]
     },
     "metadata": {
      "needs_background": "light"
     },
     "output_type": "display_data"
    },
    {
     "data": {
      "image/png": "[encoded data removed]",
      "text/plain": [
       "<Figure size 432x288 with 1 Axes>"
      ]
     },
     "metadata": {
      "needs_background": "light"
     },
     "output_type": "display_data"
    }
   ],
   "source": [
    "import matplotlib.pyplot as plt\n",
    "import numpy as np\n",
    "\n",
    "plt.hist(delta_train, bins=30, edgecolor='black')\n",
    "plt.xlabel('train absolute error (kcal/mol)')\n",
    "plt.ylabel('frequency')\n",
    "plt.grid(True)\n",
    "plt.show()\n",
    "\n",
    "\n",
    "plt.hist(delta_test, bins=50, edgecolor='black')\n",
    "plt.xlabel('test absolute error (kcal/mol)')\n",
    "plt.ylabel('frequency')\n",
    "plt.grid(True)\n",
    "plt.show()"
   ]
  },
  {
   "cell_type": "code",
   "execution_count": null,
   "id": "026474a8",
   "metadata": {},
   "outputs": [],
   "source": []
  }
 ],
 "metadata": {
  "kernelspec": {
   "display_name": "Python 3 (ipykernel)",
   "language": "python",
   "name": "python3"
  },
  "language_info": {
   "codemirror_mode": {
    "name": "ipython",
    "version": 3
   },
   "file_extension": ".py",
   "mimetype": "text/x-python",
   "name": "python",
   "nbconvert_exporter": "python",
   "pygments_lexer": "ipython3",
   "version": "3.9.12"
  }
 },
 "nbformat": 4,
 "nbformat_minor": 5
}
