{
 "cells": [
  {
   "cell_type": "code",
   "execution_count": 65,
   "id": "049a5669",
   "metadata": {},
   "outputs": [],
   "source": [
    "import pandas as pd\n",
    "import numpy as np\n",
    "\n",
    "import matplotlib as mpl\n",
    "import matplotlib.pyplot as plt\n",
    "\n",
    "\n",
    "import random \n",
    "import math\n",
    "\n",
    "import sklearn\n",
    "from sklearn.model_selection import train_test_split\n",
    "from sklearn.model_selection import KFold\n",
    "from sklearn import metrics\n",
    "from sklearn.model_selection import GridSearchCV\n",
    "from sklearn.metrics import r2_score\n",
    "\n",
    "import tensorflow as tf\n",
    "from tensorflow import keras\n",
    "from tensorflow.keras.models import Sequential\n",
    "from tensorflow.keras import layers\n",
    "from tensorflow.keras.layers import Dense, Activation\n",
    "from tensorflow.keras.optimizers import Adam\n",
    "\n",
    "from tensorflow.keras.wrappers.scikit_learn import KerasRegressor"
   ]
  },
  {
   "cell_type": "code",
   "execution_count": 66,
   "id": "e41d0fc8",
   "metadata": {},
   "outputs": [
    {
     "name": "stdout",
     "output_type": "stream",
     "text": [
      "<class 'pandas.core.frame.DataFrame'>\n",
      "RangeIndex: 24884 entries, 0 to 24883\n",
      "Data columns (total 8 columns):\n",
      " #   Column                   Non-Null Count  Dtype  \n",
      "---  ------                   --------------  -----  \n",
      " 0   pore_number              24884 non-null  int64  \n",
      " 1   N                        24884 non-null  int64  \n",
      " 2   Canonical_STRONGs        24884 non-null  object \n",
      " 3   radius                   24884 non-null  float64\n",
      " 4   Canonical_STRONG_radius  24884 non-null  object \n",
      " 5   barrier_CO2              24884 non-null  float64\n",
      " 6   barrier_N2               24884 non-null  float64\n",
      " 7   barrier_O2               24884 non-null  float64\n",
      "dtypes: float64(4), int64(2), object(2)\n",
      "memory usage: 1.5+ MB\n",
      "225AAFFFZFFAAFFZFFAAFFZFFFZFACAFFFZFFZF\n",
      "3.27\n"
     ]
    }
   ],
   "source": [
    "# Data Pre-processing- splitting the dataset into test/train set \n",
    "\n",
    "csv_data = pd.read_csv('input/barrier_fluegas_final2.csv')\n",
    "csv_data.info()\n",
    "\n",
    "train_X, test_X, train_y, test_y = train_test_split(csv_data.Canonical_STRONG_radius, csv_data.barrier_CO2, test_size = 0.25, random_state = 42)\n",
    "train_X, train_y = train_X.reset_index(drop=True), train_y.reset_index(drop=True)\n",
    "test_X, test_y = test_X.reset_index(drop=True), test_y.reset_index(drop=True)\n",
    "\n",
    "print(train_X[1])\n",
    "print(train_y[1])"
   ]
  },
  {
   "cell_type": "code",
   "execution_count": 67,
   "id": "8e3bf27b",
   "metadata": {},
   "outputs": [],
   "source": [
    "# Block - Data pre-processing (tokenization)\n",
    "\n",
    "tokenizer = tf.keras.preprocessing.text.Tokenizer(\n",
    "    num_words = None, # maximum number of words to keep\n",
    "    filters=\"\", #find each character after other  \n",
    "    char_level=True # treat each character as token\n",
    ")\n",
    "\n",
    "# updates internal vocabulary based on a list of texts, required before using texts_to_sequences\n",
    "tokenizer.fit_on_texts(train_X)"
   ]
  },
  {
   "cell_type": "code",
   "execution_count": 68,
   "id": "44f0f318",
   "metadata": {},
   "outputs": [
    {
     "name": "stdout",
     "output_type": "stream",
     "text": [
      "[ 5  5 12  2  2  1  1  1  3  1  1  2  2  1  1  3  1  1  2  2  1  1  3  1\n",
      "  1  1  3  1  2  4  2  1  1  1  3  1  1  3  1  0  0  0  0  0  0  0  0  0\n",
      "  0  0  0  0  0  0  0  0  0  0  0  0  0  0]\n",
      "[6 7 5 2 2 1 2 2 1 1 1 3 1 3 1 1 3 1 1 1 2 4 2 1 1 1 2 2 1 1 2 2 1 3 1 3 1\n",
      " 1 1 3 1 3 1 1 1 2 2 1 3 1 1 0 0 0 0 0 0 0 0 0 0 0]\n"
     ]
    }
   ],
   "source": [
    "# Block - Data pre-processing (padding)\n",
    "\n",
    "# transforms each text in texts to a sequence of integers, padded to a length of 50\n",
    "max_len = csv_data.Canonical_STRONG_radius.map(lambda x: len(x)).max()\n",
    "padded_len = max_len + 10\n",
    "\n",
    "train_X = tokenizer.texts_to_sequences(train_X)\n",
    "padded_train_X = tf.keras.preprocessing.sequence.pad_sequences(train_X, padding=\"post\", maxlen = padded_len)\n",
    "test_X = tokenizer.texts_to_sequences(test_X)\n",
    "padded_test_X = tf.keras.preprocessing.sequence.pad_sequences(test_X, padding=\"post\", maxlen = padded_len)\n",
    "\n",
    "print(padded_train_X[1])\n",
    "print(padded_test_X[15])"
   ]
  },
  {
   "cell_type": "code",
   "execution_count": 69,
   "id": "1f0a583d",
   "metadata": {},
   "outputs": [
    {
     "name": "stdout",
     "output_type": "stream",
     "text": [
      "62\n"
     ]
    }
   ],
   "source": [
    "print(padded_len)"
   ]
  },
  {
   "cell_type": "markdown",
   "id": "dfd3e03a",
   "metadata": {},
   "source": [
    "# Hyperparameter Tuning"
   ]
  },
  {
   "cell_type": "code",
   "execution_count": 7,
   "id": "3ed61d13",
   "metadata": {},
   "outputs": [],
   "source": [
    "# K-Fold Cross validation for hyperparameter tuning\n",
    "vocab_size = 17\n",
    "\n",
    "def create_model(embedding_dim, gru_units, dense_units, activation):\n",
    "    model = tf.keras.Sequential()\n",
    "    model.add(tf.keras.layers.Embedding(input_dim=vocab_size, output_dim=embedding_dim, mask_zero=True))\n",
    "    model.add(tf.keras.layers.GRU(gru_units))\n",
    "    \n",
    "    for units in dense_units:\n",
    "        model.add(tf.keras.layers.Dense(units=units, activation=activation))\n",
    "    \n",
    "    model.add(tf.keras.layers.Dense(1))\n",
    "    \n",
    "    model.compile(loss = tf.losses.MeanSquaredError() , optimizer = tf.optimizers.Adam(), metrics = tf.metrics.MeanAbsoluteError())\n",
    "    return model"
   ]
  },
  {
   "cell_type": "code",
   "execution_count": 8,
   "id": "59384dd7",
   "metadata": {},
   "outputs": [],
   "source": [
    "# Parameter Grid to be tuned\n",
    "\n",
    "param_grid = {\n",
    "    'embedding_dim':[32, 48, padded_len],\n",
    "    'gru_units': [32,48, padded_len],\n",
    "    'dense_units':[[padded_len,55,50,45,40,35,30,25,20,15,10,5],[padded_len,60,54,48,42,36,30,24,18,12,6,3],[padded_len,56,48,40,32,24,16,8,4]],\n",
    "    'activation': ['relu'], \n",
    "}"
   ]
  },
  {
   "cell_type": "code",
   "execution_count": 9,
   "id": "cdacc0a5",
   "metadata": {},
   "outputs": [
    {
     "name": "stderr",
     "output_type": "stream",
     "text": [
      "C:\\Users\\91739\\AppData\\Local\\Temp\\ipykernel_14760\\3510641784.py:4: DeprecationWarning: KerasRegressor is deprecated, use Sci-Keras (https://github.com/adriangb/scikeras) instead. See https://www.adriangb.com/scikeras/stable/migration.html for help migrating.\n",
      "  model = KerasRegressor(build_fn=create_model, verbose=0)\n"
     ]
    }
   ],
   "source": [
    "# Grid search CV (5 fold)\n",
    "\n",
    "# create the KerasRegressor warpper with the RNN model function\n",
    "model = KerasRegressor(build_fn=create_model, verbose=0)\n",
    "\n",
    "# define the cross-validation strategy (K-fold)\n",
    "cross_validation = KFold(n_splits=5)\n",
    "\n",
    "# define the GridSearchCV with the model, hyperparameters, and cross-validation\n",
    "grid_search = GridSearchCV(estimator=model, param_grid=param_grid, cv= cross_validation, scoring='r2')"
   ]
  },
  {
   "cell_type": "code",
   "execution_count": 10,
   "id": "711b620c",
   "metadata": {},
   "outputs": [
    {
     "data": {
      "text/plain": [
       "GridSearchCV(cv=KFold(n_splits=5, random_state=None, shuffle=False),\n",
       "             estimator=<keras.wrappers.scikit_learn.KerasRegressor object at 0x0000020BE1C0C190>,\n",
       "             param_grid={'activation': ['relu'],\n",
       "                         'dense_units': [[62, 55, 50, 45, 40, 35, 30, 25, 20,\n",
       "                                          15, 10, 5],\n",
       "                                         [62, 60, 54, 48, 42, 36, 30, 24, 18,\n",
       "                                          12, 6, 3],\n",
       "                                         [62, 56, 48, 40, 32, 24, 16, 8, 4]],\n",
       "                         'embedding_dim': [32, 48, 62],\n",
       "                         'gru_units': [32, 48, 62]},\n",
       "             scoring='r2')"
      ]
     },
     "execution_count": 10,
     "metadata": {},
     "output_type": "execute_result"
    }
   ],
   "source": [
    "grid_search.fit(padded_train_X, train_y)"
   ]
  },
  {
   "cell_type": "code",
   "execution_count": 11,
   "id": "268b0506",
   "metadata": {},
   "outputs": [
    {
     "name": "stdout",
     "output_type": "stream",
     "text": [
      "Best Hyperparameters:  {'activation': 'relu', 'dense_units': [62, 56, 48, 40, 32, 24, 16, 8, 4], 'embedding_dim': 32, 'gru_units': 32}\n",
      "Best R2 Score:  0.776154923708796\n"
     ]
    }
   ],
   "source": [
    "# Print the best hyperparameters and corresponding R2 score\n",
    "print(\"Best Hyperparameters: \", grid_search.best_params_)\n",
    "print(\"Best R2 Score: \", grid_search.best_score_)"
   ]
  },
  {
   "cell_type": "markdown",
   "id": "21a3d146",
   "metadata": {},
   "source": [
    "# Sequential Model"
   ]
  },
  {
   "cell_type": "code",
   "execution_count": 70,
   "id": "18a29a40",
   "metadata": {},
   "outputs": [
    {
     "name": "stdout",
     "output_type": "stream",
     "text": [
      "Epoch 1/200\n",
      "584/584 [==============================] - 19s 25ms/step - loss: 371.9145 - mean_absolute_error: 15.7083\n",
      "Epoch 2/200\n",
      "584/584 [==============================] - 13s 23ms/step - loss: 354.3385 - mean_absolute_error: 15.1371\n",
      "Epoch 3/200\n",
      "584/584 [==============================] - 14s 24ms/step - loss: 337.6328 - mean_absolute_error: 14.5764\n",
      "Epoch 4/200\n",
      "584/584 [==============================] - 14s 24ms/step - loss: 321.7446 - mean_absolute_error: 14.0223\n",
      "Epoch 5/200\n",
      "584/584 [==============================] - 14s 24ms/step - loss: 306.6345 - mean_absolute_error: 13.4838\n",
      "Epoch 6/200\n",
      "584/584 [==============================] - 13s 22ms/step - loss: 292.2430 - mean_absolute_error: 13.0027\n",
      "Epoch 7/200\n",
      "584/584 [==============================] - 13s 22ms/step - loss: 278.5365 - mean_absolute_error: 12.6119\n",
      "Epoch 8/200\n",
      "584/584 [==============================] - 13s 22ms/step - loss: 265.4947 - mean_absolute_error: 12.2697\n",
      "Epoch 9/200\n",
      "584/584 [==============================] - 13s 23ms/step - loss: 253.0914 - mean_absolute_error: 11.9543\n",
      "Epoch 10/200\n",
      "584/584 [==============================] - 13s 23ms/step - loss: 241.3447 - mean_absolute_error: 11.6644\n",
      "Epoch 11/200\n",
      "584/584 [==============================] - 13s 23ms/step - loss: 230.2248 - mean_absolute_error: 11.3990\n",
      "Epoch 12/200\n",
      "584/584 [==============================] - 13s 22ms/step - loss: 219.7295 - mean_absolute_error: 11.1554\n",
      "Epoch 13/200\n",
      "584/584 [==============================] - 13s 23ms/step - loss: 209.8446 - mean_absolute_error: 10.9281\n",
      "Epoch 14/200\n",
      "584/584 [==============================] - 13s 23ms/step - loss: 200.5772 - mean_absolute_error: 10.7125\n",
      "Epoch 15/200\n",
      "584/584 [==============================] - 13s 22ms/step - loss: 191.8935 - mean_absolute_error: 10.5056\n",
      "Epoch 16/200\n",
      "584/584 [==============================] - 13s 23ms/step - loss: 183.8040 - mean_absolute_error: 10.3088\n",
      "Epoch 17/200\n",
      "584/584 [==============================] - 14s 24ms/step - loss: 176.3215 - mean_absolute_error: 10.1210\n",
      "Epoch 18/200\n",
      "584/584 [==============================] - 14s 24ms/step - loss: 169.4157 - mean_absolute_error: 9.9432\n",
      "Epoch 19/200\n",
      "584/584 [==============================] - 14s 24ms/step - loss: 163.0895 - mean_absolute_error: 9.7779\n",
      "Epoch 20/200\n",
      "584/584 [==============================] - 13s 22ms/step - loss: 157.3270 - mean_absolute_error: 9.6252\n",
      "Epoch 21/200\n",
      "584/584 [==============================] - 13s 23ms/step - loss: 152.1234 - mean_absolute_error: 9.4863\n",
      "Epoch 22/200\n",
      "584/584 [==============================] - 13s 22ms/step - loss: 147.4745 - mean_absolute_error: 9.3620\n",
      "Epoch 23/200\n",
      "584/584 [==============================] - 13s 22ms/step - loss: 143.3661 - mean_absolute_error: 9.2527\n",
      "Epoch 24/200\n",
      "584/584 [==============================] - 13s 22ms/step - loss: 139.7454 - mean_absolute_error: 9.1578\n",
      "Epoch 25/200\n",
      "584/584 [==============================] - 13s 22ms/step - loss: 136.6288 - mean_absolute_error: 9.0799\n",
      "Epoch 26/200\n",
      "584/584 [==============================] - 13s 23ms/step - loss: 133.9944 - mean_absolute_error: 9.0174\n",
      "Epoch 27/200\n",
      "584/584 [==============================] - 13s 23ms/step - loss: 131.7901 - mean_absolute_error: 8.9708\n",
      "Epoch 28/200\n",
      "584/584 [==============================] - 14s 23ms/step - loss: 130.0020 - mean_absolute_error: 8.9386\n",
      "Epoch 29/200\n",
      "584/584 [==============================] - 13s 22ms/step - loss: 128.5930 - mean_absolute_error: 8.9190\n",
      "Epoch 30/200\n",
      "584/584 [==============================] - 14s 23ms/step - loss: 127.5050 - mean_absolute_error: 8.9081\n",
      "Epoch 31/200\n",
      "584/584 [==============================] - 13s 23ms/step - loss: 126.7179 - mean_absolute_error: 8.9084\n",
      "Epoch 32/200\n",
      "584/584 [==============================] - 13s 22ms/step - loss: 126.1640 - mean_absolute_error: 8.9116\n",
      "Epoch 33/200\n",
      "584/584 [==============================] - 13s 22ms/step - loss: 125.7757 - mean_absolute_error: 8.9170\n",
      "Epoch 34/200\n",
      "584/584 [==============================] - 14s 23ms/step - loss: 125.5225 - mean_absolute_error: 8.9282\n",
      "Epoch 35/200\n",
      "584/584 [==============================] - 13s 22ms/step - loss: 125.3703 - mean_absolute_error: 8.9363\n",
      "Epoch 36/200\n",
      "584/584 [==============================] - 13s 23ms/step - loss: 125.2748 - mean_absolute_error: 8.9428\n",
      "Epoch 37/200\n",
      "584/584 [==============================] - 13s 22ms/step - loss: 125.2197 - mean_absolute_error: 8.9514\n",
      "Epoch 38/200\n",
      "584/584 [==============================] - 13s 21ms/step - loss: 125.1883 - mean_absolute_error: 8.9567\n",
      "Epoch 39/200\n",
      "584/584 [==============================] - 13s 23ms/step - loss: 125.1698 - mean_absolute_error: 8.9600\n",
      "Epoch 40/200\n",
      "584/584 [==============================] - 13s 23ms/step - loss: 125.1602 - mean_absolute_error: 8.9655\n",
      "Epoch 41/200\n",
      "584/584 [==============================] - 14s 24ms/step - loss: 125.1534 - mean_absolute_error: 8.9667\n",
      "Epoch 42/200\n",
      "584/584 [==============================] - 13s 23ms/step - loss: 125.1508 - mean_absolute_error: 8.9709\n",
      "Epoch 43/200\n",
      "584/584 [==============================] - 13s 22ms/step - loss: 125.1501 - mean_absolute_error: 8.9707\n",
      "Epoch 44/200\n",
      "584/584 [==============================] - 13s 22ms/step - loss: 125.1495 - mean_absolute_error: 8.9718\n",
      "Epoch 45/200\n",
      "584/584 [==============================] - 13s 22ms/step - loss: 125.1483 - mean_absolute_error: 8.9718\n",
      "Epoch 46/200\n",
      "584/584 [==============================] - 13s 22ms/step - loss: 125.1478 - mean_absolute_error: 8.9738\n",
      "Epoch 47/200\n",
      "584/584 [==============================] - 13s 22ms/step - loss: 125.1480 - mean_absolute_error: 8.9739\n",
      "Epoch 48/200\n",
      "584/584 [==============================] - 13s 22ms/step - loss: 125.1475 - mean_absolute_error: 8.9747\n",
      "Epoch 49/200\n",
      "584/584 [==============================] - 14s 23ms/step - loss: 125.1477 - mean_absolute_error: 8.9748\n",
      "Epoch 50/200\n",
      "584/584 [==============================] - 14s 24ms/step - loss: 125.1483 - mean_absolute_error: 8.9753\n",
      "Epoch 51/200\n",
      "584/584 [==============================] - 14s 24ms/step - loss: 125.1479 - mean_absolute_error: 8.9742\n",
      "Epoch 52/200\n",
      "584/584 [==============================] - 14s 24ms/step - loss: 125.1473 - mean_absolute_error: 8.9750\n",
      "Epoch 53/200\n",
      "584/584 [==============================] - 17s 29ms/step - loss: 125.1477 - mean_absolute_error: 8.9756\n",
      "Epoch 54/200\n",
      "584/584 [==============================] - 17s 29ms/step - loss: 125.1490 - mean_absolute_error: 8.9752\n",
      "Epoch 55/200\n",
      "584/584 [==============================] - 16s 27ms/step - loss: 125.1472 - mean_absolute_error: 8.9754\n",
      "Epoch 56/200\n",
      "584/584 [==============================] - 15s 26ms/step - loss: 125.1480 - mean_absolute_error: 8.9752\n",
      "Epoch 57/200\n",
      "584/584 [==============================] - 16s 27ms/step - loss: 125.1476 - mean_absolute_error: 8.9745\n",
      "Epoch 58/200\n",
      "584/584 [==============================] - 15s 26ms/step - loss: 125.1477 - mean_absolute_error: 8.9749\n",
      "Epoch 59/200\n",
      "584/584 [==============================] - 15s 26ms/step - loss: 125.1476 - mean_absolute_error: 8.9754\n",
      "Epoch 60/200\n",
      "584/584 [==============================] - 15s 25ms/step - loss: 125.1475 - mean_absolute_error: 8.9761\n",
      "Epoch 61/200\n",
      "584/584 [==============================] - 15s 26ms/step - loss: 125.1477 - mean_absolute_error: 8.9747\n",
      "Epoch 62/200\n",
      "584/584 [==============================] - 16s 27ms/step - loss: 125.1477 - mean_absolute_error: 8.9753\n",
      "Epoch 63/200\n",
      "584/584 [==============================] - 15s 26ms/step - loss: 125.1480 - mean_absolute_error: 8.9764\n",
      "Epoch 64/200\n",
      "584/584 [==============================] - 14s 23ms/step - loss: 125.1475 - mean_absolute_error: 8.9753\n",
      "Epoch 65/200\n",
      "584/584 [==============================] - 14s 24ms/step - loss: 125.1473 - mean_absolute_error: 8.9745\n",
      "Epoch 66/200\n",
      "584/584 [==============================] - 13s 23ms/step - loss: 125.1484 - mean_absolute_error: 8.9749\n",
      "Epoch 67/200\n",
      "584/584 [==============================] - 13s 23ms/step - loss: 125.1479 - mean_absolute_error: 8.9745\n",
      "Epoch 68/200\n",
      "584/584 [==============================] - 13s 23ms/step - loss: 125.1483 - mean_absolute_error: 8.9755\n",
      "Epoch 69/200\n",
      "584/584 [==============================] - 13s 23ms/step - loss: 125.1479 - mean_absolute_error: 8.9753\n",
      "Epoch 70/200\n",
      "584/584 [==============================] - 13s 23ms/step - loss: 125.1477 - mean_absolute_error: 8.9754\n"
     ]
    },
    {
     "name": "stdout",
     "output_type": "stream",
     "text": [
      "Epoch 71/200\n",
      "584/584 [==============================] - 14s 24ms/step - loss: 125.1478 - mean_absolute_error: 8.9745\n",
      "Epoch 72/200\n",
      "584/584 [==============================] - 17s 28ms/step - loss: 125.1478 - mean_absolute_error: 8.9744\n",
      "Epoch 73/200\n",
      "584/584 [==============================] - 14s 24ms/step - loss: 125.1479 - mean_absolute_error: 8.9764\n",
      "Epoch 74/200\n",
      "584/584 [==============================] - 14s 23ms/step - loss: 125.1475 - mean_absolute_error: 8.9752\n",
      "Epoch 75/200\n",
      "584/584 [==============================] - 13s 23ms/step - loss: 125.1475 - mean_absolute_error: 8.9754\n",
      "Epoch 76/200\n",
      "584/584 [==============================] - 14s 25ms/step - loss: 125.1480 - mean_absolute_error: 8.9761\n",
      "Epoch 77/200\n",
      "584/584 [==============================] - 16s 28ms/step - loss: 125.1478 - mean_absolute_error: 8.9749\n",
      "Epoch 78/200\n",
      "584/584 [==============================] - 13s 23ms/step - loss: 125.1484 - mean_absolute_error: 8.9758\n",
      "Epoch 79/200\n",
      "584/584 [==============================] - 15s 25ms/step - loss: 125.1480 - mean_absolute_error: 8.9753\n",
      "Epoch 80/200\n",
      "584/584 [==============================] - 14s 25ms/step - loss: 125.1472 - mean_absolute_error: 8.9755\n",
      "Epoch 81/200\n",
      "584/584 [==============================] - 14s 24ms/step - loss: 125.1479 - mean_absolute_error: 8.9757\n",
      "Epoch 82/200\n",
      "584/584 [==============================] - 15s 26ms/step - loss: 125.1474 - mean_absolute_error: 8.9753\n",
      "Epoch 83/200\n",
      "584/584 [==============================] - 14s 24ms/step - loss: 125.1479 - mean_absolute_error: 8.9753\n",
      "Epoch 84/200\n",
      "584/584 [==============================] - 13s 22ms/step - loss: 125.1481 - mean_absolute_error: 8.9761\n",
      "Epoch 85/200\n",
      "584/584 [==============================] - 13s 23ms/step - loss: 125.1474 - mean_absolute_error: 8.9749\n",
      "Epoch 86/200\n",
      "584/584 [==============================] - 14s 24ms/step - loss: 125.1476 - mean_absolute_error: 8.9747\n",
      "Epoch 87/200\n",
      "584/584 [==============================] - 15s 25ms/step - loss: 125.1477 - mean_absolute_error: 8.9758\n",
      "Epoch 88/200\n",
      "584/584 [==============================] - 14s 24ms/step - loss: 125.1474 - mean_absolute_error: 8.9762\n",
      "Epoch 89/200\n",
      "584/584 [==============================] - 14s 25ms/step - loss: 125.1475 - mean_absolute_error: 8.9760\n",
      "Epoch 90/200\n",
      "584/584 [==============================] - 14s 23ms/step - loss: 125.1472 - mean_absolute_error: 8.9759\n",
      "Epoch 91/200\n",
      "584/584 [==============================] - 16s 27ms/step - loss: 125.1476 - mean_absolute_error: 8.9755\n",
      "Epoch 92/200\n",
      "584/584 [==============================] - 17s 30ms/step - loss: 125.1480 - mean_absolute_error: 8.9749\n",
      "Epoch 93/200\n",
      "584/584 [==============================] - 15s 26ms/step - loss: 125.1476 - mean_absolute_error: 8.9754\n",
      "Epoch 94/200\n",
      "584/584 [==============================] - 15s 25ms/step - loss: 125.1476 - mean_absolute_error: 8.9741\n",
      "Epoch 95/200\n",
      "584/584 [==============================] - 15s 26ms/step - loss: 125.1471 - mean_absolute_error: 8.9757\n",
      "Epoch 96/200\n",
      "584/584 [==============================] - 15s 25ms/step - loss: 125.1477 - mean_absolute_error: 8.9751\n",
      "Epoch 97/200\n",
      "584/584 [==============================] - 14s 24ms/step - loss: 125.1476 - mean_absolute_error: 8.9753\n",
      "Epoch 98/200\n",
      "584/584 [==============================] - 14s 24ms/step - loss: 125.1472 - mean_absolute_error: 8.9753\n",
      "Epoch 99/200\n",
      "584/584 [==============================] - 13s 22ms/step - loss: 125.1478 - mean_absolute_error: 8.9751\n",
      "Epoch 100/200\n",
      "584/584 [==============================] - 15s 25ms/step - loss: 125.1475 - mean_absolute_error: 8.9757\n",
      "Epoch 101/200\n",
      "584/584 [==============================] - 14s 24ms/step - loss: 125.1479 - mean_absolute_error: 8.9739\n",
      "Epoch 102/200\n",
      "584/584 [==============================] - 14s 24ms/step - loss: 125.1480 - mean_absolute_error: 8.9759\n",
      "Epoch 103/200\n",
      "584/584 [==============================] - 14s 24ms/step - loss: 125.1477 - mean_absolute_error: 8.9746\n",
      "Epoch 104/200\n",
      "584/584 [==============================] - 14s 24ms/step - loss: 125.1484 - mean_absolute_error: 8.9752\n",
      "Epoch 105/200\n",
      "584/584 [==============================] - 14s 24ms/step - loss: 125.1476 - mean_absolute_error: 8.9746\n",
      "Epoch 106/200\n",
      "584/584 [==============================] - 14s 24ms/step - loss: 125.1474 - mean_absolute_error: 8.9754\n",
      "Epoch 107/200\n",
      "584/584 [==============================] - 14s 23ms/step - loss: 125.1481 - mean_absolute_error: 8.9748\n",
      "Epoch 108/200\n",
      "584/584 [==============================] - 14s 24ms/step - loss: 125.1478 - mean_absolute_error: 8.9750\n",
      "Epoch 109/200\n",
      "584/584 [==============================] - 14s 24ms/step - loss: 125.1475 - mean_absolute_error: 8.9745\n",
      "Epoch 110/200\n",
      "584/584 [==============================] - 14s 24ms/step - loss: 125.1483 - mean_absolute_error: 8.9763\n",
      "Epoch 111/200\n",
      "584/584 [==============================] - 14s 24ms/step - loss: 125.1479 - mean_absolute_error: 8.9749\n",
      "Epoch 112/200\n",
      "584/584 [==============================] - 13s 23ms/step - loss: 125.1473 - mean_absolute_error: 8.9750\n",
      "Epoch 113/200\n",
      "584/584 [==============================] - 14s 24ms/step - loss: 125.1479 - mean_absolute_error: 8.9740\n",
      "Epoch 114/200\n",
      "584/584 [==============================] - 14s 24ms/step - loss: 125.1474 - mean_absolute_error: 8.9750\n",
      "Epoch 115/200\n",
      "584/584 [==============================] - 14s 24ms/step - loss: 125.1483 - mean_absolute_error: 8.9756\n",
      "Epoch 116/200\n",
      "584/584 [==============================] - 15s 26ms/step - loss: 125.1476 - mean_absolute_error: 8.9748\n",
      "Epoch 117/200\n",
      "584/584 [==============================] - 14s 25ms/step - loss: 125.1480 - mean_absolute_error: 8.9746\n",
      "Epoch 118/200\n",
      "584/584 [==============================] - 14s 25ms/step - loss: 125.1477 - mean_absolute_error: 8.9754\n",
      "Epoch 119/200\n",
      "584/584 [==============================] - 14s 24ms/step - loss: 125.1474 - mean_absolute_error: 8.9758\n",
      "Epoch 120/200\n",
      "584/584 [==============================] - 13s 23ms/step - loss: 125.1476 - mean_absolute_error: 8.9762\n",
      "Epoch 121/200\n",
      "584/584 [==============================] - 13s 22ms/step - loss: 125.1472 - mean_absolute_error: 8.9753\n",
      "Epoch 122/200\n",
      "584/584 [==============================] - 13s 21ms/step - loss: 125.1479 - mean_absolute_error: 8.9752\n",
      "Epoch 123/200\n",
      "584/584 [==============================] - 14s 24ms/step - loss: 125.1475 - mean_absolute_error: 8.9742\n",
      "Epoch 124/200\n",
      "584/584 [==============================] - 13s 22ms/step - loss: 125.1472 - mean_absolute_error: 8.9760\n",
      "Epoch 125/200\n",
      "584/584 [==============================] - 13s 21ms/step - loss: 125.1477 - mean_absolute_error: 8.9749\n",
      "Epoch 126/200\n",
      "584/584 [==============================] - 12s 21ms/step - loss: 125.1474 - mean_absolute_error: 8.9743\n",
      "Epoch 127/200\n",
      "584/584 [==============================] - 12s 21ms/step - loss: 125.1477 - mean_absolute_error: 8.9768\n",
      "Epoch 128/200\n",
      "584/584 [==============================] - 15s 25ms/step - loss: 125.1475 - mean_absolute_error: 8.9751\n",
      "Epoch 129/200\n",
      "584/584 [==============================] - 14s 24ms/step - loss: 125.1476 - mean_absolute_error: 8.9746\n",
      "Epoch 130/200\n",
      "584/584 [==============================] - 14s 24ms/step - loss: 125.1473 - mean_absolute_error: 8.9746\n",
      "Epoch 131/200\n",
      "584/584 [==============================] - 14s 24ms/step - loss: 125.1480 - mean_absolute_error: 8.9753\n",
      "Epoch 132/200\n",
      "584/584 [==============================] - 14s 24ms/step - loss: 125.1474 - mean_absolute_error: 8.9758\n",
      "Epoch 133/200\n",
      "584/584 [==============================] - 13s 23ms/step - loss: 125.1471 - mean_absolute_error: 8.9755\n",
      "Epoch 134/200\n",
      "584/584 [==============================] - 14s 24ms/step - loss: 125.1474 - mean_absolute_error: 8.9758\n",
      "Epoch 135/200\n",
      "584/584 [==============================] - 13s 22ms/step - loss: 125.1480 - mean_absolute_error: 8.9763\n",
      "Epoch 136/200\n",
      "584/584 [==============================] - 13s 22ms/step - loss: 125.1473 - mean_absolute_error: 8.9757\n",
      "Epoch 137/200\n",
      "584/584 [==============================] - 13s 21ms/step - loss: 125.1476 - mean_absolute_error: 8.9748\n",
      "Epoch 138/200\n",
      "584/584 [==============================] - 13s 22ms/step - loss: 125.1486 - mean_absolute_error: 8.9766\n",
      "Epoch 139/200\n",
      "584/584 [==============================] - 13s 22ms/step - loss: 125.1480 - mean_absolute_error: 8.9744\n",
      "Epoch 140/200\n",
      "584/584 [==============================] - 13s 22ms/step - loss: 125.1479 - mean_absolute_error: 8.9748\n",
      "Epoch 141/200\n",
      "584/584 [==============================] - 13s 22ms/step - loss: 125.1473 - mean_absolute_error: 8.9767\n",
      "Epoch 142/200\n",
      "584/584 [==============================] - 13s 22ms/step - loss: 125.1474 - mean_absolute_error: 8.9762\n",
      "Epoch 143/200\n",
      "584/584 [==============================] - 13s 22ms/step - loss: 125.1472 - mean_absolute_error: 8.9757\n",
      "Epoch 144/200\n",
      "584/584 [==============================] - 13s 22ms/step - loss: 125.1472 - mean_absolute_error: 8.9748\n",
      "Epoch 145/200\n",
      "584/584 [==============================] - 13s 22ms/step - loss: 125.1482 - mean_absolute_error: 8.9760\n",
      "Epoch 146/200\n",
      "584/584 [==============================] - 13s 22ms/step - loss: 125.1479 - mean_absolute_error: 8.9759\n",
      "Epoch 147/200\n",
      "584/584 [==============================] - 13s 22ms/step - loss: 125.1477 - mean_absolute_error: 8.9753\n",
      "Epoch 148/200\n",
      "584/584 [==============================] - 13s 22ms/step - loss: 125.1474 - mean_absolute_error: 8.9749\n",
      "Epoch 149/200\n",
      "584/584 [==============================] - 13s 22ms/step - loss: 125.1484 - mean_absolute_error: 8.9750\n",
      "Epoch 150/200\n",
      "584/584 [==============================] - 13s 22ms/step - loss: 125.1473 - mean_absolute_error: 8.9753\n",
      "Epoch 151/200\n",
      "584/584 [==============================] - 13s 22ms/step - loss: 125.1475 - mean_absolute_error: 8.9767\n",
      "Epoch 152/200\n",
      "584/584 [==============================] - 13s 22ms/step - loss: 125.1476 - mean_absolute_error: 8.9760\n",
      "Epoch 153/200\n",
      "584/584 [==============================] - 13s 22ms/step - loss: 125.1471 - mean_absolute_error: 8.9754\n",
      "Epoch 154/200\n",
      "584/584 [==============================] - 13s 22ms/step - loss: 125.1474 - mean_absolute_error: 8.9751\n",
      "Epoch 155/200\n",
      "584/584 [==============================] - 13s 22ms/step - loss: 125.1479 - mean_absolute_error: 8.9751\n",
      "Epoch 156/200\n",
      "584/584 [==============================] - 13s 22ms/step - loss: 125.1475 - mean_absolute_error: 8.9754\n",
      "Epoch 157/200\n",
      "584/584 [==============================] - 13s 22ms/step - loss: 125.1474 - mean_absolute_error: 8.9744\n",
      "Epoch 158/200\n",
      "584/584 [==============================] - 13s 22ms/step - loss: 125.1478 - mean_absolute_error: 8.9758\n",
      "Epoch 159/200\n",
      "584/584 [==============================] - 13s 22ms/step - loss: 125.1475 - mean_absolute_error: 8.9749\n",
      "Epoch 160/200\n",
      "584/584 [==============================] - 13s 22ms/step - loss: 125.1481 - mean_absolute_error: 8.9745\n",
      "Epoch 161/200\n",
      "584/584 [==============================] - 13s 22ms/step - loss: 125.1480 - mean_absolute_error: 8.9744\n",
      "Epoch 162/200\n",
      "584/584 [==============================] - 13s 22ms/step - loss: 125.1478 - mean_absolute_error: 8.9745\n",
      "Epoch 163/200\n",
      "584/584 [==============================] - 13s 22ms/step - loss: 125.1474 - mean_absolute_error: 8.9740\n",
      "Epoch 164/200\n",
      "584/584 [==============================] - 13s 22ms/step - loss: 125.1476 - mean_absolute_error: 8.9756\n",
      "Epoch 165/200\n",
      "584/584 [==============================] - 13s 22ms/step - loss: 125.1477 - mean_absolute_error: 8.9753\n",
      "Epoch 166/200\n",
      "584/584 [==============================] - 13s 22ms/step - loss: 125.1477 - mean_absolute_error: 8.9751\n",
      "Epoch 167/200\n",
      "584/584 [==============================] - 13s 22ms/step - loss: 125.1476 - mean_absolute_error: 8.9761\n",
      "Epoch 168/200\n",
      "584/584 [==============================] - 13s 22ms/step - loss: 125.1474 - mean_absolute_error: 8.9761\n",
      "Epoch 169/200\n",
      "584/584 [==============================] - 13s 22ms/step - loss: 125.1482 - mean_absolute_error: 8.9750\n",
      "Epoch 170/200\n",
      "584/584 [==============================] - 13s 22ms/step - loss: 125.1477 - mean_absolute_error: 8.9749\n",
      "Epoch 171/200\n",
      "584/584 [==============================] - 13s 22ms/step - loss: 125.1480 - mean_absolute_error: 8.9751\n",
      "Epoch 172/200\n",
      "584/584 [==============================] - 13s 22ms/step - loss: 125.1478 - mean_absolute_error: 8.9770\n",
      "Epoch 173/200\n",
      "584/584 [==============================] - 13s 22ms/step - loss: 125.1475 - mean_absolute_error: 8.9755\n",
      "Epoch 174/200\n",
      "584/584 [==============================] - 13s 22ms/step - loss: 125.1476 - mean_absolute_error: 8.9756\n",
      "Epoch 175/200\n",
      "584/584 [==============================] - 13s 22ms/step - loss: 125.1476 - mean_absolute_error: 8.9743\n",
      "Epoch 176/200\n",
      "584/584 [==============================] - 13s 22ms/step - loss: 125.1481 - mean_absolute_error: 8.9746\n",
      "Epoch 177/200\n",
      "584/584 [==============================] - 13s 22ms/step - loss: 125.1474 - mean_absolute_error: 8.9751\n",
      "Epoch 178/200\n",
      "584/584 [==============================] - 13s 22ms/step - loss: 125.1473 - mean_absolute_error: 8.9755\n",
      "Epoch 179/200\n",
      "584/584 [==============================] - 13s 22ms/step - loss: 125.1480 - mean_absolute_error: 8.9753\n",
      "Epoch 180/200\n",
      "584/584 [==============================] - 13s 22ms/step - loss: 125.1477 - mean_absolute_error: 8.9760\n",
      "Epoch 181/200\n",
      "584/584 [==============================] - 13s 22ms/step - loss: 125.1478 - mean_absolute_error: 8.9750\n",
      "Epoch 182/200\n",
      "584/584 [==============================] - 13s 22ms/step - loss: 125.1485 - mean_absolute_error: 8.9749\n",
      "Epoch 183/200\n",
      "584/584 [==============================] - 13s 22ms/step - loss: 125.1479 - mean_absolute_error: 8.9760\n",
      "Epoch 184/200\n",
      "584/584 [==============================] - 13s 22ms/step - loss: 125.1477 - mean_absolute_error: 8.9757\n",
      "Epoch 185/200\n",
      "584/584 [==============================] - 13s 22ms/step - loss: 125.1473 - mean_absolute_error: 8.9759\n",
      "Epoch 186/200\n",
      "584/584 [==============================] - 13s 22ms/step - loss: 125.1473 - mean_absolute_error: 8.9756\n",
      "Epoch 187/200\n",
      "584/584 [==============================] - 13s 22ms/step - loss: 125.1477 - mean_absolute_error: 8.9752\n",
      "Epoch 188/200\n",
      "584/584 [==============================] - 13s 22ms/step - loss: 125.1484 - mean_absolute_error: 8.9742\n",
      "Epoch 189/200\n",
      "584/584 [==============================] - 13s 22ms/step - loss: 125.1482 - mean_absolute_error: 8.9757\n",
      "Epoch 190/200\n",
      "584/584 [==============================] - 13s 22ms/step - loss: 125.1479 - mean_absolute_error: 8.9745\n",
      "Epoch 191/200\n",
      "584/584 [==============================] - 13s 22ms/step - loss: 125.1473 - mean_absolute_error: 8.9750\n",
      "Epoch 192/200\n",
      "584/584 [==============================] - 13s 22ms/step - loss: 125.1476 - mean_absolute_error: 8.9757\n",
      "Epoch 193/200\n",
      "584/584 [==============================] - 13s 22ms/step - loss: 125.1476 - mean_absolute_error: 8.9750\n",
      "Epoch 194/200\n",
      "584/584 [==============================] - 13s 22ms/step - loss: 125.1473 - mean_absolute_error: 8.9753\n",
      "Epoch 195/200\n",
      "584/584 [==============================] - 13s 22ms/step - loss: 125.1473 - mean_absolute_error: 8.9760\n",
      "Epoch 196/200\n",
      "584/584 [==============================] - 13s 22ms/step - loss: 125.1477 - mean_absolute_error: 8.9755\n",
      "Epoch 197/200\n",
      "584/584 [==============================] - 13s 22ms/step - loss: 125.1472 - mean_absolute_error: 8.9749\n",
      "Epoch 198/200\n",
      "584/584 [==============================] - 13s 22ms/step - loss: 125.1476 - mean_absolute_error: 8.9750\n",
      "Epoch 199/200\n",
      "584/584 [==============================] - 13s 22ms/step - loss: 125.1478 - mean_absolute_error: 8.9744\n",
      "Epoch 200/200\n",
      "584/584 [==============================] - 13s 22ms/step - loss: 125.1477 - mean_absolute_error: 8.9752\n"
     ]
    }
   ],
   "source": [
    "# Sequential model developed using hyperparameter obtained from k-fold cross validation\n",
    "\n",
    "vocab_size = 17\n",
    "\n",
    "model = tf.keras.Sequential()\n",
    " \n",
    "model.add(tf.keras.layers.Embedding(input_dim=vocab_size, output_dim=32, mask_zero=True))\n",
    "model.add(tf.keras.layers.GRU(32))\n",
    "model.add(tf.keras.layers.Dense(padded_len, activation=\"relu\"))\n",
    "model.add(tf.keras.layers.Dense(56, activation=\"relu\"))\n",
    "model.add(tf.keras.layers.Dense(48, activation=\"relu\"))\n",
    "model.add(tf.keras.layers.Dense(40, activation=\"relu\"))\n",
    "model.add(tf.keras.layers.Dense(32, activation=\"relu\"))\n",
    "model.add(tf.keras.layers.Dense(24, activation=\"relu\"))\n",
    "model.add(tf.keras.layers.Dense(16, activation=\"relu\"))\n",
    "model.add(tf.keras.layers.Dense(8, activation=\"relu\"))\n",
    "model.add(tf.keras.layers.Dense(4, activation=\"relu\"))\n",
    "\n",
    "# regression, so no activation\n",
    "model.add(tf.keras.layers.Dense(1))\n",
    "    \n",
    "# compile the model\n",
    "model.compile(loss = tf.losses.MeanSquaredError(), optimizer = tf.optimizers.Adam(), metrics = tf.metrics.MeanAbsoluteError())\n",
    "    \n",
    "# train the model\n",
    "model_history = model.fit(padded_train_X, train_y, batch_size=32, epochs=200)"
   ]
  },
  {
   "cell_type": "code",
   "execution_count": 50,
   "id": "e04fad35",
   "metadata": {},
   "outputs": [
    {
     "data": {
      "image/png": "[encoded data removed]",
      "text/plain": [
       "<Figure size 432x288 with 1 Axes>"
      ]
     },
     "metadata": {
      "needs_background": "light"
     },
     "output_type": "display_data"
    },
    {
     "data": {
      "image/png": "[encoded data removed]",
      "text/plain": [
       "<Figure size 432x288 with 1 Axes>"
      ]
     },
     "metadata": {
      "needs_background": "light"
     },
     "output_type": "display_data"
    }
   ],
   "source": [
    "# plotting mse loss\n",
    "training_mse_loss = model_history.history['loss']\n",
    "training_mae_loss = model_history.history['mean_absolute_error']\n",
    "\n",
    "epoch_count = range(0,len(training_mse_loss))\n",
    "\n",
    "plt.plot(epoch_count, training_mse_loss[0:], 'r--')\n",
    "plt.legend(['Training MSE Loss'])\n",
    "plt.xlabel('Epoch')\n",
    "plt.ylabel('Loss')\n",
    "plt.show();\n",
    "\n",
    "plt.plot(epoch_count, training_mae_loss[0:], 'b--')\n",
    "plt.legend(['Training MAE Loss'])\n",
    "plt.xlabel('Epoch')\n",
    "plt.ylabel('Loss')\n",
    "plt.show()"
   ]
  },
  {
   "cell_type": "code",
   "execution_count": 51,
   "id": "25ae5700",
   "metadata": {},
   "outputs": [
    {
     "name": "stdout",
     "output_type": "stream",
     "text": [
      "195/195 [==============================] - 3s 7ms/step\n",
      "584/584 [==============================] - 4s 7ms/step\n"
     ]
    }
   ],
   "source": [
    "# evaluate on test data\n",
    "yhat = model.predict(padded_test_X)\n",
    "\n",
    "# evaluate on train data\n",
    "yhat_train = model.predict(padded_train_X)"
   ]
  },
  {
   "cell_type": "code",
   "execution_count": 52,
   "id": "f582b6e1",
   "metadata": {},
   "outputs": [
    {
     "name": "stdout",
     "output_type": "stream",
     "text": [
      "test metrics\n",
      "1.5211892851287003\n",
      "5.986867625622177\n",
      "0.9522229550556488\n",
      "train metrics\n",
      "0.9506496443339932\n",
      "1.790790845076635\n",
      "0.9856903705440397\n"
     ]
    },
    {
     "data": {
      "image/png": "[encoded data removed]",
      "text/plain": [
       "<Figure size 432x288 with 1 Axes>"
      ]
     },
     "metadata": {
      "needs_background": "light"
     },
     "output_type": "display_data"
    }
   ],
   "source": [
    "print(\"test metrics\")\n",
    "mae_test = metrics.mean_absolute_error(test_y,yhat)\n",
    "mse_test = metrics.mean_squared_error(test_y,yhat)\n",
    "r2_test = metrics.r2_score(test_y,yhat)\n",
    "\n",
    "print(mae_test)\n",
    "print(mse_test)\n",
    "print(r2_test)\n",
    "\n",
    "print(\"train metrics\")\n",
    "mae_train = metrics.mean_absolute_error(train_y,yhat_train)\n",
    "mse_train = metrics.mean_squared_error(train_y,yhat_train)\n",
    "r2_train = metrics.r2_score(train_y,yhat_train)\n",
    "\n",
    "print(mae_train)\n",
    "print(mse_train)\n",
    "print(r2_train)\n",
    "\n",
    "plt.scatter(train_y,yhat_train,color = 'purple')\n",
    "plt.scatter(test_y,yhat, color = 'green')\n",
    "plt.plot(train_y,train_y, 'r--')\n",
    "#plt.title('Parity plot')\n",
    "plt.ylabel('predicted $CO_{2}$ barrier \\n (kcal/mol)')\n",
    "plt.xlabel('actual $CO_{2}$ barrier \\n (kcal/mol)')\n",
    "plt.legend(['train_set', 'test_set'])\n",
    "plt.show()"
   ]
  },
  {
   "cell_type": "markdown",
   "id": "996b9aa9",
   "metadata": {},
   "source": [
    "# saving the trained model"
   ]
  },
  {
   "cell_type": "code",
   "execution_count": 53,
   "id": "dc17f330",
   "metadata": {},
   "outputs": [],
   "source": [
    "from tensorflow.keras.models import save_model\n",
    "from tensorflow.keras.models import load_model"
   ]
  },
  {
   "cell_type": "code",
   "execution_count": 54,
   "id": "bdb09711",
   "metadata": {},
   "outputs": [],
   "source": [
    "# save the model to disk\n",
    "filename = 'output/CO2_barrier_stablestrong/CO2_barrier_finalmodel2.h5'\n",
    "save_model(model, filename)"
   ]
  },
  {
   "cell_type": "markdown",
   "id": "0eb589e1",
   "metadata": {},
   "source": [
    "# loading the saved model"
   ]
  },
  {
   "cell_type": "code",
   "execution_count": 55,
   "id": "89883353",
   "metadata": {},
   "outputs": [],
   "source": [
    "# load the model from disk\n",
    "filename = 'output/CO2_barrier_stablestrong/CO2_barrier_finalmodel2.h5'\n",
    "loaded_model = load_model(filename)"
   ]
  },
  {
   "cell_type": "markdown",
   "id": "7e1cccd5",
   "metadata": {},
   "source": [
    "# testing the saved model"
   ]
  },
  {
   "cell_type": "code",
   "execution_count": 56,
   "id": "a1b7aa74",
   "metadata": {},
   "outputs": [
    {
     "name": "stdout",
     "output_type": "stream",
     "text": [
      "195/195 [==============================] - 6s 7ms/step\n",
      "584/584 [==============================] - 4s 7ms/step\n"
     ]
    }
   ],
   "source": [
    "# evaluate on train and test data\n",
    "yhat_test_loaded = loaded_model.predict(padded_test_X)\n",
    "yhat_train_loaded = loaded_model.predict(padded_train_X)"
   ]
  },
  {
   "cell_type": "code",
   "execution_count": 57,
   "id": "ba0223eb",
   "metadata": {},
   "outputs": [
    {
     "name": "stdout",
     "output_type": "stream",
     "text": [
      "test metrics\n",
      "1.5211892851287003\n",
      "5.986867625622177\n",
      "0.9522229550556488\n",
      "train metrics\n",
      "0.9506496443339932\n",
      "1.790790845076635\n",
      "0.9856903705440397\n"
     ]
    }
   ],
   "source": [
    "print(\"test metrics\")\n",
    "mae_test = metrics.mean_absolute_error(test_y,yhat_test_loaded)\n",
    "mse_test = metrics.mean_squared_error(test_y,yhat_test_loaded)\n",
    "r2_test = metrics.r2_score(test_y,yhat_test_loaded)\n",
    "\n",
    "print(mae_test)\n",
    "print(mse_test)\n",
    "print(r2_test)\n",
    "\n",
    "print(\"train metrics\")\n",
    "mae_train = metrics.mean_absolute_error(train_y,yhat_train_loaded)\n",
    "mse_train = metrics.mean_squared_error(train_y,yhat_train_loaded)\n",
    "r2_train = metrics.r2_score(train_y,yhat_train_loaded)\n",
    "\n",
    "print(mae_train)\n",
    "print(mse_train)\n",
    "print(r2_train)"
   ]
  },
  {
   "cell_type": "code",
   "execution_count": 58,
   "id": "a224b86b",
   "metadata": {},
   "outputs": [
    {
     "data": {
      "image/png": "[encoded data removed]",
      "text/plain": [
       "<Figure size 432x288 with 1 Axes>"
      ]
     },
     "metadata": {
      "needs_background": "light"
     },
     "output_type": "display_data"
    }
   ],
   "source": [
    "plt.scatter(train_y,yhat_train_loaded,color = 'purple')\n",
    "plt.scatter(test_y,yhat_test_loaded, color = 'green')\n",
    "plt.plot(train_y,train_y, 'r--')\n",
    "\n",
    "plt.ylabel('predicted $\\\\rm CO_{2}$ barrier \\n (kcal/mol)', fontname=\"Arial\", fontsize=24)\n",
    "plt.xlabel('actual $\\\\rm CO_{2}$ barrier \\n (kcal/mol)', fontname=\"Arial\", fontsize=24)\n",
    "plt.legend(['train set', 'test set'], fontsize=\"18\" )\n",
    "plt.xticks(fontsize=20, fontname=\"Arial\")\n",
    "plt.yticks(fontsize=20, fontname=\"Arial\")\n",
    "plt.savefig(\"figures/CO2_barrier_stablestrong/final2_parityplot.png\", format=\"png\", dpi=1600, bbox_inches='tight')\n",
    "plt.show()"
   ]
  },
  {
   "cell_type": "markdown",
   "id": "91ca0fa8",
   "metadata": {},
   "source": [
    "# Predicting CO2 Barriers for stable nanopores obtained using STRONGs algorithm"
   ]
  },
  {
   "cell_type": "code",
   "execution_count": 59,
   "id": "11901d3d",
   "metadata": {},
   "outputs": [
    {
     "name": "stdout",
     "output_type": "stream",
     "text": [
      "<class 'pandas.core.frame.DataFrame'>\n",
      "RangeIndex: 188180 entries, 0 to 188179\n",
      "Data columns (total 8 columns):\n",
      " #   Column                   Non-Null Count   Dtype  \n",
      "---  ------                   --------------   -----  \n",
      " 0   pore_number              188180 non-null  int64  \n",
      " 1   N                        188180 non-null  int64  \n",
      " 2   STRONG                   188180 non-null  object \n",
      " 3   Canonical_STRONG         188180 non-null  object \n",
      " 4   x_coord                  188180 non-null  float64\n",
      " 5   y_coord                  188180 non-null  float64\n",
      " 6   radius                   188180 non-null  float64\n",
      " 7   Canonical_STRONG_radius  188180 non-null  object \n",
      "dtypes: float64(3), int64(2), object(3)\n",
      "memory usage: 11.5+ MB\n"
     ]
    }
   ],
   "source": [
    "# Feature Data - Canonical STRONGs for stable nanopores\n",
    "\n",
    "csv_data_stable_nanopores = pd.read_csv('input/stable_strongs.csv')\n",
    "csv_data_stable_nanopores.info()"
   ]
  },
  {
   "cell_type": "code",
   "execution_count": 60,
   "id": "d7d10666",
   "metadata": {},
   "outputs": [],
   "source": [
    "# Tokenization of Feature Data\n",
    "\n",
    "stable_nanopores_STRONG_X = tokenizer.texts_to_sequences(csv_data_stable_nanopores['Canonical_STRONG_radius'])\n",
    "stable_nanopores_padded_X = tf.keras.preprocessing.sequence.pad_sequences(stable_nanopores_STRONG_X, padding=\"post\", maxlen = padded_len)"
   ]
  },
  {
   "cell_type": "code",
   "execution_count": 61,
   "id": "83c5a6da",
   "metadata": {},
   "outputs": [
    {
     "name": "stdout",
     "output_type": "stream",
     "text": [
      "5881/5881 [==============================] - 40s 7ms/step\n"
     ]
    }
   ],
   "source": [
    "# Calculating CO2 barriers for stable nanopores\n",
    "stable_nanopores_yhat = loaded_model.predict(stable_nanopores_padded_X)"
   ]
  },
  {
   "cell_type": "code",
   "execution_count": 62,
   "id": "64023e7a",
   "metadata": {},
   "outputs": [],
   "source": [
    "# saving the N2 barrier for stable nanopores\n",
    "type(stable_nanopores_yhat)\n",
    "np.savetxt('output/CO2_barrier_stablestrong/stablestrong_barrierCO2_final2.csv', stable_nanopores_yhat)"
   ]
  },
  {
   "cell_type": "markdown",
   "id": "a4fbf903",
   "metadata": {},
   "source": [
    "# Performance Check"
   ]
  },
  {
   "cell_type": "code",
   "execution_count": 63,
   "id": "2ab63e88",
   "metadata": {},
   "outputs": [],
   "source": [
    "y_train = train_y.to_numpy()\n",
    "y_train = y_train.reshape(18663,1)\n",
    "delta_train =  abs(y_train - yhat_train_loaded)\n",
    "\n",
    "y_test = test_y.to_numpy()\n",
    "y_test = y_test.reshape(6221,1)\n",
    "delta_test =  abs(y_test - yhat_test_loaded)"
   ]
  },
  {
   "cell_type": "code",
   "execution_count": 64,
   "id": "225c5976",
   "metadata": {},
   "outputs": [
    {
     "data": {
      "image/png": "[encoded data removed]",
      "text/plain": [
       "<Figure size 432x288 with 1 Axes>"
      ]
     },
     "metadata": {
      "needs_background": "light"
     },
     "output_type": "display_data"
    },
    {
     "data": {
      "image/png": "[encoded data removed]",
      "text/plain": [
       "<Figure size 432x288 with 1 Axes>"
      ]
     },
     "metadata": {
      "needs_background": "light"
     },
     "output_type": "display_data"
    }
   ],
   "source": [
    "import matplotlib.pyplot as plt\n",
    "import numpy as np\n",
    "\n",
    "plt.hist(delta_train, bins=30, edgecolor='black')\n",
    "plt.xlabel('train absolute error (kcal/mol)')\n",
    "plt.ylabel('frequency')\n",
    "plt.grid(True)\n",
    "plt.show()\n",
    "\n",
    "\n",
    "plt.hist(delta_test, bins=50, edgecolor='black')\n",
    "plt.xlabel('test absolute error (kcal/mol)')\n",
    "plt.ylabel('frequency')\n",
    "plt.grid(True)\n",
    "plt.show()"
   ]
  },
  {
   "cell_type": "code",
   "execution_count": null,
   "id": "2fe902ff",
   "metadata": {},
   "outputs": [],
   "source": []
  }
 ],
 "metadata": {
  "kernelspec": {
   "display_name": "Python 3 (ipykernel)",
   "language": "python",
   "name": "python3"
  },
  "language_info": {
   "codemirror_mode": {
    "name": "ipython",
    "version": 3
   },
   "file_extension": ".py",
   "mimetype": "text/x-python",
   "name": "python",
   "nbconvert_exporter": "python",
   "pygments_lexer": "ipython3",
   "version": "3.9.12"
  }
 },
 "nbformat": 4,
 "nbformat_minor": 5
}
