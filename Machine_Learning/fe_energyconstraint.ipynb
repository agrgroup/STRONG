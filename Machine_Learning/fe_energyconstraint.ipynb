{
 "cells": [
  {
   "cell_type": "code",
   "execution_count": 1,
   "id": "d4bbbf61",
   "metadata": {},
   "outputs": [],
   "source": [
    "import pandas as pd\n",
    "import numpy as np\n",
    "\n",
    "import matplotlib as mpl\n",
    "import matplotlib.pyplot as plt\n",
    "\n",
    "\n",
    "import random \n",
    "import math\n",
    "\n",
    "import sklearn\n",
    "from sklearn.model_selection import train_test_split\n",
    "from sklearn.model_selection import KFold\n",
    "from sklearn import metrics\n",
    "from sklearn.model_selection import GridSearchCV\n",
    "from sklearn.metrics import r2_score\n",
    "\n",
    "import tensorflow as tf\n",
    "from tensorflow import keras\n",
    "from tensorflow.keras.models import Sequential\n",
    "from tensorflow.keras import layers\n",
    "from tensorflow.keras.layers import Dense, Activation\n",
    "from tensorflow.keras.optimizers import Adam\n",
    "\n",
    "from tensorflow.keras.wrappers.scikit_learn import KerasRegressor"
   ]
  },
  {
   "cell_type": "code",
   "execution_count": 2,
   "id": "e3367042",
   "metadata": {},
   "outputs": [
    {
     "name": "stdout",
     "output_type": "stream",
     "text": [
      "<class 'pandas.core.frame.DataFrame'>\n",
      "RangeIndex: 20812 entries, 0 to 20811\n",
      "Data columns (total 4 columns):\n",
      " #   Column             Non-Null Count  Dtype  \n",
      "---  ------             --------------  -----  \n",
      " 0   pore_number        20812 non-null  int64  \n",
      " 1   pore_N             20812 non-null  int64  \n",
      " 2   Canonical_STRONGs  20812 non-null  object \n",
      " 3   formation_energy   20812 non-null  float64\n",
      "dtypes: float64(1), int64(2), object(1)\n",
      "memory usage: 650.5+ KB\n"
     ]
    }
   ],
   "source": [
    "# Removing unstable STRONGs (containing S) from the ML dataset \n",
    "csv_data = pd.read_csv('input/ML_data.csv')\n",
    "csv_data.drop(csv_data.columns[csv_data.columns.str.contains('formation_probability', case=False)], axis=1, inplace=True)\n",
    "csv_data.drop(csv_data.columns[csv_data.columns.str.contains('formation_time', case=False)], axis=1, inplace=True)\n",
    "csv_data.info()\n",
    "\n",
    "energy_constraint = 900\n",
    "index_names = csv_data[csv_data['formation_energy'] <= energy_constraint].index \n",
    "csv_data.drop(index_names, inplace = True)\n",
    "csv_data.reset_index(inplace = True)\n",
    "\n",
    "csv_data.to_csv('input/ML_data_energyconstraint.csv')"
   ]
  },
  {
   "cell_type": "code",
   "execution_count": 3,
   "id": "aaeafd14",
   "metadata": {},
   "outputs": [
    {
     "name": "stdout",
     "output_type": "stream",
     "text": [
      "<class 'pandas.core.frame.DataFrame'>\n",
      "RangeIndex: 19489 entries, 0 to 19488\n",
      "Data columns (total 4 columns):\n",
      " #   Column             Non-Null Count  Dtype  \n",
      "---  ------             --------------  -----  \n",
      " 0   pore_number        19489 non-null  int64  \n",
      " 1   pore_N             19489 non-null  int64  \n",
      " 2   Canonical_STRONGs  19489 non-null  object \n",
      " 3   formation_energy   19489 non-null  float64\n",
      "dtypes: float64(1), int64(2), object(1)\n",
      "memory usage: 609.2+ KB\n",
      "AAFFFAAFFFSFZFFFAAFFZFZFFAAFFFZFZFF\n",
      "1024.92\n"
     ]
    }
   ],
   "source": [
    "# Block - Data Pre-processing \n",
    "\n",
    "csv_data = pd.read_csv('input/ML_data_energyconstraint.csv')\n",
    "csv_data.drop(csv_data.columns[csv_data.columns.str.contains('unnamed', case=False)], axis=1, inplace=True)\n",
    "csv_data.drop(csv_data.columns[csv_data.columns.str.contains('index', case=False)], axis=1, inplace=True)\n",
    "csv_data.info()\n",
    "\n",
    "train_X, test_X, train_y, test_y = train_test_split(csv_data.Canonical_STRONGs, csv_data.formation_energy, test_size = 0.25, random_state = 42)\n",
    "train_X, train_y = train_X.reset_index(drop=True), train_y.reset_index(drop=True)\n",
    "test_X, test_y = test_X.reset_index(drop=True), test_y.reset_index(drop=True)\n",
    "\n",
    "print(train_X[1])\n",
    "print(train_y[1])"
   ]
  },
  {
   "cell_type": "code",
   "execution_count": 4,
   "id": "1549b8b6",
   "metadata": {},
   "outputs": [],
   "source": [
    "# Block - Data pre-processing (tokenization)\n",
    "\n",
    "tokenizer = tf.keras.preprocessing.text.Tokenizer(\n",
    "    num_words = None, # maximum number of words to keep\n",
    "    filters=\"\", #find each character after other  \n",
    "    char_level=True # treat each character as token\n",
    ")\n",
    "\n",
    "# updates internal vocabulary based on a list of texts, required before using texts_to_sequences\n",
    "tokenizer.fit_on_texts(train_X)"
   ]
  },
  {
   "cell_type": "code",
   "execution_count": 5,
   "id": "80e97489",
   "metadata": {},
   "outputs": [
    {
     "name": "stdout",
     "output_type": "stream",
     "text": [
      "[3 3 1 1 1 3 3 1 1 1 4 1 2 1 1 1 3 3 1 1 2 1 2 1 1 3 3 1 1 1 2 1 2 1 1 0 0\n",
      " 0 0 0 0 0 0 0 0 0 0 0]\n",
      "[3 3 1 1 3 3 1 1 1 2 1 3 3 1 1 2 1 1 1 2 1 3 3 1 1 1 3 3 1 2 1 2 1 1 1 2 1\n",
      " 1 0 0 0 0 0 0 0 0 0 0]\n"
     ]
    }
   ],
   "source": [
    "# Block - Data pre-processing (padding)\n",
    "\n",
    "# transforms each text in texts to a sequence of integers, padded to a length of 50\n",
    "max_len = csv_data.Canonical_STRONGs.map(lambda x: len(x)).max()\n",
    "\n",
    "train_X = tokenizer.texts_to_sequences(train_X)\n",
    "padded_train_X = tf.keras.preprocessing.sequence.pad_sequences(train_X, padding=\"post\", maxlen = max_len)\n",
    "test_X = tokenizer.texts_to_sequences(test_X)\n",
    "padded_test_X = tf.keras.preprocessing.sequence.pad_sequences(test_X, padding=\"post\", maxlen = max_len)\n",
    "\n",
    "print(padded_train_X[1])\n",
    "print(padded_test_X[15])"
   ]
  },
  {
   "cell_type": "code",
   "execution_count": 6,
   "id": "b774f5e3",
   "metadata": {},
   "outputs": [
    {
     "name": "stdout",
     "output_type": "stream",
     "text": [
      "48\n"
     ]
    }
   ],
   "source": [
    "print(max_len)"
   ]
  },
  {
   "cell_type": "markdown",
   "id": "0e5851e9",
   "metadata": {},
   "source": [
    "# Hyperparameter Tuning"
   ]
  },
  {
   "cell_type": "code",
   "execution_count": 7,
   "id": "c6c48de0",
   "metadata": {},
   "outputs": [],
   "source": [
    "# K-Fold Cross validation for hyperparameter tuning\n",
    "\n",
    "def create_model(embedding_dim, gru_units, dense_units, activation):\n",
    "    # building the model\n",
    "    model = tf.keras.Sequential()\n",
    "    # make embedding and indicate that 0 should be treated as padding mask i.e. to ignore 0's\n",
    "    model.add(tf.keras.layers.Embedding(input_dim=6, output_dim=embedding_dim, mask_zero=True))\n",
    "    model.add(tf.keras.layers.GRU(gru_units))\n",
    "    \n",
    "    for units in dense_units:\n",
    "        model.add(tf.keras.layers.Dense(units=units, activation=activation))\n",
    "    \n",
    "    model.add(tf.keras.layers.Dense(1))\n",
    "    \n",
    "    model.compile(loss = tf.losses.MeanSquaredError(), optimizer = tf.optimizers.Adam(), metrics = tf.metrics.MeanAbsoluteError())\n",
    "    return model"
   ]
  },
  {
   "cell_type": "code",
   "execution_count": 8,
   "id": "c1fb240f",
   "metadata": {},
   "outputs": [],
   "source": [
    "# Parameter Grid to be tuned\n",
    "\n",
    "param_grid = {\n",
    "    'embedding_dim':[8, 16, 32],\n",
    "    'gru_units': [16, 32, max_len],\n",
    "    'dense_units':[[max_len,42,36,30,24,18,12,6,3],[max_len,40,32,24,16,8,4],[max_len,32,16,8,4]],\n",
    "    'activation': ['relu'], \n",
    "}"
   ]
  },
  {
   "cell_type": "code",
   "execution_count": 9,
   "id": "1ab8c672",
   "metadata": {},
   "outputs": [
    {
     "name": "stderr",
     "output_type": "stream",
     "text": [
      "C:\\Users\\91739\\AppData\\Local\\Temp\\ipykernel_23788\\3396724561.py:4: DeprecationWarning: KerasRegressor is deprecated, use Sci-Keras (https://github.com/adriangb/scikeras) instead. See https://www.adriangb.com/scikeras/stable/migration.html for help migrating.\n",
      "  model = KerasRegressor(build_fn=create_model, verbose=0)\n"
     ]
    }
   ],
   "source": [
    "# Grid search CV (5 fold)\n",
    "\n",
    "# create the KerasRegressor warpper with the RNN model function\n",
    "model = KerasRegressor(build_fn=create_model, verbose=0)\n",
    "\n",
    "# define the cross-validation strategy (K-fold)\n",
    "cross_validation = KFold(n_splits=5)\n",
    "\n",
    "# define the GridSearchCV with the model, hyperparameters, and cross-validation\n",
    "grid_search = GridSearchCV(estimator=model, param_grid=param_grid, cv= cross_validation, scoring='r2') "
   ]
  },
  {
   "cell_type": "code",
   "execution_count": 10,
   "id": "4626f9aa",
   "metadata": {},
   "outputs": [
    {
     "data": {
      "text/plain": [
       "GridSearchCV(cv=KFold(n_splits=5, random_state=None, shuffle=False),\n",
       "             estimator=<keras.wrappers.scikit_learn.KerasRegressor object at 0x0000029A83E815B0>,\n",
       "             param_grid={'activation': ['relu'],\n",
       "                         'dense_units': [[48, 42, 36, 30, 24, 18, 12, 6, 3],\n",
       "                                         [48, 40, 32, 24, 16, 8, 4],\n",
       "                                         [48, 32, 16, 8, 4]],\n",
       "                         'embedding_dim': [8, 16, 32],\n",
       "                         'gru_units': [16, 32, 48]},\n",
       "             scoring='r2')"
      ]
     },
     "execution_count": 10,
     "metadata": {},
     "output_type": "execute_result"
    }
   ],
   "source": [
    "grid_search.fit(padded_train_X, train_y)"
   ]
  },
  {
   "cell_type": "code",
   "execution_count": 11,
   "id": "b8b00ed5",
   "metadata": {},
   "outputs": [
    {
     "name": "stdout",
     "output_type": "stream",
     "text": [
      "Best Hyperparameters:  {'activation': 'relu', 'dense_units': [48, 40, 32, 24, 16, 8, 4], 'embedding_dim': 16, 'gru_units': 16}\n",
      "Best R2 Score:  0.006208280236704988\n"
     ]
    }
   ],
   "source": [
    "# Print the best hyperparameters and corresponding R2 score\n",
    "print(\"Best Hyperparameters: \", grid_search.best_params_)\n",
    "print(\"Best R2 Score: \", grid_search.best_score_)"
   ]
  },
  {
   "cell_type": "markdown",
   "id": "09f4c1f7",
   "metadata": {},
   "source": [
    "# Sequential Model\n"
   ]
  },
  {
   "cell_type": "code",
   "execution_count": 12,
   "id": "e09e63a8",
   "metadata": {},
   "outputs": [
    {
     "name": "stdout",
     "output_type": "stream",
     "text": [
      "Epoch 1/200\n",
      "457/457 [==============================] - 12s 18ms/step - loss: 257419.1406 - mean_absolute_error: 301.6539\n",
      "Epoch 2/200\n",
      "457/457 [==============================] - 8s 19ms/step - loss: 6836.1392 - mean_absolute_error: 65.7721\n",
      "Epoch 3/200\n",
      "457/457 [==============================] - 12s 25ms/step - loss: 6835.6147 - mean_absolute_error: 65.8237\n",
      "Epoch 4/200\n",
      "457/457 [==============================] - 11s 25ms/step - loss: 6864.5659 - mean_absolute_error: 65.9447\n",
      "Epoch 5/200\n",
      "457/457 [==============================] - 9s 19ms/step - loss: 6910.4302 - mean_absolute_error: 66.2487\n",
      "Epoch 6/200\n",
      "457/457 [==============================] - 11s 24ms/step - loss: 6899.6025 - mean_absolute_error: 66.1115\n",
      "Epoch 7/200\n",
      "457/457 [==============================] - 12s 26ms/step - loss: 6929.0767 - mean_absolute_error: 66.3486\n",
      "Epoch 8/200\n",
      "457/457 [==============================] - 12s 26ms/step - loss: 6894.7842 - mean_absolute_error: 66.1771\n",
      "Epoch 9/200\n",
      "457/457 [==============================] - 8s 19ms/step - loss: 6956.9365 - mean_absolute_error: 66.4349\n",
      "Epoch 10/200\n",
      "457/457 [==============================] - 13s 29ms/step - loss: 6917.3857 - mean_absolute_error: 66.3092\n",
      "Epoch 11/200\n",
      "457/457 [==============================] - 12s 26ms/step - loss: 6947.3423 - mean_absolute_error: 66.4138\n",
      "Epoch 12/200\n",
      "457/457 [==============================] - 12s 26ms/step - loss: 6952.9585 - mean_absolute_error: 66.3742\n",
      "Epoch 13/200\n",
      "457/457 [==============================] - 9s 20ms/step - loss: 6934.8389 - mean_absolute_error: 66.3631\n",
      "Epoch 14/200\n",
      "457/457 [==============================] - 15s 33ms/step - loss: 6905.8789 - mean_absolute_error: 66.1765\n",
      "Epoch 15/200\n",
      "457/457 [==============================] - 10s 22ms/step - loss: 6868.2251 - mean_absolute_error: 66.0305\n",
      "Epoch 16/200\n",
      "457/457 [==============================] - 14s 30ms/step - loss: 6813.6104 - mean_absolute_error: 65.6501\n",
      "Epoch 17/200\n",
      "457/457 [==============================] - 12s 26ms/step - loss: 6836.4131 - mean_absolute_error: 65.7538\n",
      "Epoch 18/200\n",
      "457/457 [==============================] - 13s 29ms/step - loss: 6773.1260 - mean_absolute_error: 65.4740\n",
      "Epoch 19/200\n",
      "457/457 [==============================] - 11s 25ms/step - loss: 6829.6489 - mean_absolute_error: 65.7108\n",
      "Epoch 20/200\n",
      "457/457 [==============================] - 13s 29ms/step - loss: 6808.3818 - mean_absolute_error: 65.7353\n",
      "Epoch 21/200\n",
      "457/457 [==============================] - 11s 25ms/step - loss: 6836.9482 - mean_absolute_error: 65.7942\n",
      "Epoch 22/200\n",
      "457/457 [==============================] - 10s 21ms/step - loss: 6793.2432 - mean_absolute_error: 65.5494\n",
      "Epoch 23/200\n",
      "457/457 [==============================] - 15s 32ms/step - loss: 6809.0073 - mean_absolute_error: 65.5908\n",
      "Epoch 24/200\n",
      "457/457 [==============================] - 11s 25ms/step - loss: 6824.8203 - mean_absolute_error: 65.9380\n",
      "Epoch 25/200\n",
      "457/457 [==============================] - 10s 21ms/step - loss: 6847.6963 - mean_absolute_error: 65.8264\n",
      "Epoch 26/200\n",
      "457/457 [==============================] - 15s 32ms/step - loss: 6771.7568 - mean_absolute_error: 65.5137\n",
      "Epoch 27/200\n",
      "457/457 [==============================] - 10s 22ms/step - loss: 6834.3467 - mean_absolute_error: 65.7537\n",
      "Epoch 28/200\n",
      "457/457 [==============================] - 13s 28ms/step - loss: 6842.6528 - mean_absolute_error: 65.9075\n",
      "Epoch 29/200\n",
      "457/457 [==============================] - 20s 43ms/step - loss: 6825.8691 - mean_absolute_error: 65.7704\n",
      "Epoch 30/200\n",
      "457/457 [==============================] - 17s 37ms/step - loss: 6753.4028 - mean_absolute_error: 65.3685\n",
      "Epoch 31/200\n",
      "457/457 [==============================] - 11s 24ms/step - loss: 6779.3804 - mean_absolute_error: 65.4861\n",
      "Epoch 32/200\n",
      "457/457 [==============================] - 12s 26ms/step - loss: 6783.1538 - mean_absolute_error: 65.6233\n",
      "Epoch 33/200\n",
      "457/457 [==============================] - 12s 27ms/step - loss: 6777.2026 - mean_absolute_error: 65.5698\n",
      "Epoch 34/200\n",
      "457/457 [==============================] - 12s 26ms/step - loss: 6776.0010 - mean_absolute_error: 65.5023\n",
      "Epoch 35/200\n",
      "457/457 [==============================] - 13s 28ms/step - loss: 6817.6182 - mean_absolute_error: 65.8737\n",
      "Epoch 36/200\n",
      "457/457 [==============================] - 15s 33ms/step - loss: 6800.2319 - mean_absolute_error: 65.5867\n",
      "Epoch 37/200\n",
      "457/457 [==============================] - 13s 28ms/step - loss: 6783.3999 - mean_absolute_error: 65.5303\n",
      "Epoch 38/200\n",
      "457/457 [==============================] - 13s 29ms/step - loss: 6204.9692 - mean_absolute_error: 62.6003\n",
      "Epoch 39/200\n",
      "457/457 [==============================] - 13s 27ms/step - loss: 4643.6240 - mean_absolute_error: 53.3093\n",
      "Epoch 40/200\n",
      "457/457 [==============================] - 13s 29ms/step - loss: 826.9221 - mean_absolute_error: 19.9075\n",
      "Epoch 41/200\n",
      "457/457 [==============================] - 12s 25ms/step - loss: 297.2980 - mean_absolute_error: 12.0513\n",
      "Epoch 42/200\n",
      "457/457 [==============================] - 12s 25ms/step - loss: 222.1393 - mean_absolute_error: 10.1574\n",
      "Epoch 43/200\n",
      "457/457 [==============================] - 12s 26ms/step - loss: 192.0346 - mean_absolute_error: 9.3889\n",
      "Epoch 44/200\n",
      "457/457 [==============================] - 15s 32ms/step - loss: 167.7856 - mean_absolute_error: 8.6056\n",
      "Epoch 45/200\n",
      "457/457 [==============================] - 12s 27ms/step - loss: 165.0388 - mean_absolute_error: 8.6937\n",
      "Epoch 46/200\n",
      "457/457 [==============================] - 14s 30ms/step - loss: 150.9407 - mean_absolute_error: 8.3611\n",
      "Epoch 47/200\n",
      "457/457 [==============================] - 15s 33ms/step - loss: 133.8097 - mean_absolute_error: 7.7385\n",
      "Epoch 48/200\n",
      "457/457 [==============================] - 12s 26ms/step - loss: 139.3030 - mean_absolute_error: 8.1503\n",
      "Epoch 49/200\n",
      "457/457 [==============================] - 15s 34ms/step - loss: 129.9044 - mean_absolute_error: 7.7989\n",
      "Epoch 50/200\n",
      "457/457 [==============================] - 16s 35ms/step - loss: 126.6137 - mean_absolute_error: 7.7912\n",
      "Epoch 51/200\n",
      "457/457 [==============================] - 12s 27ms/step - loss: 123.4961 - mean_absolute_error: 7.7389\n",
      "Epoch 52/200\n",
      "457/457 [==============================] - 16s 34ms/step - loss: 120.3039 - mean_absolute_error: 7.5766\n",
      "Epoch 53/200\n",
      "457/457 [==============================] - 12s 26ms/step - loss: 113.1007 - mean_absolute_error: 7.2020\n",
      "Epoch 54/200\n",
      "457/457 [==============================] - 15s 33ms/step - loss: 114.9261 - mean_absolute_error: 7.3824\n",
      "Epoch 55/200\n",
      "457/457 [==============================] - 15s 33ms/step - loss: 107.8061 - mean_absolute_error: 7.0787\n",
      "Epoch 56/200\n",
      "457/457 [==============================] - 13s 29ms/step - loss: 111.4603 - mean_absolute_error: 7.2038\n",
      "Epoch 57/200\n",
      "457/457 [==============================] - 14s 31ms/step - loss: 115.5566 - mean_absolute_error: 7.3623\n",
      "Epoch 58/200\n",
      "457/457 [==============================] - 11s 25ms/step - loss: 100.0176 - mean_absolute_error: 6.6950\n",
      "Epoch 59/200\n",
      "457/457 [==============================] - 11s 25ms/step - loss: 98.8045 - mean_absolute_error: 6.5426\n",
      "Epoch 60/200\n",
      "457/457 [==============================] - 15s 33ms/step - loss: 106.4365 - mean_absolute_error: 7.0078\n",
      "Epoch 61/200\n",
      "457/457 [==============================] - 11s 25ms/step - loss: 97.3378 - mean_absolute_error: 6.5433\n",
      "Epoch 62/200\n",
      "457/457 [==============================] - 12s 25ms/step - loss: 114.0853 - mean_absolute_error: 7.4377\n",
      "Epoch 63/200\n",
      "457/457 [==============================] - 12s 26ms/step - loss: 103.9932 - mean_absolute_error: 6.9123\n",
      "Epoch 64/200\n",
      "457/457 [==============================] - 14s 31ms/step - loss: 100.6324 - mean_absolute_error: 6.6895\n",
      "Epoch 65/200\n",
      "457/457 [==============================] - 12s 25ms/step - loss: 98.0889 - mean_absolute_error: 6.6075\n",
      "Epoch 66/200\n",
      "457/457 [==============================] - 15s 33ms/step - loss: 98.6138 - mean_absolute_error: 6.6365\n",
      "Epoch 67/200\n",
      "457/457 [==============================] - 13s 27ms/step - loss: 105.4130 - mean_absolute_error: 6.9961\n",
      "Epoch 68/200\n",
      "457/457 [==============================] - 14s 31ms/step - loss: 101.9772 - mean_absolute_error: 6.9069\n",
      "Epoch 69/200\n",
      "457/457 [==============================] - 11s 25ms/step - loss: 94.3666 - mean_absolute_error: 6.4121\n",
      "Epoch 70/200\n"
     ]
    },
    {
     "name": "stdout",
     "output_type": "stream",
     "text": [
      "457/457 [==============================] - 11s 25ms/step - loss: 95.2520 - mean_absolute_error: 6.4341\n",
      "Epoch 71/200\n",
      "457/457 [==============================] - 15s 32ms/step - loss: 107.4926 - mean_absolute_error: 7.1220\n",
      "Epoch 72/200\n",
      "457/457 [==============================] - 11s 25ms/step - loss: 96.6209 - mean_absolute_error: 6.4882\n",
      "Epoch 73/200\n",
      "457/457 [==============================] - 15s 32ms/step - loss: 105.9539 - mean_absolute_error: 6.9426\n",
      "Epoch 74/200\n",
      "457/457 [==============================] - 12s 25ms/step - loss: 112.3895 - mean_absolute_error: 7.4594\n",
      "Epoch 75/200\n",
      "457/457 [==============================] - 15s 33ms/step - loss: 95.7811 - mean_absolute_error: 6.5335\n",
      "Epoch 76/200\n",
      "457/457 [==============================] - 12s 27ms/step - loss: 92.7526 - mean_absolute_error: 6.3583\n",
      "Epoch 77/200\n",
      "457/457 [==============================] - 13s 29ms/step - loss: 99.3463 - mean_absolute_error: 6.6713\n",
      "Epoch 78/200\n",
      "457/457 [==============================] - 14s 31ms/step - loss: 96.2065 - mean_absolute_error: 6.4513\n",
      "Epoch 79/200\n",
      "457/457 [==============================] - 15s 33ms/step - loss: 93.5273 - mean_absolute_error: 6.4678\n",
      "Epoch 80/200\n",
      "457/457 [==============================] - 15s 33ms/step - loss: 99.8600 - mean_absolute_error: 6.7968\n",
      "Epoch 81/200\n",
      "457/457 [==============================] - 17s 37ms/step - loss: 93.2436 - mean_absolute_error: 6.3346\n",
      "Epoch 82/200\n",
      "457/457 [==============================] - 13s 29ms/step - loss: 92.4473 - mean_absolute_error: 6.3281\n",
      "Epoch 83/200\n",
      "457/457 [==============================] - 11s 25ms/step - loss: 98.4627 - mean_absolute_error: 6.7497\n",
      "Epoch 84/200\n",
      "457/457 [==============================] - 12s 26ms/step - loss: 93.3634 - mean_absolute_error: 6.3924\n",
      "Epoch 85/200\n",
      "457/457 [==============================] - 15s 33ms/step - loss: 94.6119 - mean_absolute_error: 6.3660\n",
      "Epoch 86/200\n",
      "457/457 [==============================] - 16s 34ms/step - loss: 100.3013 - mean_absolute_error: 6.7658\n",
      "Epoch 87/200\n",
      "457/457 [==============================] - 16s 34ms/step - loss: 90.4141 - mean_absolute_error: 6.2973\n",
      "Epoch 88/200\n",
      "457/457 [==============================] - 12s 26ms/step - loss: 107.0796 - mean_absolute_error: 7.0627\n",
      "Epoch 89/200\n",
      "457/457 [==============================] - 12s 25ms/step - loss: 88.3433 - mean_absolute_error: 6.1294\n",
      "Epoch 90/200\n",
      "457/457 [==============================] - 15s 33ms/step - loss: 105.3760 - mean_absolute_error: 7.0643\n",
      "Epoch 91/200\n",
      "457/457 [==============================] - 10s 22ms/step - loss: 87.9790 - mean_absolute_error: 6.1267\n",
      "Epoch 92/200\n",
      "457/457 [==============================] - 11s 25ms/step - loss: 96.8305 - mean_absolute_error: 6.5750\n",
      "Epoch 93/200\n",
      "457/457 [==============================] - 15s 32ms/step - loss: 84.0997 - mean_absolute_error: 5.8956\n",
      "Epoch 94/200\n",
      "457/457 [==============================] - 11s 25ms/step - loss: 83.2702 - mean_absolute_error: 5.8612\n",
      "Epoch 95/200\n",
      "457/457 [==============================] - 13s 28ms/step - loss: 99.9504 - mean_absolute_error: 6.7299\n",
      "Epoch 96/200\n",
      "457/457 [==============================] - 10s 21ms/step - loss: 99.4836 - mean_absolute_error: 6.6105\n",
      "Epoch 97/200\n",
      "457/457 [==============================] - 15s 32ms/step - loss: 91.4891 - mean_absolute_error: 6.3874\n",
      "Epoch 98/200\n",
      "457/457 [==============================] - 11s 25ms/step - loss: 83.4204 - mean_absolute_error: 5.8426\n",
      "Epoch 99/200\n",
      "457/457 [==============================] - 12s 27ms/step - loss: 99.5489 - mean_absolute_error: 6.7871\n",
      "Epoch 100/200\n",
      "457/457 [==============================] - 16s 34ms/step - loss: 101.5670 - mean_absolute_error: 6.7886\n",
      "Epoch 101/200\n",
      "457/457 [==============================] - 12s 26ms/step - loss: 87.6047 - mean_absolute_error: 6.1188\n",
      "Epoch 102/200\n",
      "457/457 [==============================] - 15s 33ms/step - loss: 84.8173 - mean_absolute_error: 5.8709\n",
      "Epoch 103/200\n",
      "457/457 [==============================] - 11s 25ms/step - loss: 85.6338 - mean_absolute_error: 5.9584\n",
      "Epoch 104/200\n",
      "457/457 [==============================] - 12s 26ms/step - loss: 98.0435 - mean_absolute_error: 6.6175\n",
      "Epoch 105/200\n",
      "457/457 [==============================] - 15s 33ms/step - loss: 85.2354 - mean_absolute_error: 5.9366\n",
      "Epoch 106/200\n",
      "457/457 [==============================] - 13s 28ms/step - loss: 89.4418 - mean_absolute_error: 6.1429\n",
      "Epoch 107/200\n",
      "457/457 [==============================] - 14s 29ms/step - loss: 85.7760 - mean_absolute_error: 6.0215\n",
      "Epoch 108/200\n",
      "457/457 [==============================] - 11s 25ms/step - loss: 89.4798 - mean_absolute_error: 6.1672\n",
      "Epoch 109/200\n",
      "457/457 [==============================] - 15s 32ms/step - loss: 96.2931 - mean_absolute_error: 6.4999\n",
      "Epoch 110/200\n",
      "457/457 [==============================] - 11s 25ms/step - loss: 82.3736 - mean_absolute_error: 5.7498\n",
      "Epoch 111/200\n",
      "457/457 [==============================] - 11s 25ms/step - loss: 88.0201 - mean_absolute_error: 6.1104\n",
      "Epoch 112/200\n",
      "457/457 [==============================] - 15s 32ms/step - loss: 92.5866 - mean_absolute_error: 6.4054\n",
      "Epoch 113/200\n",
      "457/457 [==============================] - 16s 34ms/step - loss: 82.0788 - mean_absolute_error: 5.8136\n",
      "Epoch 114/200\n",
      "457/457 [==============================] - 15s 33ms/step - loss: 90.6121 - mean_absolute_error: 6.2868\n",
      "Epoch 115/200\n",
      "457/457 [==============================] - 11s 25ms/step - loss: 83.4862 - mean_absolute_error: 5.8190\n",
      "Epoch 116/200\n",
      "457/457 [==============================] - 10s 21ms/step - loss: 84.9263 - mean_absolute_error: 5.9978\n",
      "Epoch 117/200\n",
      "457/457 [==============================] - 15s 33ms/step - loss: 91.4808 - mean_absolute_error: 6.4109\n",
      "Epoch 118/200\n",
      "457/457 [==============================] - 12s 26ms/step - loss: 88.1616 - mean_absolute_error: 6.2795\n",
      "Epoch 119/200\n",
      "457/457 [==============================] - 12s 26ms/step - loss: 84.8516 - mean_absolute_error: 6.0556\n",
      "Epoch 120/200\n",
      "457/457 [==============================] - 17s 37ms/step - loss: 82.4405 - mean_absolute_error: 5.9329\n",
      "Epoch 121/200\n",
      "457/457 [==============================] - 14s 30ms/step - loss: 79.7776 - mean_absolute_error: 5.8535\n",
      "Epoch 122/200\n",
      "457/457 [==============================] - 15s 34ms/step - loss: 75.7316 - mean_absolute_error: 5.5500\n",
      "Epoch 123/200\n",
      "457/457 [==============================] - 15s 33ms/step - loss: 78.5031 - mean_absolute_error: 5.7286\n",
      "Epoch 124/200\n",
      "457/457 [==============================] - 16s 36ms/step - loss: 76.6206 - mean_absolute_error: 5.7373\n",
      "Epoch 125/200\n",
      "457/457 [==============================] - 12s 27ms/step - loss: 75.3347 - mean_absolute_error: 5.6940\n",
      "Epoch 126/200\n",
      "457/457 [==============================] - 15s 33ms/step - loss: 77.6616 - mean_absolute_error: 5.7919\n",
      "Epoch 127/200\n",
      "457/457 [==============================] - 12s 26ms/step - loss: 79.1627 - mean_absolute_error: 5.9410\n",
      "Epoch 128/200\n",
      "457/457 [==============================] - 15s 33ms/step - loss: 85.8290 - mean_absolute_error: 6.3745\n",
      "Epoch 129/200\n",
      "457/457 [==============================] - 15s 33ms/step - loss: 68.8730 - mean_absolute_error: 5.1879\n",
      "Epoch 130/200\n",
      "457/457 [==============================] - 13s 28ms/step - loss: 77.3246 - mean_absolute_error: 5.7729\n",
      "Epoch 131/200\n",
      "457/457 [==============================] - 15s 33ms/step - loss: 80.2712 - mean_absolute_error: 5.8740\n",
      "Epoch 132/200\n",
      "457/457 [==============================] - 12s 25ms/step - loss: 70.5519 - mean_absolute_error: 5.3489\n",
      "Epoch 133/200\n",
      "457/457 [==============================] - 15s 33ms/step - loss: 72.2568 - mean_absolute_error: 5.4780\n",
      "Epoch 134/200\n",
      "457/457 [==============================] - 10s 22ms/step - loss: 84.3865 - mean_absolute_error: 6.2507\n",
      "Epoch 135/200\n",
      "457/457 [==============================] - 15s 32ms/step - loss: 78.2125 - mean_absolute_error: 5.9150\n",
      "Epoch 136/200\n",
      "457/457 [==============================] - 15s 32ms/step - loss: 75.3557 - mean_absolute_error: 5.7185\n",
      "Epoch 137/200\n",
      "457/457 [==============================] - 11s 25ms/step - loss: 82.7360 - mean_absolute_error: 6.2275\n",
      "Epoch 138/200\n",
      "457/457 [==============================] - 11s 25ms/step - loss: 69.1358 - mean_absolute_error: 5.2989\n",
      "Epoch 139/200\n",
      "457/457 [==============================] - 15s 32ms/step - loss: 75.0023 - mean_absolute_error: 5.6942\n",
      "Epoch 140/200\n"
     ]
    },
    {
     "name": "stdout",
     "output_type": "stream",
     "text": [
      "457/457 [==============================] - 12s 25ms/step - loss: 70.3476 - mean_absolute_error: 5.4135\n",
      "Epoch 141/200\n",
      "457/457 [==============================] - 15s 34ms/step - loss: 77.1397 - mean_absolute_error: 5.8551\n",
      "Epoch 142/200\n",
      "457/457 [==============================] - 14s 30ms/step - loss: 69.3328 - mean_absolute_error: 5.2933\n",
      "Epoch 143/200\n",
      "457/457 [==============================] - 16s 35ms/step - loss: 79.4144 - mean_absolute_error: 6.0073\n",
      "Epoch 144/200\n",
      "457/457 [==============================] - 11s 25ms/step - loss: 73.1834 - mean_absolute_error: 5.5720\n",
      "Epoch 145/200\n",
      "457/457 [==============================] - 15s 34ms/step - loss: 68.5271 - mean_absolute_error: 5.2531\n",
      "Epoch 146/200\n",
      "457/457 [==============================] - 14s 30ms/step - loss: 74.4546 - mean_absolute_error: 5.6761\n",
      "Epoch 147/200\n",
      "457/457 [==============================] - 15s 34ms/step - loss: 74.8519 - mean_absolute_error: 5.7281\n",
      "Epoch 148/200\n",
      "457/457 [==============================] - 12s 26ms/step - loss: 73.1632 - mean_absolute_error: 5.5873\n",
      "Epoch 149/200\n",
      "457/457 [==============================] - 15s 32ms/step - loss: 69.6698 - mean_absolute_error: 5.4007\n",
      "Epoch 150/200\n",
      "457/457 [==============================] - 12s 27ms/step - loss: 68.8801 - mean_absolute_error: 5.2465\n",
      "Epoch 151/200\n",
      "457/457 [==============================] - 14s 30ms/step - loss: 77.9315 - mean_absolute_error: 5.9609\n",
      "Epoch 152/200\n",
      "457/457 [==============================] - 16s 35ms/step - loss: 69.4903 - mean_absolute_error: 5.3424\n",
      "Epoch 153/200\n",
      "457/457 [==============================] - 13s 29ms/step - loss: 75.1095 - mean_absolute_error: 5.7570\n",
      "Epoch 154/200\n",
      "457/457 [==============================] - 15s 33ms/step - loss: 67.8408 - mean_absolute_error: 5.2462\n",
      "Epoch 155/200\n",
      "457/457 [==============================] - 12s 26ms/step - loss: 74.2680 - mean_absolute_error: 5.7317\n",
      "Epoch 156/200\n",
      "457/457 [==============================] - 15s 34ms/step - loss: 69.5177 - mean_absolute_error: 5.3453\n",
      "Epoch 157/200\n",
      "457/457 [==============================] - 14s 31ms/step - loss: 78.2339 - mean_absolute_error: 5.8353\n",
      "Epoch 158/200\n",
      "457/457 [==============================] - 13s 28ms/step - loss: 72.1923 - mean_absolute_error: 5.5511\n",
      "Epoch 159/200\n",
      "457/457 [==============================] - 14s 30ms/step - loss: 75.6464 - mean_absolute_error: 5.7651\n",
      "Epoch 160/200\n",
      "457/457 [==============================] - 13s 28ms/step - loss: 72.9063 - mean_absolute_error: 5.6306\n",
      "Epoch 161/200\n",
      "457/457 [==============================] - 14s 30ms/step - loss: 72.4511 - mean_absolute_error: 5.5586\n",
      "Epoch 162/200\n",
      "457/457 [==============================] - 12s 26ms/step - loss: 67.1928 - mean_absolute_error: 5.2146\n",
      "Epoch 163/200\n",
      "457/457 [==============================] - 14s 30ms/step - loss: 74.6208 - mean_absolute_error: 5.6582\n",
      "Epoch 164/200\n",
      "457/457 [==============================] - 15s 33ms/step - loss: 76.5519 - mean_absolute_error: 5.8076\n",
      "Epoch 165/200\n",
      "457/457 [==============================] - 14s 30ms/step - loss: 72.5606 - mean_absolute_error: 5.5856\n",
      "Epoch 166/200\n",
      "457/457 [==============================] - 12s 26ms/step - loss: 69.6180 - mean_absolute_error: 5.3096\n",
      "Epoch 167/200\n",
      "457/457 [==============================] - 15s 33ms/step - loss: 77.7943 - mean_absolute_error: 5.9274\n",
      "Epoch 168/200\n",
      "457/457 [==============================] - 12s 26ms/step - loss: 75.2185 - mean_absolute_error: 5.8580\n",
      "Epoch 169/200\n",
      "457/457 [==============================] - 12s 25ms/step - loss: 70.2470 - mean_absolute_error: 5.3475\n",
      "Epoch 170/200\n",
      "457/457 [==============================] - 15s 33ms/step - loss: 76.9018 - mean_absolute_error: 5.8791\n",
      "Epoch 171/200\n",
      "457/457 [==============================] - 15s 33ms/step - loss: 72.7090 - mean_absolute_error: 5.4980\n",
      "Epoch 172/200\n",
      "457/457 [==============================] - 12s 27ms/step - loss: 66.9996 - mean_absolute_error: 5.1336\n",
      "Epoch 173/200\n",
      "457/457 [==============================] - 12s 26ms/step - loss: 85.1767 - mean_absolute_error: 6.2850\n",
      "Epoch 174/200\n",
      "457/457 [==============================] - 15s 33ms/step - loss: 63.4567 - mean_absolute_error: 5.0405\n",
      "Epoch 175/200\n",
      "457/457 [==============================] - 16s 34ms/step - loss: 67.9557 - mean_absolute_error: 5.3458\n",
      "Epoch 176/200\n",
      "457/457 [==============================] - 10s 21ms/step - loss: 71.1582 - mean_absolute_error: 5.4860\n",
      "Epoch 177/200\n",
      "457/457 [==============================] - 14s 31ms/step - loss: 69.1390 - mean_absolute_error: 5.4704\n",
      "Epoch 178/200\n",
      "457/457 [==============================] - 16s 34ms/step - loss: 74.8045 - mean_absolute_error: 5.6555\n",
      "Epoch 179/200\n",
      "457/457 [==============================] - 12s 27ms/step - loss: 67.0057 - mean_absolute_error: 5.1991\n",
      "Epoch 180/200\n",
      "457/457 [==============================] - 15s 34ms/step - loss: 65.6793 - mean_absolute_error: 5.0911\n",
      "Epoch 181/200\n",
      "457/457 [==============================] - 12s 27ms/step - loss: 72.5853 - mean_absolute_error: 5.6367\n",
      "Epoch 182/200\n",
      "457/457 [==============================] - 16s 35ms/step - loss: 66.0920 - mean_absolute_error: 5.0464\n",
      "Epoch 183/200\n",
      "457/457 [==============================] - 12s 26ms/step - loss: 68.2974 - mean_absolute_error: 5.3531\n",
      "Epoch 184/200\n",
      "457/457 [==============================] - 15s 32ms/step - loss: 76.0245 - mean_absolute_error: 5.7739\n",
      "Epoch 185/200\n",
      "457/457 [==============================] - 10s 21ms/step - loss: 67.6642 - mean_absolute_error: 5.1953\n",
      "Epoch 186/200\n",
      "457/457 [==============================] - 13s 29ms/step - loss: 72.6010 - mean_absolute_error: 5.6087\n",
      "Epoch 187/200\n",
      "457/457 [==============================] - 13s 29ms/step - loss: 75.9089 - mean_absolute_error: 5.7895\n",
      "Epoch 188/200\n",
      "457/457 [==============================] - 13s 30ms/step - loss: 70.3509 - mean_absolute_error: 5.4709\n",
      "Epoch 189/200\n",
      "457/457 [==============================] - 13s 27ms/step - loss: 65.7377 - mean_absolute_error: 5.1620\n",
      "Epoch 190/200\n",
      "457/457 [==============================] - 11s 25ms/step - loss: 72.6786 - mean_absolute_error: 5.6918\n",
      "Epoch 191/200\n",
      "457/457 [==============================] - 11s 25ms/step - loss: 67.7875 - mean_absolute_error: 5.3320\n",
      "Epoch 192/200\n",
      "457/457 [==============================] - 15s 32ms/step - loss: 64.6973 - mean_absolute_error: 5.0519\n",
      "Epoch 193/200\n",
      "457/457 [==============================] - 11s 25ms/step - loss: 68.1995 - mean_absolute_error: 5.3641\n",
      "Epoch 194/200\n",
      "457/457 [==============================] - 11s 25ms/step - loss: 67.5168 - mean_absolute_error: 5.2989\n",
      "Epoch 195/200\n",
      "457/457 [==============================] - 12s 27ms/step - loss: 65.2692 - mean_absolute_error: 5.1562\n",
      "Epoch 196/200\n",
      "457/457 [==============================] - 14s 30ms/step - loss: 72.8407 - mean_absolute_error: 5.6267\n",
      "Epoch 197/200\n",
      "457/457 [==============================] - 11s 25ms/step - loss: 68.9235 - mean_absolute_error: 5.4069\n",
      "Epoch 198/200\n",
      "457/457 [==============================] - 11s 25ms/step - loss: 68.1783 - mean_absolute_error: 5.2985\n",
      "Epoch 199/200\n",
      "457/457 [==============================] - 13s 29ms/step - loss: 69.0021 - mean_absolute_error: 5.4116\n",
      "Epoch 200/200\n",
      "457/457 [==============================] - 11s 25ms/step - loss: 67.2706 - mean_absolute_error: 5.1970\n"
     ]
    }
   ],
   "source": [
    "# Sequential model developed using hyperparameter obtained from k-fold cross validation\n",
    "\n",
    "\n",
    "model = tf.keras.Sequential()\n",
    " \n",
    "model.add(tf.keras.layers.Embedding(input_dim=6, output_dim=16, mask_zero=True))\n",
    "model.add(tf.keras.layers.GRU(16))\n",
    "   \n",
    "# ANN start layer\n",
    "model.add(tf.keras.layers.Dense(max_len, activation=\"relu\"))\n",
    "model.add(tf.keras.layers.Dense(40, activation=\"relu\"))\n",
    "model.add(tf.keras.layers.Dense(32, activation=\"relu\"))\n",
    "model.add(tf.keras.layers.Dense(24, activation=\"relu\"))\n",
    "model.add(tf.keras.layers.Dense(16, activation=\"relu\"))\n",
    "model.add(tf.keras.layers.Dense(8, activation=\"relu\"))\n",
    "model.add(tf.keras.layers.Dense(4, activation=\"relu\"))\n",
    "    \n",
    "# regression, so no activation\n",
    "model.add(tf.keras.layers.Dense(1))\n",
    "    \n",
    "# compile the model\n",
    "model.compile(loss = tf.losses.MeanSquaredError(), optimizer = tf.optimizers.Adam(), metrics = tf.metrics.MeanAbsoluteError())\n",
    "    \n",
    "# train the model\n",
    "model_history = model.fit(padded_train_X, train_y, batch_size=32, epochs=200)"
   ]
  },
  {
   "cell_type": "code",
   "execution_count": 13,
   "id": "44bb4fa8",
   "metadata": {},
   "outputs": [
    {
     "data": {
      "image/png": "[encoded data removed]",
      "text/plain": [
       "<Figure size 432x288 with 1 Axes>"
      ]
     },
     "metadata": {
      "needs_background": "light"
     },
     "output_type": "display_data"
    },
    {
     "data": {
      "image/png": "[encoded data removed]",
      "text/plain": [
       "<Figure size 432x288 with 1 Axes>"
      ]
     },
     "metadata": {
      "needs_background": "light"
     },
     "output_type": "display_data"
    }
   ],
   "source": [
    "# plotting mse loss\n",
    "training_mse_loss = model_history.history['loss']\n",
    "training_mae_loss = model_history.history['mean_absolute_error']\n",
    "\n",
    "epoch_count = range(1,len(training_mse_loss))\n",
    "\n",
    "plt.plot(epoch_count, training_mse_loss[1:], 'r--')\n",
    "plt.legend(['Training MSE Loss'])\n",
    "plt.xlabel('Epoch')\n",
    "plt.ylabel('Loss')\n",
    "plt.show();\n",
    "\n",
    "plt.plot(epoch_count, training_mae_loss[1:], 'b--')\n",
    "plt.legend(['Training MAE Loss'])\n",
    "plt.xlabel('Epoch')\n",
    "plt.ylabel('Loss')\n",
    "plt.show();"
   ]
  },
  {
   "cell_type": "code",
   "execution_count": 14,
   "id": "4cfc7758",
   "metadata": {},
   "outputs": [
    {
     "name": "stdout",
     "output_type": "stream",
     "text": [
      "153/153 [==============================] - 2s 5ms/step\n",
      "457/457 [==============================] - 2s 5ms/step\n"
     ]
    }
   ],
   "source": [
    "# evaluate on test data\n",
    "yhat = model.predict(padded_test_X)\n",
    "\n",
    "# evaluate on train data\n",
    "yhat_train = model.predict(padded_train_X)"
   ]
  },
  {
   "cell_type": "code",
   "execution_count": 15,
   "id": "d46fd3e9",
   "metadata": {},
   "outputs": [
    {
     "name": "stdout",
     "output_type": "stream",
     "text": [
      "test metrics\n",
      "4.8447762172862605\n",
      "58.67068724131813\n",
      "0.9908688660972674\n",
      "train metrics\n",
      "4.8378285393508715\n",
      "57.67358640913372\n",
      "0.9914975255090233\n"
     ]
    },
    {
     "data": {
      "image/png": "[encoded data removed]",
      "text/plain": [
       "<Figure size 432x288 with 1 Axes>"
      ]
     },
     "metadata": {
      "needs_background": "light"
     },
     "output_type": "display_data"
    }
   ],
   "source": [
    "print(\"test metrics\")\n",
    "mae_test = metrics.mean_absolute_error(test_y,yhat)\n",
    "mse_test = metrics.mean_squared_error(test_y,yhat)\n",
    "r2_test = metrics.r2_score(test_y,yhat)\n",
    "\n",
    "print(mae_test)\n",
    "print(mse_test)\n",
    "print(r2_test)\n",
    "\n",
    "print(\"train metrics\")\n",
    "mae_train = metrics.mean_absolute_error(train_y,yhat_train)\n",
    "mse_train = metrics.mean_squared_error(train_y,yhat_train)\n",
    "r2_train = metrics.r2_score(train_y,yhat_train)\n",
    "\n",
    "print(mae_train)\n",
    "print(mse_train)\n",
    "print(r2_train)\n",
    "\n",
    "plt.scatter(train_y,yhat_train,color = 'purple')\n",
    "plt.scatter(test_y,yhat, color = 'green')\n",
    "plt.plot(train_y,train_y, 'r--')\n",
    "#plt.title('Parity plot')\n",
    "plt.ylabel('predicted formation energy (kcal/mol)')\n",
    "plt.xlabel('actual formation energy (kcal/mol)')\n",
    "plt.legend(['train_set', 'test_set'])\n",
    "plt.show()"
   ]
  },
  {
   "cell_type": "markdown",
   "id": "3580db39",
   "metadata": {},
   "source": [
    "# Saving the trained model"
   ]
  },
  {
   "cell_type": "code",
   "execution_count": 16,
   "id": "e26a8eb5",
   "metadata": {},
   "outputs": [],
   "source": [
    "from tensorflow.keras.models import save_model\n",
    "from tensorflow.keras.models import load_model"
   ]
  },
  {
   "cell_type": "code",
   "execution_count": 17,
   "id": "6cc594ce",
   "metadata": {},
   "outputs": [],
   "source": [
    "# save the model to disk\n",
    "filename = 'output/formation_energy/formationenergy_constraintenergy_model.h5'\n",
    "save_model(model, filename)"
   ]
  },
  {
   "cell_type": "markdown",
   "id": "c583b6ac",
   "metadata": {},
   "source": [
    "# Loading the saved model"
   ]
  },
  {
   "cell_type": "code",
   "execution_count": 18,
   "id": "d124d0d1",
   "metadata": {},
   "outputs": [],
   "source": [
    "# load the model from disk\n",
    "filename = 'output/formation_energy/formationenergy_constraintenergy_model.h5'\n",
    "loaded_model = load_model(filename)"
   ]
  },
  {
   "cell_type": "code",
   "execution_count": 19,
   "id": "936959c1",
   "metadata": {},
   "outputs": [
    {
     "name": "stdout",
     "output_type": "stream",
     "text": [
      "153/153 [==============================] - 2s 5ms/step\n",
      "457/457 [==============================] - 2s 5ms/step\n"
     ]
    }
   ],
   "source": [
    "# evaluate on train and test data\n",
    "yhat_test_loaded = loaded_model.predict(padded_test_X)\n",
    "yhat_train_loaded = loaded_model.predict(padded_train_X)"
   ]
  },
  {
   "cell_type": "code",
   "execution_count": 20,
   "id": "15ed893e",
   "metadata": {},
   "outputs": [
    {
     "name": "stdout",
     "output_type": "stream",
     "text": [
      "test metrics\n",
      "4.8447762172862605\n",
      "58.67068724131813\n",
      "0.9908688660972674\n",
      "train metrics\n",
      "4.8378285393508715\n",
      "57.67358640913372\n",
      "0.9914975255090233\n"
     ]
    }
   ],
   "source": [
    "print(\"test metrics\")\n",
    "mae_test = metrics.mean_absolute_error(test_y,yhat_test_loaded)\n",
    "mse_test = metrics.mean_squared_error(test_y,yhat_test_loaded)\n",
    "r2_test = metrics.r2_score(test_y,yhat_test_loaded)\n",
    "\n",
    "print(mae_test)\n",
    "print(mse_test)\n",
    "print(r2_test)\n",
    "\n",
    "print(\"train metrics\")\n",
    "mae_train = metrics.mean_absolute_error(train_y,yhat_train_loaded)\n",
    "mse_train = metrics.mean_squared_error(train_y,yhat_train_loaded)\n",
    "r2_train = metrics.r2_score(train_y,yhat_train_loaded)\n",
    "\n",
    "print(mae_train)\n",
    "print(mse_train)\n",
    "print(r2_train)"
   ]
  },
  {
   "cell_type": "code",
   "execution_count": 22,
   "id": "4d2af9fe",
   "metadata": {},
   "outputs": [
    {
     "data": {
      "image/png": "[encoded data removed]",
      "text/plain": [
       "<Figure size 432x288 with 1 Axes>"
      ]
     },
     "metadata": {
      "needs_background": "light"
     },
     "output_type": "display_data"
    }
   ],
   "source": [
    "plt.scatter(train_y,yhat_train_loaded,color = 'purple')\n",
    "plt.scatter(test_y,yhat_test_loaded, color = 'green')\n",
    "plt.plot(train_y,train_y, 'r--')\n",
    "\n",
    "plt.ylabel('predicted formation energy \\n (kcal/mol)', fontname=\"Arial\", fontsize=24)\n",
    "plt.xlabel('actual formation energy \\n (kcal/mol)', fontname=\"Arial\", fontsize=24)\n",
    "plt.legend(['train set', 'test set'], fontsize=\"18\", )\n",
    "plt.xticks(fontsize=20, fontname=\"Arial\")\n",
    "plt.yticks(fontsize=20, fontname=\"Arial\")\n",
    "plt.savefig(\"figures/formation_energy/pp_fe_constraintenergy.png\", format=\"png\", dpi=1600, bbox_inches='tight')\n",
    "plt.show()"
   ]
  },
  {
   "cell_type": "code",
   "execution_count": null,
   "id": "7a1ba2f0",
   "metadata": {},
   "outputs": [],
   "source": []
  }
 ],
 "metadata": {
  "kernelspec": {
   "display_name": "Python 3 (ipykernel)",
   "language": "python",
   "name": "python3"
  },
  "language_info": {
   "codemirror_mode": {
    "name": "ipython",
    "version": 3
   },
   "file_extension": ".py",
   "mimetype": "text/x-python",
   "name": "python",
   "nbconvert_exporter": "python",
   "pygments_lexer": "ipython3",
   "version": "3.9.12"
  }
 },
 "nbformat": 4,
 "nbformat_minor": 5
}
