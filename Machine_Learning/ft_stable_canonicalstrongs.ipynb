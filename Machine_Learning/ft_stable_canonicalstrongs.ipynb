{
 "cells": [
  {
   "cell_type": "code",
   "execution_count": 47,
   "id": "fa6f8420",
   "metadata": {},
   "outputs": [],
   "source": [
    "import pandas as pd\n",
    "import numpy as np\n",
    "\n",
    "import matplotlib as mpl\n",
    "import matplotlib.pyplot as plt\n",
    "\n",
    "\n",
    "import random \n",
    "import math\n",
    "\n",
    "import sklearn\n",
    "from sklearn.model_selection import train_test_split\n",
    "from sklearn.model_selection import KFold\n",
    "from sklearn import metrics\n",
    "from sklearn.model_selection import GridSearchCV\n",
    "from sklearn.metrics import r2_score\n",
    "\n",
    "import tensorflow as tf\n",
    "from tensorflow import keras\n",
    "from tensorflow.keras.models import Sequential\n",
    "from tensorflow.keras import layers\n",
    "from tensorflow.keras.layers import Dense, Activation\n",
    "from tensorflow.keras.optimizers import Adam\n",
    "\n",
    "from tensorflow.keras.wrappers.scikit_learn import KerasRegressor"
   ]
  },
  {
   "cell_type": "code",
   "execution_count": 5,
   "id": "cd764c6e",
   "metadata": {},
   "outputs": [
    {
     "name": "stdout",
     "output_type": "stream",
     "text": [
      "<class 'pandas.core.frame.DataFrame'>\n",
      "RangeIndex: 20812 entries, 0 to 20811\n",
      "Data columns (total 6 columns):\n",
      " #   Column                 Non-Null Count  Dtype  \n",
      "---  ------                 --------------  -----  \n",
      " 0   pore_number            20812 non-null  int64  \n",
      " 1   pore_N                 20812 non-null  int64  \n",
      " 2   Canonical_STRONGs      20812 non-null  object \n",
      " 3   formation_time         20812 non-null  float64\n",
      " 4   formation_probability  20812 non-null  float64\n",
      " 5   formation_energy       20812 non-null  float64\n",
      "dtypes: float64(3), int64(2), object(1)\n",
      "memory usage: 975.7+ KB\n"
     ]
    }
   ],
   "source": [
    "# Removing unstable STRONGs (containing S) from the ML dataset \n",
    "csv_data = pd.read_csv('input/ML_data.csv')\n",
    "csv_data.drop(csv_data.columns[csv_data.columns.str.contains('formation_probability', case=False)], axis=1, inplace=True)\n",
    "csv_data.info()\n",
    "\n",
    "substring = 'S'\n",
    "filter = csv_data['Canonical_STRONGs'].str.contains(substring)\n",
    "filtered_csv_data = csv_data[~filter]\n",
    "\n",
    "filtered_csv_data.to_csv('input/ML_data_Stable.csv')\n"
   ]
  },
  {
   "cell_type": "code",
   "execution_count": 48,
   "id": "20f7e491",
   "metadata": {},
   "outputs": [
    {
     "name": "stdout",
     "output_type": "stream",
     "text": [
      "<class 'pandas.core.frame.DataFrame'>\n",
      "RangeIndex: 8985 entries, 0 to 8984\n",
      "Data columns (total 6 columns):\n",
      " #   Column                 Non-Null Count  Dtype  \n",
      "---  ------                 --------------  -----  \n",
      " 0   pore_number            8985 non-null   int64  \n",
      " 1   pore_N                 8985 non-null   int64  \n",
      " 2   Canonical_STRONGs      8985 non-null   object \n",
      " 3   formation_time         8985 non-null   float64\n",
      " 4   formation_probability  8985 non-null   float64\n",
      " 5   formation_energy       8985 non-null   float64\n",
      "dtypes: float64(3), int64(2), object(1)\n",
      "memory usage: 421.3+ KB\n",
      "AAFFFZFZFFFZFAAFFFZFZFFFZF\n",
      "130.08\n"
     ]
    }
   ],
   "source": [
    "# Block - Data Pre-processing \n",
    "\n",
    "csv_data = pd.read_csv('input/ML_data_Stable.csv')\n",
    "csv_data.drop(csv_data.columns[csv_data.columns.str.contains('unnamed', case=False)], axis=1, inplace=True)\n",
    "csv_data.info()\n",
    "\n",
    "train_X, test_X, train_y, test_y = train_test_split(csv_data.Canonical_STRONGs, csv_data.formation_time, test_size = 0.25, random_state = 42)\n",
    "train_X, train_y = train_X.reset_index(drop=True), train_y.reset_index(drop=True)\n",
    "test_X, test_y = test_X.reset_index(drop=True), test_y.reset_index(drop=True)\n",
    "\n",
    "print(train_X[1])\n",
    "print(train_y[1])"
   ]
  },
  {
   "cell_type": "code",
   "execution_count": 49,
   "id": "67b42838",
   "metadata": {},
   "outputs": [],
   "source": [
    "# Block - Data pre-processing (tokenization)\n",
    "\n",
    "tokenizer = tf.keras.preprocessing.text.Tokenizer(\n",
    "    num_words = None, # maximum number of words to keep\n",
    "    filters=\"\", #find each character after other  \n",
    "    char_level=True # treat each character as token\n",
    ")\n",
    "\n",
    "# updates internal vocabulary based on a list of texts, required before using texts_to_sequences\n",
    "tokenizer.fit_on_texts(train_X)"
   ]
  },
  {
   "cell_type": "code",
   "execution_count": 50,
   "id": "f961ceff",
   "metadata": {},
   "outputs": [
    {
     "name": "stdout",
     "output_type": "stream",
     "text": [
      "[3 3 1 1 1 2 1 2 1 1 1 2 1 3 3 1 1 1 2 1 2 1 1 1 2 1 0 0 0 0 0 0 0 0 0 0 0\n",
      " 0 0 0 0 0 0 0 0 0 0 0]\n",
      "[3 3 1 1 1 3 3 1 1 2 1 1 2 1 3 3 1 1 1 2 1 2 1 1 1 3 4 3 1 1 2 1 2 1 1 1 2\n",
      " 1 0 0 0 0 0 0 0 0 0 0]\n"
     ]
    }
   ],
   "source": [
    "# Block - Data pre-processing (padding)\n",
    "\n",
    "# transforms each text in texts to a sequence of integers, padded to a length of 50\n",
    "max_len = csv_data.Canonical_STRONGs.map(lambda x: len(x)).max()\n",
    "\n",
    "train_X = tokenizer.texts_to_sequences(train_X)\n",
    "padded_train_X = tf.keras.preprocessing.sequence.pad_sequences(train_X, padding=\"post\", maxlen = max_len)\n",
    "test_X = tokenizer.texts_to_sequences(test_X)\n",
    "padded_test_X = tf.keras.preprocessing.sequence.pad_sequences(test_X, padding=\"post\", maxlen = max_len)\n",
    "\n",
    "print(padded_train_X[1])\n",
    "print(padded_test_X[15])"
   ]
  },
  {
   "cell_type": "code",
   "execution_count": 51,
   "id": "61cf4bb6",
   "metadata": {},
   "outputs": [
    {
     "name": "stdout",
     "output_type": "stream",
     "text": [
      "48\n"
     ]
    }
   ],
   "source": [
    "print(max_len)"
   ]
  },
  {
   "cell_type": "markdown",
   "id": "20b83bcb",
   "metadata": {},
   "source": [
    "# Hyperparameter Tuning"
   ]
  },
  {
   "cell_type": "code",
   "execution_count": 37,
   "id": "50da99af",
   "metadata": {},
   "outputs": [],
   "source": [
    "# K-Fold Cross validation for hyperparameter tuning\n",
    "\n",
    "def create_model(embedding_dim, gru_units, dense_units, activation):\n",
    "    # building the model\n",
    "    model = tf.keras.Sequential()\n",
    "    # make embedding and indicate that 0 should be treated as padding mask i.e. to ignore 0's\n",
    "    model.add(tf.keras.layers.Embedding(input_dim=6, output_dim=embedding_dim, mask_zero=True))\n",
    "    model.add(tf.keras.layers.GRU(gru_units))\n",
    "    \n",
    "    for units in dense_units:\n",
    "        model.add(tf.keras.layers.Dense(units=units, activation=activation))\n",
    "    \n",
    "    model.add(tf.keras.layers.Dense(1))\n",
    "    \n",
    "    model.compile(loss = tf.losses.MeanSquaredError(), optimizer = tf.optimizers.Adam(), metrics = tf.metrics.MeanAbsoluteError())\n",
    "    return model"
   ]
  },
  {
   "cell_type": "code",
   "execution_count": 38,
   "id": "7b7b05c6",
   "metadata": {},
   "outputs": [],
   "source": [
    "# Parameter Grid to be tuned\n",
    "\n",
    "param_grid = {\n",
    "    'embedding_dim':[8, 16, 32],\n",
    "    'gru_units': [16, 32, max_len],\n",
    "    'dense_units':[[max_len,42,36,30,24,18,12,6,3],[max_len,40,32,24,16,8,4],[max_len,32,16,8,4]],\n",
    "    'activation': ['relu'], \n",
    "}"
   ]
  },
  {
   "cell_type": "code",
   "execution_count": 39,
   "id": "4a59cc4d",
   "metadata": {},
   "outputs": [
    {
     "name": "stderr",
     "output_type": "stream",
     "text": [
      "C:\\Users\\91739\\AppData\\Local\\Temp\\ipykernel_7288\\3396724561.py:4: DeprecationWarning: KerasRegressor is deprecated, use Sci-Keras (https://github.com/adriangb/scikeras) instead. See https://www.adriangb.com/scikeras/stable/migration.html for help migrating.\n",
      "  model = KerasRegressor(build_fn=create_model, verbose=0)\n"
     ]
    }
   ],
   "source": [
    "# Grid search CV (5 fold)\n",
    "\n",
    "# create the KerasRegressor warpper with the RNN model function\n",
    "model = KerasRegressor(build_fn=create_model, verbose=0)\n",
    "\n",
    "# define the cross-validation strategy (K-fold)\n",
    "cross_validation = KFold(n_splits=5)\n",
    "\n",
    "# define the GridSearchCV with the model, hyperparameters, and cross-validation\n",
    "grid_search = GridSearchCV(estimator=model, param_grid=param_grid, cv= cross_validation, scoring='r2') "
   ]
  },
  {
   "cell_type": "code",
   "execution_count": 40,
   "id": "b8d0ad7f",
   "metadata": {},
   "outputs": [
    {
     "data": {
      "text/plain": [
       "GridSearchCV(cv=KFold(n_splits=5, random_state=None, shuffle=False),\n",
       "             estimator=<keras.wrappers.scikit_learn.KerasRegressor object at 0x000002CAB6030B50>,\n",
       "             param_grid={'activation': ['relu'],\n",
       "                         'dense_units': [[48, 42, 36, 30, 24, 18, 12, 6, 3],\n",
       "                                         [48, 40, 32, 24, 16, 8, 4],\n",
       "                                         [48, 32, 16, 8, 4]],\n",
       "                         'embedding_dim': [8, 16, 32],\n",
       "                         'gru_units': [16, 32, 48]},\n",
       "             scoring='r2')"
      ]
     },
     "execution_count": 40,
     "metadata": {},
     "output_type": "execute_result"
    }
   ],
   "source": [
    "grid_search.fit(padded_train_X, train_y)"
   ]
  },
  {
   "cell_type": "code",
   "execution_count": 41,
   "id": "9c47cbb3",
   "metadata": {},
   "outputs": [
    {
     "name": "stdout",
     "output_type": "stream",
     "text": [
      "Best Hyperparameters:  {'activation': 'relu', 'dense_units': [48, 40, 32, 24, 16, 8, 4], 'embedding_dim': 32, 'gru_units': 16}\n",
      "Best R2 Score:  0.0023298052240976032\n"
     ]
    }
   ],
   "source": [
    "# Print the best hyperparameters and corresponding R2 score\n",
    "print(\"Best Hyperparameters: \", grid_search.best_params_)\n",
    "print(\"Best R2 Score: \", grid_search.best_score_)"
   ]
  },
  {
   "cell_type": "markdown",
   "id": "28dd3ef7",
   "metadata": {},
   "source": [
    "# Sequential Model "
   ]
  },
  {
   "cell_type": "code",
   "execution_count": 52,
   "id": "ee7a7457",
   "metadata": {},
   "outputs": [
    {
     "name": "stdout",
     "output_type": "stream",
     "text": [
      "Epoch 1/250\n",
      "211/211 [==============================] - 14s 36ms/step - loss: 12571.2588 - mean_absolute_error: 77.0038\n",
      "Epoch 2/250\n",
      "211/211 [==============================] - 11s 52ms/step - loss: 302.3436 - mean_absolute_error: 13.4363\n",
      "Epoch 3/250\n",
      "211/211 [==============================] - 8s 38ms/step - loss: 303.2173 - mean_absolute_error: 13.4508\n",
      "Epoch 4/250\n",
      "211/211 [==============================] - 8s 36ms/step - loss: 302.6842 - mean_absolute_error: 13.4660\n",
      "Epoch 5/250\n",
      "211/211 [==============================] - 8s 36ms/step - loss: 303.1769 - mean_absolute_error: 13.4596\n",
      "Epoch 6/250\n",
      "211/211 [==============================] - 7s 35ms/step - loss: 303.5251 - mean_absolute_error: 13.4949\n",
      "Epoch 7/250\n",
      "211/211 [==============================] - 7s 35ms/step - loss: 303.3232 - mean_absolute_error: 13.4810\n",
      "Epoch 8/250\n",
      "211/211 [==============================] - 7s 32ms/step - loss: 308.5910 - mean_absolute_error: 13.6198\n",
      "Epoch 9/250\n",
      "211/211 [==============================] - 4s 18ms/step - loss: 302.3582 - mean_absolute_error: 13.4987\n",
      "Epoch 10/250\n",
      "211/211 [==============================] - 4s 17ms/step - loss: 303.8655 - mean_absolute_error: 13.5191\n",
      "Epoch 11/250\n",
      "211/211 [==============================] - 4s 17ms/step - loss: 305.5200 - mean_absolute_error: 13.5904\n",
      "Epoch 12/250\n",
      "211/211 [==============================] - 4s 19ms/step - loss: 299.9422 - mean_absolute_error: 13.4516\n",
      "Epoch 13/250\n",
      "211/211 [==============================] - 4s 18ms/step - loss: 299.4629 - mean_absolute_error: 13.4546\n",
      "Epoch 14/250\n",
      "211/211 [==============================] - 4s 17ms/step - loss: 293.9110 - mean_absolute_error: 13.3542\n",
      "Epoch 15/250\n",
      "211/211 [==============================] - 4s 17ms/step - loss: 271.7000 - mean_absolute_error: 12.8689\n",
      "Epoch 16/250\n",
      "211/211 [==============================] - 4s 17ms/step - loss: 205.0560 - mean_absolute_error: 11.2443\n",
      "Epoch 17/250\n",
      "211/211 [==============================] - 4s 17ms/step - loss: 139.8733 - mean_absolute_error: 9.4492\n",
      "Epoch 18/250\n",
      "211/211 [==============================] - 4s 17ms/step - loss: 109.4708 - mean_absolute_error: 8.3632\n",
      "Epoch 19/250\n",
      "211/211 [==============================] - 4s 17ms/step - loss: 99.5714 - mean_absolute_error: 7.9190\n",
      "Epoch 20/250\n",
      "211/211 [==============================] - 4s 17ms/step - loss: 95.2943 - mean_absolute_error: 7.7899\n",
      "Epoch 21/250\n",
      "211/211 [==============================] - 4s 17ms/step - loss: 91.9708 - mean_absolute_error: 7.6084\n",
      "Epoch 22/250\n",
      "211/211 [==============================] - 4s 17ms/step - loss: 94.2476 - mean_absolute_error: 7.7415\n",
      "Epoch 23/250\n",
      "211/211 [==============================] - 4s 17ms/step - loss: 86.5500 - mean_absolute_error: 7.4076\n",
      "Epoch 24/250\n",
      "211/211 [==============================] - 4s 17ms/step - loss: 92.3550 - mean_absolute_error: 7.6328\n",
      "Epoch 25/250\n",
      "211/211 [==============================] - 4s 18ms/step - loss: 89.5366 - mean_absolute_error: 7.5425\n",
      "Epoch 26/250\n",
      "211/211 [==============================] - 4s 17ms/step - loss: 89.3656 - mean_absolute_error: 7.4975\n",
      "Epoch 27/250\n",
      "211/211 [==============================] - 4s 18ms/step - loss: 84.8359 - mean_absolute_error: 7.3457\n",
      "Epoch 28/250\n",
      "211/211 [==============================] - 4s 17ms/step - loss: 83.5876 - mean_absolute_error: 7.2888\n",
      "Epoch 29/250\n",
      "211/211 [==============================] - 4s 17ms/step - loss: 83.9919 - mean_absolute_error: 7.3221\n",
      "Epoch 30/250\n",
      "211/211 [==============================] - 4s 17ms/step - loss: 81.3198 - mean_absolute_error: 7.2028\n",
      "Epoch 31/250\n",
      "211/211 [==============================] - 4s 17ms/step - loss: 81.5134 - mean_absolute_error: 7.1927\n",
      "Epoch 32/250\n",
      "211/211 [==============================] - 4s 17ms/step - loss: 83.7537 - mean_absolute_error: 7.2910\n",
      "Epoch 33/250\n",
      "211/211 [==============================] - 4s 17ms/step - loss: 78.9260 - mean_absolute_error: 7.0865\n",
      "Epoch 34/250\n",
      "211/211 [==============================] - 4s 17ms/step - loss: 78.6289 - mean_absolute_error: 7.1194\n",
      "Epoch 35/250\n",
      "211/211 [==============================] - 4s 17ms/step - loss: 79.2279 - mean_absolute_error: 7.1043\n",
      "Epoch 36/250\n",
      "211/211 [==============================] - 4s 17ms/step - loss: 76.1250 - mean_absolute_error: 6.9843\n",
      "Epoch 37/250\n",
      "211/211 [==============================] - 4s 17ms/step - loss: 75.1199 - mean_absolute_error: 6.9136\n",
      "Epoch 38/250\n",
      "211/211 [==============================] - 4s 17ms/step - loss: 72.9008 - mean_absolute_error: 6.8437\n",
      "Epoch 39/250\n",
      "211/211 [==============================] - 4s 17ms/step - loss: 72.9454 - mean_absolute_error: 6.8400\n",
      "Epoch 40/250\n",
      "211/211 [==============================] - 4s 17ms/step - loss: 72.8945 - mean_absolute_error: 6.8172\n",
      "Epoch 41/250\n",
      "211/211 [==============================] - 4s 17ms/step - loss: 72.5705 - mean_absolute_error: 6.8227\n",
      "Epoch 42/250\n",
      "211/211 [==============================] - 4s 17ms/step - loss: 70.9651 - mean_absolute_error: 6.7297\n",
      "Epoch 43/250\n",
      "211/211 [==============================] - 4s 17ms/step - loss: 70.7931 - mean_absolute_error: 6.7041\n",
      "Epoch 44/250\n",
      "211/211 [==============================] - 4s 17ms/step - loss: 69.1885 - mean_absolute_error: 6.6201\n",
      "Epoch 45/250\n",
      "211/211 [==============================] - 4s 17ms/step - loss: 67.8164 - mean_absolute_error: 6.5704\n",
      "Epoch 46/250\n",
      "211/211 [==============================] - 4s 17ms/step - loss: 70.1134 - mean_absolute_error: 6.6633\n",
      "Epoch 47/250\n",
      "211/211 [==============================] - 4s 17ms/step - loss: 64.7311 - mean_absolute_error: 6.4252\n",
      "Epoch 48/250\n",
      "211/211 [==============================] - 4s 17ms/step - loss: 67.1136 - mean_absolute_error: 6.5389\n",
      "Epoch 49/250\n",
      "211/211 [==============================] - 4s 17ms/step - loss: 64.2285 - mean_absolute_error: 6.3874\n",
      "Epoch 50/250\n",
      "211/211 [==============================] - 4s 17ms/step - loss: 64.5481 - mean_absolute_error: 6.4216\n",
      "Epoch 51/250\n",
      "211/211 [==============================] - 4s 17ms/step - loss: 60.6950 - mean_absolute_error: 6.2455\n",
      "Epoch 52/250\n",
      "211/211 [==============================] - 4s 17ms/step - loss: 62.5449 - mean_absolute_error: 6.3308\n",
      "Epoch 53/250\n",
      "211/211 [==============================] - 4s 17ms/step - loss: 60.4081 - mean_absolute_error: 6.1948\n",
      "Epoch 54/250\n",
      "211/211 [==============================] - 4s 17ms/step - loss: 60.2870 - mean_absolute_error: 6.2019\n",
      "Epoch 55/250\n",
      "211/211 [==============================] - 4s 18ms/step - loss: 61.5976 - mean_absolute_error: 6.2630\n",
      "Epoch 56/250\n",
      "211/211 [==============================] - 4s 17ms/step - loss: 58.4087 - mean_absolute_error: 6.1083\n",
      "Epoch 57/250\n",
      "211/211 [==============================] - 4s 17ms/step - loss: 61.0788 - mean_absolute_error: 6.2393\n",
      "Epoch 58/250\n",
      "211/211 [==============================] - 4s 17ms/step - loss: 58.6354 - mean_absolute_error: 6.1096\n",
      "Epoch 59/250\n",
      "211/211 [==============================] - 4s 17ms/step - loss: 60.1627 - mean_absolute_error: 6.1959\n",
      "Epoch 60/250\n",
      "211/211 [==============================] - 4s 17ms/step - loss: 56.6804 - mean_absolute_error: 6.0121\n",
      "Epoch 61/250\n",
      "211/211 [==============================] - 4s 17ms/step - loss: 58.2403 - mean_absolute_error: 6.0764\n",
      "Epoch 62/250\n",
      "211/211 [==============================] - 4s 17ms/step - loss: 58.5423 - mean_absolute_error: 6.1023\n",
      "Epoch 63/250\n",
      "211/211 [==============================] - 4s 17ms/step - loss: 55.7310 - mean_absolute_error: 5.9603\n",
      "Epoch 64/250\n",
      "211/211 [==============================] - 4s 17ms/step - loss: 53.3438 - mean_absolute_error: 5.8337\n",
      "Epoch 65/250\n",
      "211/211 [==============================] - 4s 17ms/step - loss: 54.6875 - mean_absolute_error: 5.8914\n",
      "Epoch 66/250\n",
      "211/211 [==============================] - 4s 17ms/step - loss: 51.2456 - mean_absolute_error: 5.7175\n",
      "Epoch 67/250\n",
      "211/211 [==============================] - 4s 17ms/step - loss: 50.7702 - mean_absolute_error: 5.6817\n",
      "Epoch 68/250\n",
      "211/211 [==============================] - 4s 17ms/step - loss: 49.6952 - mean_absolute_error: 5.6088\n",
      "Epoch 69/250\n",
      "211/211 [==============================] - 4s 17ms/step - loss: 52.0623 - mean_absolute_error: 5.7869\n",
      "Epoch 70/250\n",
      "211/211 [==============================] - 4s 17ms/step - loss: 53.9423 - mean_absolute_error: 5.8243\n",
      "Epoch 71/250\n",
      "211/211 [==============================] - 4s 17ms/step - loss: 50.4633 - mean_absolute_error: 5.6827\n"
     ]
    },
    {
     "name": "stdout",
     "output_type": "stream",
     "text": [
      "Epoch 72/250\n",
      "211/211 [==============================] - 4s 17ms/step - loss: 50.9199 - mean_absolute_error: 5.6957\n",
      "Epoch 73/250\n",
      "211/211 [==============================] - 4s 18ms/step - loss: 49.4931 - mean_absolute_error: 5.6123\n",
      "Epoch 74/250\n",
      "211/211 [==============================] - 4s 17ms/step - loss: 49.3209 - mean_absolute_error: 5.6158\n",
      "Epoch 75/250\n",
      "211/211 [==============================] - 4s 17ms/step - loss: 49.1431 - mean_absolute_error: 5.6255\n",
      "Epoch 76/250\n",
      "211/211 [==============================] - 4s 17ms/step - loss: 51.0872 - mean_absolute_error: 5.7044\n",
      "Epoch 77/250\n",
      "211/211 [==============================] - 4s 17ms/step - loss: 48.2551 - mean_absolute_error: 5.5267\n",
      "Epoch 78/250\n",
      "211/211 [==============================] - 4s 17ms/step - loss: 48.3226 - mean_absolute_error: 5.5184\n",
      "Epoch 79/250\n",
      "211/211 [==============================] - 4s 17ms/step - loss: 47.0179 - mean_absolute_error: 5.4772\n",
      "Epoch 80/250\n",
      "211/211 [==============================] - 4s 17ms/step - loss: 47.7359 - mean_absolute_error: 5.5096\n",
      "Epoch 81/250\n",
      "211/211 [==============================] - 4s 17ms/step - loss: 44.9135 - mean_absolute_error: 5.3410\n",
      "Epoch 82/250\n",
      "211/211 [==============================] - 4s 18ms/step - loss: 46.8203 - mean_absolute_error: 5.4346\n",
      "Epoch 83/250\n",
      "211/211 [==============================] - 4s 17ms/step - loss: 46.0412 - mean_absolute_error: 5.4114\n",
      "Epoch 84/250\n",
      "211/211 [==============================] - 4s 17ms/step - loss: 46.6123 - mean_absolute_error: 5.4564\n",
      "Epoch 85/250\n",
      "211/211 [==============================] - 4s 17ms/step - loss: 44.1494 - mean_absolute_error: 5.2802\n",
      "Epoch 86/250\n",
      "211/211 [==============================] - 4s 17ms/step - loss: 43.1871 - mean_absolute_error: 5.2305\n",
      "Epoch 87/250\n",
      "211/211 [==============================] - 4s 17ms/step - loss: 45.1741 - mean_absolute_error: 5.3617\n",
      "Epoch 88/250\n",
      "211/211 [==============================] - 4s 17ms/step - loss: 42.9082 - mean_absolute_error: 5.2186\n",
      "Epoch 89/250\n",
      "211/211 [==============================] - 4s 17ms/step - loss: 43.2229 - mean_absolute_error: 5.2101\n",
      "Epoch 90/250\n",
      "211/211 [==============================] - 4s 18ms/step - loss: 40.6261 - mean_absolute_error: 5.0830\n",
      "Epoch 91/250\n",
      "211/211 [==============================] - 4s 17ms/step - loss: 41.7288 - mean_absolute_error: 5.1216\n",
      "Epoch 92/250\n",
      "211/211 [==============================] - 4s 17ms/step - loss: 41.6873 - mean_absolute_error: 5.1485\n",
      "Epoch 93/250\n",
      "211/211 [==============================] - 4s 17ms/step - loss: 40.6595 - mean_absolute_error: 5.0910\n",
      "Epoch 94/250\n",
      "211/211 [==============================] - 4s 17ms/step - loss: 44.6777 - mean_absolute_error: 5.3355\n",
      "Epoch 95/250\n",
      "211/211 [==============================] - 4s 17ms/step - loss: 42.0255 - mean_absolute_error: 5.1812\n",
      "Epoch 96/250\n",
      "211/211 [==============================] - 4s 17ms/step - loss: 40.6489 - mean_absolute_error: 5.0925\n",
      "Epoch 97/250\n",
      "211/211 [==============================] - 4s 17ms/step - loss: 37.3160 - mean_absolute_error: 4.8749\n",
      "Epoch 98/250\n",
      "211/211 [==============================] - 4s 17ms/step - loss: 39.3363 - mean_absolute_error: 5.0070\n",
      "Epoch 99/250\n",
      "211/211 [==============================] - 4s 17ms/step - loss: 42.6172 - mean_absolute_error: 5.2171\n",
      "Epoch 100/250\n",
      "211/211 [==============================] - 4s 17ms/step - loss: 39.3790 - mean_absolute_error: 5.0000\n",
      "Epoch 101/250\n",
      "211/211 [==============================] - 4s 17ms/step - loss: 37.3211 - mean_absolute_error: 4.8930\n",
      "Epoch 102/250\n",
      "211/211 [==============================] - 4s 17ms/step - loss: 37.5128 - mean_absolute_error: 4.8873\n",
      "Epoch 103/250\n",
      "211/211 [==============================] - 4s 17ms/step - loss: 38.6090 - mean_absolute_error: 4.9486\n",
      "Epoch 104/250\n",
      "211/211 [==============================] - 4s 17ms/step - loss: 39.2672 - mean_absolute_error: 4.9874\n",
      "Epoch 105/250\n",
      "211/211 [==============================] - 4s 17ms/step - loss: 37.6441 - mean_absolute_error: 4.8852\n",
      "Epoch 106/250\n",
      "211/211 [==============================] - 4s 18ms/step - loss: 35.7601 - mean_absolute_error: 4.7917\n",
      "Epoch 107/250\n",
      "211/211 [==============================] - 4s 17ms/step - loss: 35.3382 - mean_absolute_error: 4.7542\n",
      "Epoch 108/250\n",
      "211/211 [==============================] - 4s 18ms/step - loss: 34.8954 - mean_absolute_error: 4.7141\n",
      "Epoch 109/250\n",
      "211/211 [==============================] - 4s 18ms/step - loss: 38.4529 - mean_absolute_error: 4.9466\n",
      "Epoch 110/250\n",
      "211/211 [==============================] - 4s 17ms/step - loss: 37.4737 - mean_absolute_error: 4.8852\n",
      "Epoch 111/250\n",
      "211/211 [==============================] - 4s 17ms/step - loss: 34.2630 - mean_absolute_error: 4.6969\n",
      "Epoch 112/250\n",
      "211/211 [==============================] - 4s 17ms/step - loss: 38.8217 - mean_absolute_error: 4.9666\n",
      "Epoch 113/250\n",
      "211/211 [==============================] - 4s 17ms/step - loss: 33.6374 - mean_absolute_error: 4.6418\n",
      "Epoch 114/250\n",
      "211/211 [==============================] - 4s 17ms/step - loss: 33.0818 - mean_absolute_error: 4.5887\n",
      "Epoch 115/250\n",
      "211/211 [==============================] - 4s 17ms/step - loss: 34.9402 - mean_absolute_error: 4.7333\n",
      "Epoch 116/250\n",
      "211/211 [==============================] - 4s 17ms/step - loss: 34.1082 - mean_absolute_error: 4.6594\n",
      "Epoch 117/250\n",
      "211/211 [==============================] - 4s 17ms/step - loss: 32.7152 - mean_absolute_error: 4.5702\n",
      "Epoch 118/250\n",
      "211/211 [==============================] - 4s 17ms/step - loss: 31.1102 - mean_absolute_error: 4.4664\n",
      "Epoch 119/250\n",
      "211/211 [==============================] - 4s 17ms/step - loss: 33.0598 - mean_absolute_error: 4.5993\n",
      "Epoch 120/250\n",
      "211/211 [==============================] - 4s 17ms/step - loss: 32.2960 - mean_absolute_error: 4.5492\n",
      "Epoch 121/250\n",
      "211/211 [==============================] - 4s 17ms/step - loss: 33.3491 - mean_absolute_error: 4.6142\n",
      "Epoch 122/250\n",
      "211/211 [==============================] - 4s 17ms/step - loss: 31.7046 - mean_absolute_error: 4.5011\n",
      "Epoch 123/250\n",
      "211/211 [==============================] - 4s 17ms/step - loss: 29.9886 - mean_absolute_error: 4.3903\n",
      "Epoch 124/250\n",
      "211/211 [==============================] - 4s 17ms/step - loss: 31.7351 - mean_absolute_error: 4.4968\n",
      "Epoch 125/250\n",
      "211/211 [==============================] - 4s 17ms/step - loss: 31.4588 - mean_absolute_error: 4.4861\n",
      "Epoch 126/250\n",
      "211/211 [==============================] - 4s 17ms/step - loss: 31.1471 - mean_absolute_error: 4.4914\n",
      "Epoch 127/250\n",
      "211/211 [==============================] - 4s 17ms/step - loss: 30.6319 - mean_absolute_error: 4.4305\n",
      "Epoch 128/250\n",
      "211/211 [==============================] - 4s 17ms/step - loss: 30.4388 - mean_absolute_error: 4.4289\n",
      "Epoch 129/250\n",
      "211/211 [==============================] - 4s 17ms/step - loss: 31.3477 - mean_absolute_error: 4.4891\n",
      "Epoch 130/250\n",
      "211/211 [==============================] - 4s 17ms/step - loss: 28.5222 - mean_absolute_error: 4.2826\n",
      "Epoch 131/250\n",
      "211/211 [==============================] - 4s 17ms/step - loss: 32.5903 - mean_absolute_error: 4.5834\n",
      "Epoch 132/250\n",
      "211/211 [==============================] - 4s 17ms/step - loss: 29.4916 - mean_absolute_error: 4.3687\n",
      "Epoch 133/250\n",
      "211/211 [==============================] - 4s 17ms/step - loss: 28.8730 - mean_absolute_error: 4.3028\n",
      "Epoch 134/250\n",
      "211/211 [==============================] - 4s 17ms/step - loss: 27.7066 - mean_absolute_error: 4.2022\n",
      "Epoch 135/250\n",
      "211/211 [==============================] - 4s 17ms/step - loss: 27.8900 - mean_absolute_error: 4.2328\n",
      "Epoch 136/250\n",
      "211/211 [==============================] - 4s 17ms/step - loss: 27.7531 - mean_absolute_error: 4.2220\n",
      "Epoch 137/250\n",
      "211/211 [==============================] - 4s 17ms/step - loss: 27.1153 - mean_absolute_error: 4.1613\n",
      "Epoch 138/250\n",
      "211/211 [==============================] - 4s 17ms/step - loss: 29.3867 - mean_absolute_error: 4.3424\n",
      "Epoch 139/250\n",
      "211/211 [==============================] - 4s 17ms/step - loss: 27.4696 - mean_absolute_error: 4.2171\n",
      "Epoch 140/250\n",
      "211/211 [==============================] - 4s 17ms/step - loss: 28.3881 - mean_absolute_error: 4.2813\n",
      "Epoch 141/250\n",
      "211/211 [==============================] - 4s 17ms/step - loss: 26.8724 - mean_absolute_error: 4.1489\n",
      "Epoch 142/250\n"
     ]
    },
    {
     "name": "stdout",
     "output_type": "stream",
     "text": [
      "211/211 [==============================] - 4s 17ms/step - loss: 26.4769 - mean_absolute_error: 4.1324\n",
      "Epoch 143/250\n",
      "211/211 [==============================] - 4s 17ms/step - loss: 25.4841 - mean_absolute_error: 4.0641\n",
      "Epoch 144/250\n",
      "211/211 [==============================] - 4s 17ms/step - loss: 28.8659 - mean_absolute_error: 4.2853\n",
      "Epoch 145/250\n",
      "211/211 [==============================] - 4s 17ms/step - loss: 27.3264 - mean_absolute_error: 4.1970\n",
      "Epoch 146/250\n",
      "211/211 [==============================] - 4s 17ms/step - loss: 26.2647 - mean_absolute_error: 4.1229\n",
      "Epoch 147/250\n",
      "211/211 [==============================] - 4s 17ms/step - loss: 29.8181 - mean_absolute_error: 4.3424\n",
      "Epoch 148/250\n",
      "211/211 [==============================] - 4s 17ms/step - loss: 26.1709 - mean_absolute_error: 4.1014\n",
      "Epoch 149/250\n",
      "211/211 [==============================] - 4s 17ms/step - loss: 27.2671 - mean_absolute_error: 4.1790\n",
      "Epoch 150/250\n",
      "211/211 [==============================] - 4s 17ms/step - loss: 26.0518 - mean_absolute_error: 4.0891\n",
      "Epoch 151/250\n",
      "211/211 [==============================] - 4s 17ms/step - loss: 26.1467 - mean_absolute_error: 4.1021\n",
      "Epoch 152/250\n",
      "211/211 [==============================] - 4s 17ms/step - loss: 26.3684 - mean_absolute_error: 4.1079\n",
      "Epoch 153/250\n",
      "211/211 [==============================] - 4s 17ms/step - loss: 25.2911 - mean_absolute_error: 4.0193\n",
      "Epoch 154/250\n",
      "211/211 [==============================] - 4s 17ms/step - loss: 26.3842 - mean_absolute_error: 4.1252\n",
      "Epoch 155/250\n",
      "211/211 [==============================] - 4s 17ms/step - loss: 25.5584 - mean_absolute_error: 4.0570\n",
      "Epoch 156/250\n",
      "211/211 [==============================] - 4s 17ms/step - loss: 25.4508 - mean_absolute_error: 4.0640\n",
      "Epoch 157/250\n",
      "211/211 [==============================] - 4s 17ms/step - loss: 25.9877 - mean_absolute_error: 4.0791\n",
      "Epoch 158/250\n",
      "211/211 [==============================] - 4s 17ms/step - loss: 25.0181 - mean_absolute_error: 4.0159\n",
      "Epoch 159/250\n",
      "211/211 [==============================] - 4s 17ms/step - loss: 25.4648 - mean_absolute_error: 4.0581\n",
      "Epoch 160/250\n",
      "211/211 [==============================] - 4s 17ms/step - loss: 26.6798 - mean_absolute_error: 4.1372\n",
      "Epoch 161/250\n",
      "211/211 [==============================] - 4s 17ms/step - loss: 25.0646 - mean_absolute_error: 4.0239\n",
      "Epoch 162/250\n",
      "211/211 [==============================] - 4s 17ms/step - loss: 24.7104 - mean_absolute_error: 3.9929\n",
      "Epoch 163/250\n",
      "211/211 [==============================] - 4s 17ms/step - loss: 25.5104 - mean_absolute_error: 4.0587\n",
      "Epoch 164/250\n",
      "211/211 [==============================] - 4s 17ms/step - loss: 26.0926 - mean_absolute_error: 4.1150\n",
      "Epoch 165/250\n",
      "211/211 [==============================] - 4s 17ms/step - loss: 26.1078 - mean_absolute_error: 4.1059\n",
      "Epoch 166/250\n",
      "211/211 [==============================] - 4s 17ms/step - loss: 28.8084 - mean_absolute_error: 4.2851\n",
      "Epoch 167/250\n",
      "211/211 [==============================] - 4s 17ms/step - loss: 26.6116 - mean_absolute_error: 4.1265\n",
      "Epoch 168/250\n",
      "211/211 [==============================] - 4s 17ms/step - loss: 23.4706 - mean_absolute_error: 3.8811\n",
      "Epoch 169/250\n",
      "211/211 [==============================] - 4s 17ms/step - loss: 23.7362 - mean_absolute_error: 3.9166\n",
      "Epoch 170/250\n",
      "211/211 [==============================] - 4s 18ms/step - loss: 26.8409 - mean_absolute_error: 4.1669\n",
      "Epoch 171/250\n",
      "211/211 [==============================] - 4s 18ms/step - loss: 24.9009 - mean_absolute_error: 4.0110\n",
      "Epoch 172/250\n",
      "211/211 [==============================] - 4s 18ms/step - loss: 23.7989 - mean_absolute_error: 3.9055\n",
      "Epoch 173/250\n",
      "211/211 [==============================] - 4s 17ms/step - loss: 24.8763 - mean_absolute_error: 3.9902\n",
      "Epoch 174/250\n",
      "211/211 [==============================] - 4s 17ms/step - loss: 25.6877 - mean_absolute_error: 4.0494\n",
      "Epoch 175/250\n",
      "211/211 [==============================] - 4s 17ms/step - loss: 24.2761 - mean_absolute_error: 3.9354\n",
      "Epoch 176/250\n",
      "211/211 [==============================] - 4s 17ms/step - loss: 26.4501 - mean_absolute_error: 4.1084\n",
      "Epoch 177/250\n",
      "211/211 [==============================] - 4s 17ms/step - loss: 24.0261 - mean_absolute_error: 3.9397\n",
      "Epoch 178/250\n",
      "211/211 [==============================] - 4s 17ms/step - loss: 23.8289 - mean_absolute_error: 3.9183\n",
      "Epoch 179/250\n",
      "211/211 [==============================] - 4s 17ms/step - loss: 24.1149 - mean_absolute_error: 3.9463\n",
      "Epoch 180/250\n",
      "211/211 [==============================] - 4s 17ms/step - loss: 23.7361 - mean_absolute_error: 3.9258\n",
      "Epoch 181/250\n",
      "211/211 [==============================] - 4s 17ms/step - loss: 24.4349 - mean_absolute_error: 3.9736\n",
      "Epoch 182/250\n",
      "211/211 [==============================] - 4s 17ms/step - loss: 24.0676 - mean_absolute_error: 3.9271\n",
      "Epoch 183/250\n",
      "211/211 [==============================] - 4s 17ms/step - loss: 24.1960 - mean_absolute_error: 3.9335\n",
      "Epoch 184/250\n",
      "211/211 [==============================] - 4s 17ms/step - loss: 28.0447 - mean_absolute_error: 4.2331\n",
      "Epoch 185/250\n",
      "211/211 [==============================] - 4s 17ms/step - loss: 24.3200 - mean_absolute_error: 3.9520\n",
      "Epoch 186/250\n",
      "211/211 [==============================] - 4s 17ms/step - loss: 24.4274 - mean_absolute_error: 3.9553\n",
      "Epoch 187/250\n",
      "211/211 [==============================] - 4s 17ms/step - loss: 22.7773 - mean_absolute_error: 3.8269\n",
      "Epoch 188/250\n",
      "211/211 [==============================] - 4s 18ms/step - loss: 24.5026 - mean_absolute_error: 3.9511\n",
      "Epoch 189/250\n",
      "211/211 [==============================] - 4s 18ms/step - loss: 24.6542 - mean_absolute_error: 3.9876\n",
      "Epoch 190/250\n",
      "211/211 [==============================] - 4s 18ms/step - loss: 24.7215 - mean_absolute_error: 3.9799\n",
      "Epoch 191/250\n",
      "211/211 [==============================] - 4s 18ms/step - loss: 24.2785 - mean_absolute_error: 3.9548\n",
      "Epoch 192/250\n",
      "211/211 [==============================] - 4s 17ms/step - loss: 24.1148 - mean_absolute_error: 3.9353\n",
      "Epoch 193/250\n",
      "211/211 [==============================] - 4s 17ms/step - loss: 23.2379 - mean_absolute_error: 3.8790\n",
      "Epoch 194/250\n",
      "211/211 [==============================] - 4s 17ms/step - loss: 24.8047 - mean_absolute_error: 4.0013\n",
      "Epoch 195/250\n",
      "211/211 [==============================] - 4s 18ms/step - loss: 24.4681 - mean_absolute_error: 3.9538\n",
      "Epoch 196/250\n",
      "211/211 [==============================] - 4s 17ms/step - loss: 24.5944 - mean_absolute_error: 3.9634\n",
      "Epoch 197/250\n",
      "211/211 [==============================] - 4s 17ms/step - loss: 24.6416 - mean_absolute_error: 3.9858\n",
      "Epoch 198/250\n",
      "211/211 [==============================] - 4s 17ms/step - loss: 24.2991 - mean_absolute_error: 3.9536\n",
      "Epoch 199/250\n",
      "211/211 [==============================] - 4s 17ms/step - loss: 23.2959 - mean_absolute_error: 3.8859\n",
      "Epoch 200/250\n",
      "211/211 [==============================] - 4s 17ms/step - loss: 22.9844 - mean_absolute_error: 3.8447\n",
      "Epoch 201/250\n",
      "211/211 [==============================] - 4s 17ms/step - loss: 24.1483 - mean_absolute_error: 3.9339\n",
      "Epoch 202/250\n",
      "211/211 [==============================] - 4s 17ms/step - loss: 25.1900 - mean_absolute_error: 4.0389\n",
      "Epoch 203/250\n",
      "211/211 [==============================] - 4s 17ms/step - loss: 23.2970 - mean_absolute_error: 3.8587\n",
      "Epoch 204/250\n",
      "211/211 [==============================] - 4s 17ms/step - loss: 23.3880 - mean_absolute_error: 3.8873\n",
      "Epoch 205/250\n",
      "211/211 [==============================] - 4s 17ms/step - loss: 22.7873 - mean_absolute_error: 3.8455\n",
      "Epoch 206/250\n",
      "211/211 [==============================] - 4s 17ms/step - loss: 23.7933 - mean_absolute_error: 3.9192\n",
      "Epoch 207/250\n",
      "211/211 [==============================] - 4s 17ms/step - loss: 24.0206 - mean_absolute_error: 3.9279\n",
      "Epoch 208/250\n",
      "211/211 [==============================] - 4s 18ms/step - loss: 23.9129 - mean_absolute_error: 3.9112\n",
      "Epoch 209/250\n",
      "211/211 [==============================] - 4s 17ms/step - loss: 24.5270 - mean_absolute_error: 3.9700\n",
      "Epoch 210/250\n",
      "211/211 [==============================] - 4s 17ms/step - loss: 24.8179 - mean_absolute_error: 4.0095\n",
      "Epoch 211/250\n",
      "211/211 [==============================] - 4s 17ms/step - loss: 23.0821 - mean_absolute_error: 3.8356\n",
      "Epoch 212/250\n"
     ]
    },
    {
     "name": "stdout",
     "output_type": "stream",
     "text": [
      "211/211 [==============================] - 4s 17ms/step - loss: 23.1248 - mean_absolute_error: 3.8530\n",
      "Epoch 213/250\n",
      "211/211 [==============================] - 4s 18ms/step - loss: 24.4389 - mean_absolute_error: 3.9823\n",
      "Epoch 214/250\n",
      "211/211 [==============================] - 4s 17ms/step - loss: 24.0201 - mean_absolute_error: 3.9230\n",
      "Epoch 215/250\n",
      "211/211 [==============================] - 4s 17ms/step - loss: 24.9024 - mean_absolute_error: 4.0004\n",
      "Epoch 216/250\n",
      "211/211 [==============================] - 4s 17ms/step - loss: 24.6877 - mean_absolute_error: 3.9765\n",
      "Epoch 217/250\n",
      "211/211 [==============================] - 4s 17ms/step - loss: 23.4510 - mean_absolute_error: 3.8925\n",
      "Epoch 218/250\n",
      "211/211 [==============================] - 4s 17ms/step - loss: 22.9083 - mean_absolute_error: 3.8495\n",
      "Epoch 219/250\n",
      "211/211 [==============================] - 4s 17ms/step - loss: 22.7319 - mean_absolute_error: 3.8251\n",
      "Epoch 220/250\n",
      "211/211 [==============================] - 4s 17ms/step - loss: 23.7557 - mean_absolute_error: 3.8871\n",
      "Epoch 221/250\n",
      "211/211 [==============================] - 4s 17ms/step - loss: 24.7760 - mean_absolute_error: 3.9927\n",
      "Epoch 222/250\n",
      "211/211 [==============================] - 4s 17ms/step - loss: 24.0247 - mean_absolute_error: 3.9141\n",
      "Epoch 223/250\n",
      "211/211 [==============================] - 4s 18ms/step - loss: 22.7190 - mean_absolute_error: 3.8303\n",
      "Epoch 224/250\n",
      "211/211 [==============================] - 4s 18ms/step - loss: 23.4682 - mean_absolute_error: 3.8809\n",
      "Epoch 225/250\n",
      "211/211 [==============================] - 4s 17ms/step - loss: 23.9219 - mean_absolute_error: 3.9196\n",
      "Epoch 226/250\n",
      "211/211 [==============================] - 4s 17ms/step - loss: 23.1264 - mean_absolute_error: 3.8632\n",
      "Epoch 227/250\n",
      "211/211 [==============================] - 4s 17ms/step - loss: 24.0585 - mean_absolute_error: 3.9263\n",
      "Epoch 228/250\n",
      "211/211 [==============================] - 4s 17ms/step - loss: 23.9083 - mean_absolute_error: 3.9263\n",
      "Epoch 229/250\n",
      "211/211 [==============================] - 4s 17ms/step - loss: 24.7332 - mean_absolute_error: 3.9975\n",
      "Epoch 230/250\n",
      "211/211 [==============================] - 4s 18ms/step - loss: 23.3111 - mean_absolute_error: 3.8776\n",
      "Epoch 231/250\n",
      "211/211 [==============================] - 4s 17ms/step - loss: 22.6611 - mean_absolute_error: 3.8029\n",
      "Epoch 232/250\n",
      "211/211 [==============================] - 4s 18ms/step - loss: 23.9696 - mean_absolute_error: 3.9354\n",
      "Epoch 233/250\n",
      "211/211 [==============================] - 4s 18ms/step - loss: 22.6153 - mean_absolute_error: 3.8026\n",
      "Epoch 234/250\n",
      "211/211 [==============================] - 4s 18ms/step - loss: 23.6455 - mean_absolute_error: 3.8962\n",
      "Epoch 235/250\n",
      "211/211 [==============================] - 4s 18ms/step - loss: 24.5582 - mean_absolute_error: 3.9806\n",
      "Epoch 236/250\n",
      "211/211 [==============================] - 4s 17ms/step - loss: 24.0186 - mean_absolute_error: 3.8991\n",
      "Epoch 237/250\n",
      "211/211 [==============================] - 4s 18ms/step - loss: 23.3944 - mean_absolute_error: 3.8591\n",
      "Epoch 238/250\n",
      "211/211 [==============================] - 4s 18ms/step - loss: 22.7260 - mean_absolute_error: 3.8270\n",
      "Epoch 239/250\n",
      "211/211 [==============================] - 4s 18ms/step - loss: 23.8975 - mean_absolute_error: 3.9059\n",
      "Epoch 240/250\n",
      "211/211 [==============================] - 4s 18ms/step - loss: 23.0257 - mean_absolute_error: 3.8484\n",
      "Epoch 241/250\n",
      "211/211 [==============================] - 4s 17ms/step - loss: 21.7088 - mean_absolute_error: 3.7357\n",
      "Epoch 242/250\n",
      "211/211 [==============================] - 4s 17ms/step - loss: 22.3162 - mean_absolute_error: 3.7815\n",
      "Epoch 243/250\n",
      "211/211 [==============================] - 4s 18ms/step - loss: 24.4961 - mean_absolute_error: 3.9678\n",
      "Epoch 244/250\n",
      "211/211 [==============================] - 4s 17ms/step - loss: 22.0172 - mean_absolute_error: 3.7629\n",
      "Epoch 245/250\n",
      "211/211 [==============================] - 4s 17ms/step - loss: 22.4559 - mean_absolute_error: 3.8038\n",
      "Epoch 246/250\n",
      "211/211 [==============================] - 4s 18ms/step - loss: 23.7668 - mean_absolute_error: 3.9180\n",
      "Epoch 247/250\n",
      "211/211 [==============================] - 4s 17ms/step - loss: 23.9672 - mean_absolute_error: 3.9286\n",
      "Epoch 248/250\n",
      "211/211 [==============================] - 4s 17ms/step - loss: 23.1886 - mean_absolute_error: 3.8437\n",
      "Epoch 249/250\n",
      "211/211 [==============================] - 4s 17ms/step - loss: 22.5148 - mean_absolute_error: 3.7998\n",
      "Epoch 250/250\n",
      "211/211 [==============================] - 4s 18ms/step - loss: 23.3070 - mean_absolute_error: 3.8709\n"
     ]
    }
   ],
   "source": [
    "# Sequential model developed using hyperparameter obtained from k-fold cross validation\n",
    "\n",
    "\n",
    "model = tf.keras.Sequential()\n",
    " \n",
    "model.add(tf.keras.layers.Embedding(input_dim=6, output_dim=32, mask_zero=True))\n",
    "model.add(tf.keras.layers.GRU(16))\n",
    "   \n",
    "# ANN start layer\n",
    "model.add(tf.keras.layers.Dense(max_len, activation=\"relu\"))\n",
    "model.add(tf.keras.layers.Dense(40, activation=\"relu\"))\n",
    "model.add(tf.keras.layers.Dense(32, activation=\"relu\"))\n",
    "model.add(tf.keras.layers.Dense(24, activation=\"relu\"))\n",
    "model.add(tf.keras.layers.Dense(16, activation=\"relu\"))\n",
    "model.add(tf.keras.layers.Dense(8, activation=\"relu\"))\n",
    "model.add(tf.keras.layers.Dense(4, activation=\"relu\"))\n",
    "\n",
    "    \n",
    "# regression, so no activation\n",
    "model.add(tf.keras.layers.Dense(1))\n",
    "    \n",
    "# compile the model\n",
    "model.compile(loss = tf.losses.MeanSquaredError(), optimizer = tf.optimizers.Adam(), metrics = tf.metrics.MeanAbsoluteError())\n",
    "    \n",
    "# train the model\n",
    "model_history = model.fit(padded_train_X, train_y, batch_size=32, epochs=250)"
   ]
  },
  {
   "cell_type": "code",
   "execution_count": 53,
   "id": "bc22f840",
   "metadata": {},
   "outputs": [
    {
     "data": {
      "image/png": "[encoded data removed]",
      "text/plain": [
       "<Figure size 432x288 with 1 Axes>"
      ]
     },
     "metadata": {
      "needs_background": "light"
     },
     "output_type": "display_data"
    },
    {
     "data": {
      "image/png": "[encoded data removed]",
      "text/plain": [
       "<Figure size 432x288 with 1 Axes>"
      ]
     },
     "metadata": {
      "needs_background": "light"
     },
     "output_type": "display_data"
    }
   ],
   "source": [
    "# plotting mse loss\n",
    "training_mse_loss = model_history.history['loss']\n",
    "training_mae_loss = model_history.history['mean_absolute_error']\n",
    "\n",
    "epoch_count = range(1,len(training_mse_loss))\n",
    "\n",
    "plt.plot(epoch_count, training_mse_loss[1:], 'r--')\n",
    "plt.legend(['Training MSE Loss'])\n",
    "plt.xlabel('Epoch')\n",
    "plt.ylabel('Loss')\n",
    "plt.show();\n",
    "\n",
    "plt.plot(epoch_count, training_mae_loss[1:], 'b--')\n",
    "plt.legend(['Training MAE Loss'])\n",
    "plt.xlabel('Epoch')\n",
    "plt.ylabel('Loss')\n",
    "plt.show();"
   ]
  },
  {
   "cell_type": "code",
   "execution_count": 54,
   "id": "ec034674",
   "metadata": {},
   "outputs": [
    {
     "name": "stdout",
     "output_type": "stream",
     "text": [
      "71/71 [==============================] - 1s 5ms/step\n",
      "211/211 [==============================] - 1s 5ms/step\n"
     ]
    }
   ],
   "source": [
    "# evaluate on test data\n",
    "yhat = model.predict(padded_test_X)\n",
    "\n",
    "# evaluate on train data\n",
    "yhat_train = model.predict(padded_train_X)"
   ]
  },
  {
   "cell_type": "code",
   "execution_count": 56,
   "id": "771f5085",
   "metadata": {},
   "outputs": [
    {
     "name": "stdout",
     "output_type": "stream",
     "text": [
      "test metrics\n",
      "3.7549981417280334\n",
      "22.198636281498036\n",
      "0.9322696692642858\n",
      "train metrics\n",
      "3.593582558500268\n",
      "20.251041437553088\n",
      "0.9323872588512421\n"
     ]
    },
    {
     "data": {
      "image/png": "[encoded data removed]",
      "text/plain": [
       "<Figure size 432x288 with 1 Axes>"
      ]
     },
     "metadata": {
      "needs_background": "light"
     },
     "output_type": "display_data"
    }
   ],
   "source": [
    "print(\"test metrics\")\n",
    "mae_test = metrics.mean_absolute_error(test_y,yhat)\n",
    "mse_test = metrics.mean_squared_error(test_y,yhat)\n",
    "r2_test = metrics.r2_score(test_y,yhat)\n",
    "\n",
    "print(mae_test)\n",
    "print(mse_test)\n",
    "print(r2_test)\n",
    "\n",
    "print(\"train metrics\")\n",
    "mae_train = metrics.mean_absolute_error(train_y,yhat_train)\n",
    "mse_train = metrics.mean_squared_error(train_y,yhat_train)\n",
    "r2_train = metrics.r2_score(train_y,yhat_train)\n",
    "\n",
    "print(mae_train)\n",
    "print(mse_train)\n",
    "print(r2_train)\n",
    "\n",
    "plt.scatter(train_y,yhat_train,color = 'purple')\n",
    "plt.scatter(test_y,yhat, color = 'green')\n",
    "plt.plot(train_y,train_y, 'r--')\n",
    "#plt.title('Parity plot')\n",
    "plt.ylabel('predicted formation time (s)')\n",
    "plt.xlabel('actual formation time (s)')\n",
    "plt.legend(['train_set', 'test_set'])\n",
    "plt.show()"
   ]
  },
  {
   "cell_type": "markdown",
   "id": "90566b6e",
   "metadata": {},
   "source": [
    "# Saving the trained model"
   ]
  },
  {
   "cell_type": "code",
   "execution_count": 57,
   "id": "9bc9725b",
   "metadata": {},
   "outputs": [],
   "source": [
    "from tensorflow.keras.models import save_model\n",
    "from tensorflow.keras.models import load_model"
   ]
  },
  {
   "cell_type": "code",
   "execution_count": 58,
   "id": "37892a31",
   "metadata": {},
   "outputs": [],
   "source": [
    "# save the model to disk\n",
    "filename = 'output/formation_time/formationtime_stablestrongs_model.h5'\n",
    "save_model(model, filename)"
   ]
  },
  {
   "cell_type": "markdown",
   "id": "454cfff8",
   "metadata": {},
   "source": [
    "# Loading the saved model"
   ]
  },
  {
   "cell_type": "code",
   "execution_count": 59,
   "id": "f03e49fd",
   "metadata": {},
   "outputs": [],
   "source": [
    "# load the model from disk\n",
    "filename = 'output/formation_time/formationtime_stablestrongs_model.h5'\n",
    "loaded_model = load_model(filename)"
   ]
  },
  {
   "cell_type": "markdown",
   "id": "ffc1aaf3",
   "metadata": {},
   "source": [
    "# Testing the saved model"
   ]
  },
  {
   "cell_type": "code",
   "execution_count": 60,
   "id": "a3e32618",
   "metadata": {},
   "outputs": [
    {
     "name": "stdout",
     "output_type": "stream",
     "text": [
      "71/71 [==============================] - 2s 7ms/step\n",
      "211/211 [==============================] - 1s 5ms/step\n"
     ]
    }
   ],
   "source": [
    "# evaluate on train and test data\n",
    "yhat_test_loaded = loaded_model.predict(padded_test_X)\n",
    "yhat_train_loaded = loaded_model.predict(padded_train_X)"
   ]
  },
  {
   "cell_type": "code",
   "execution_count": 61,
   "id": "e55181d4",
   "metadata": {},
   "outputs": [
    {
     "name": "stdout",
     "output_type": "stream",
     "text": [
      "test metrics\n",
      "3.7549981417280334\n",
      "22.198636281498036\n",
      "0.9322696692642858\n",
      "train metrics\n",
      "3.593582558500268\n",
      "20.251041437553088\n",
      "0.9323872588512421\n"
     ]
    }
   ],
   "source": [
    "print(\"test metrics\")\n",
    "mae_test = metrics.mean_absolute_error(test_y,yhat_test_loaded)\n",
    "mse_test = metrics.mean_squared_error(test_y,yhat_test_loaded)\n",
    "r2_test = metrics.r2_score(test_y,yhat_test_loaded)\n",
    "\n",
    "print(mae_test)\n",
    "print(mse_test)\n",
    "print(r2_test)\n",
    "\n",
    "print(\"train metrics\")\n",
    "mae_train = metrics.mean_absolute_error(train_y,yhat_train_loaded)\n",
    "mse_train = metrics.mean_squared_error(train_y,yhat_train_loaded)\n",
    "r2_train = metrics.r2_score(train_y,yhat_train_loaded)\n",
    "\n",
    "print(mae_train)\n",
    "print(mse_train)\n",
    "print(r2_train)"
   ]
  },
  {
   "cell_type": "code",
   "execution_count": 62,
   "id": "8766a806",
   "metadata": {},
   "outputs": [
    {
     "data": {
      "image/png": "[encoded data removed]",
      "text/plain": [
       "<Figure size 432x288 with 1 Axes>"
      ]
     },
     "metadata": {
      "needs_background": "light"
     },
     "output_type": "display_data"
    }
   ],
   "source": [
    "plt.scatter(train_y,yhat_train_loaded,color = 'purple')\n",
    "plt.scatter(test_y,yhat_test_loaded, color = 'green')\n",
    "plt.plot(train_y,train_y, 'r--')\n",
    "\n",
    "plt.ylabel('predicted formation time \\n (s)', fontname=\"Arial\", fontsize=24)\n",
    "plt.xlabel('actual formation time \\n (s)', fontname=\"Arial\", fontsize=24)\n",
    "plt.legend(['train set', 'test set'], fontsize=\"18\", )\n",
    "plt.xticks(fontsize=20, fontname=\"Arial\")\n",
    "plt.yticks(fontsize=20, fontname=\"Arial\")\n",
    "plt.savefig(\"figures/formation_time/pp_ft_stablestrongs.png\", format=\"png\", dpi=1600, bbox_inches='tight')\n",
    "plt.show()"
   ]
  },
  {
   "cell_type": "code",
   "execution_count": null,
   "id": "0dd0e0cc",
   "metadata": {},
   "outputs": [],
   "source": []
  }
 ],
 "metadata": {
  "kernelspec": {
   "display_name": "Python 3 (ipykernel)",
   "language": "python",
   "name": "python3"
  },
  "language_info": {
   "codemirror_mode": {
    "name": "ipython",
    "version": 3
   },
   "file_extension": ".py",
   "mimetype": "text/x-python",
   "name": "python",
   "nbconvert_exporter": "python",
   "pygments_lexer": "ipython3",
   "version": "3.9.12"
  }
 },
 "nbformat": 4,
 "nbformat_minor": 5
}
