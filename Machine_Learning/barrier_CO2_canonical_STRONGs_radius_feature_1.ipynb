{
 "cells": [
  {
   "cell_type": "code",
   "execution_count": 2,
   "id": "807ab96b",
   "metadata": {},
   "outputs": [],
   "source": [
    "import pandas as pd\n",
    "import numpy as np\n",
    "\n",
    "import matplotlib as mpl\n",
    "import matplotlib.pyplot as plt\n",
    "\n",
    "\n",
    "import random \n",
    "import math\n",
    "\n",
    "import sklearn\n",
    "from sklearn.model_selection import train_test_split\n",
    "from sklearn.model_selection import KFold\n",
    "from sklearn import metrics\n",
    "from sklearn.model_selection import GridSearchCV\n",
    "from sklearn.metrics import r2_score\n",
    "\n",
    "import tensorflow as tf\n",
    "from tensorflow import keras\n",
    "from tensorflow.keras.models import Sequential\n",
    "from tensorflow.keras import layers\n",
    "from tensorflow.keras.layers import Dense, Activation\n",
    "from tensorflow.keras.optimizers import Adam\n",
    "\n",
    "from tensorflow.keras.wrappers.scikit_learn import KerasRegressor"
   ]
  },
  {
   "cell_type": "code",
   "execution_count": 3,
   "id": "519ec043",
   "metadata": {},
   "outputs": [
    {
     "name": "stdout",
     "output_type": "stream",
     "text": [
      "<class 'pandas.core.frame.DataFrame'>\n",
      "RangeIndex: 20812 entries, 0 to 20811\n",
      "Data columns (total 8 columns):\n",
      " #   Column             Non-Null Count  Dtype  \n",
      "---  ------             --------------  -----  \n",
      " 0   Unnamed: 0         20812 non-null  int64  \n",
      " 1   pore_number        20812 non-null  int64  \n",
      " 2   pore_N             20812 non-null  int64  \n",
      " 3   Canonical_STRONGs  20812 non-null  object \n",
      " 4   barrier_CO2        20812 non-null  float64\n",
      " 5   x_coord            20812 non-null  float64\n",
      " 6   y_coord            20812 non-null  float64\n",
      " 7   radius             20812 non-null  float64\n",
      "dtypes: float64(4), int64(3), object(1)\n",
      "memory usage: 1.3+ MB\n",
      "243AAFFFSFZFFZFFAAFFFZFZFAAFFFZFZFFZFF\n",
      "2.39\n"
     ]
    }
   ],
   "source": [
    "# Block - Data Pre-processing \n",
    "\n",
    "csv_data = pd.read_csv('input/CO2_barrier_dataset_radius_feture.csv')\n",
    "csv_data.info()\n",
    "\n",
    "train_X, test_X, train_y, test_y = train_test_split(csv_data.Canonical_STRONGs, csv_data.barrier_CO2, test_size = 0.25, random_state = 42)\n",
    "train_X, train_y = train_X.reset_index(drop=True), train_y.reset_index(drop=True)\n",
    "test_X, test_y = test_X.reset_index(drop=True), test_y.reset_index(drop=True)\n",
    "\n",
    "print(train_X[1])\n",
    "print(train_y[1])"
   ]
  },
  {
   "cell_type": "code",
   "execution_count": 4,
   "id": "b17c2c04",
   "metadata": {},
   "outputs": [],
   "source": [
    "# Block - Data pre-processing (tokenization)\n",
    "\n",
    "tokenizer = tf.keras.preprocessing.text.Tokenizer(\n",
    "    num_words = None, # maximum number of words to keep\n",
    "    filters=\"\", #find each character after other  \n",
    "    char_level=True # treat each character as token\n",
    ")\n",
    "\n",
    "# updates internal vocabulary based on a list of texts, required before using texts_to_sequences\n",
    "tokenizer.fit_on_texts(train_X)"
   ]
  },
  {
   "cell_type": "code",
   "execution_count": 5,
   "id": "98d4f312",
   "metadata": {},
   "outputs": [
    {
     "name": "stdout",
     "output_type": "stream",
     "text": [
      "[4 6 9 3 3 1 1 1 5 1 2 1 1 2 1 1 3 3 1 1 1 2 1 2 1 3 3 1 1 1 2 1 2 1 1 2 1\n",
      " 1 0 0 0 0 0 0 0 0 0 0 0 0 0]\n",
      "[ 4 13 12  3  3  1  1  1  2  1  1  3  5  1  2  1  1  2  1  1  2  1  3  3\n",
      "  1  1  1  2  1  2  1  1  2  1  2  1  1  0  0  0  0  0  0  0  0  0  0  0\n",
      "  0  0  0]\n"
     ]
    }
   ],
   "source": [
    "# Block - Data pre-processing (padding)\n",
    "\n",
    "# transforms each text in texts to a sequence of integers, padded to a length of 50\n",
    "max_len = csv_data.Canonical_STRONGs.map(lambda x: len(x)).max()\n",
    "\n",
    "train_X = tokenizer.texts_to_sequences(train_X)\n",
    "padded_train_X = tf.keras.preprocessing.sequence.pad_sequences(train_X, padding=\"post\", maxlen = max_len)\n",
    "test_X = tokenizer.texts_to_sequences(test_X)\n",
    "padded_test_X = tf.keras.preprocessing.sequence.pad_sequences(test_X, padding=\"post\", maxlen = max_len)\n",
    "\n",
    "print(padded_train_X[1])\n",
    "print(padded_test_X[15])"
   ]
  },
  {
   "cell_type": "code",
   "execution_count": 6,
   "id": "1215dcd6",
   "metadata": {},
   "outputs": [
    {
     "name": "stdout",
     "output_type": "stream",
     "text": [
      "51\n"
     ]
    }
   ],
   "source": [
    "print(max_len)"
   ]
  },
  {
   "cell_type": "markdown",
   "id": "b6cbdf2e",
   "metadata": {},
   "source": [
    "# Hyperparameter Tuning"
   ]
  },
  {
   "cell_type": "code",
   "execution_count": 20,
   "id": "b2f7d86e",
   "metadata": {},
   "outputs": [],
   "source": [
    "# K-Fold Cross validation for hyperparameter tuning\n",
    "vocab_size = 17\n",
    "\n",
    "def create_model(embedding_dim, gru_units, dense_units, activation):\n",
    "    model = tf.keras.Sequential()\n",
    "    model.add(tf.keras.layers.Embedding(input_dim=vocab_size, output_dim=embedding_dim, mask_zero=True))\n",
    "    model.add(tf.keras.layers.GRU(gru_units))\n",
    "    \n",
    "    for units in dense_units:\n",
    "        model.add(tf.keras.layers.Dense(units=units, activation=activation))\n",
    "    \n",
    "    model.add(tf.keras.layers.Dense(1))\n",
    "    \n",
    "    model.compile(loss = tf.losses.MeanSquaredError() , optimizer = tf.optimizers.Adam(), metrics = tf.metrics.MeanAbsoluteError())\n",
    "    return model"
   ]
  },
  {
   "cell_type": "code",
   "execution_count": 21,
   "id": "7250a1f3",
   "metadata": {},
   "outputs": [],
   "source": [
    "# Parameter Grid to be tuned\n",
    "\n",
    "param_grid = {\n",
    "    'embedding_dim':[16, 32, max_len],\n",
    "    'gru_units': [16, 32, max_len],\n",
    "    'dense_units':[[max_len,45,40,35,30,25,20,15,10,5],[max_len,42,36,30,24,18,12,6,3],[max_len,32,24,16,8,4]],\n",
    "    'activation': ['relu'], \n",
    "}"
   ]
  },
  {
   "cell_type": "code",
   "execution_count": 22,
   "id": "a00ca735",
   "metadata": {},
   "outputs": [
    {
     "name": "stderr",
     "output_type": "stream",
     "text": [
      "C:\\Users\\91739\\AppData\\Local\\Temp\\ipykernel_24204\\3396724561.py:4: DeprecationWarning: KerasRegressor is deprecated, use Sci-Keras (https://github.com/adriangb/scikeras) instead. See https://www.adriangb.com/scikeras/stable/migration.html for help migrating.\n",
      "  model = KerasRegressor(build_fn=create_model, verbose=0)\n"
     ]
    }
   ],
   "source": [
    "# Grid search CV (5 fold)\n",
    "\n",
    "# create the KerasRegressor warpper with the RNN model function\n",
    "model = KerasRegressor(build_fn=create_model, verbose=0)\n",
    "\n",
    "# define the cross-validation strategy (K-fold)\n",
    "cross_validation = KFold(n_splits=5)\n",
    "\n",
    "# define the GridSearchCV with the model, hyperparameters, and cross-validation\n",
    "grid_search = GridSearchCV(estimator=model, param_grid=param_grid, cv= cross_validation, scoring='r2') "
   ]
  },
  {
   "cell_type": "code",
   "execution_count": 23,
   "id": "45bbe291",
   "metadata": {},
   "outputs": [
    {
     "data": {
      "text/plain": [
       "GridSearchCV(cv=KFold(n_splits=5, random_state=None, shuffle=False),\n",
       "             estimator=<keras.wrappers.scikit_learn.KerasRegressor object at 0x000001F2393B6880>,\n",
       "             param_grid={'activation': ['relu'],\n",
       "                         'dense_units': [[51, 45, 40, 35, 30, 25, 20, 15, 10,\n",
       "                                          5],\n",
       "                                         [51, 42, 36, 30, 24, 18, 12, 6, 3],\n",
       "                                         [51, 32, 24, 16, 8, 4]],\n",
       "                         'embedding_dim': [16, 32, 51],\n",
       "                         'gru_units': [16, 32, 51]},\n",
       "             scoring='r2')"
      ]
     },
     "execution_count": 23,
     "metadata": {},
     "output_type": "execute_result"
    }
   ],
   "source": [
    "grid_search.fit(padded_train_X, train_y)"
   ]
  },
  {
   "cell_type": "code",
   "execution_count": 24,
   "id": "a066b84c",
   "metadata": {},
   "outputs": [
    {
     "name": "stdout",
     "output_type": "stream",
     "text": [
      "Best Hyperparameters:  {'activation': 'relu', 'dense_units': [51, 32, 24, 16, 8, 4], 'embedding_dim': 51, 'gru_units': 51}\n",
      "Best R2 Score:  0.12295870582505093\n"
     ]
    }
   ],
   "source": [
    "# Print the best hyperparameters and corresponding R2 score\n",
    "print(\"Best Hyperparameters: \", grid_search.best_params_)\n",
    "print(\"Best R2 Score: \", grid_search.best_score_)"
   ]
  },
  {
   "cell_type": "markdown",
   "id": "afb203bb",
   "metadata": {},
   "source": [
    "# Developed Sequential Model"
   ]
  },
  {
   "cell_type": "code",
   "execution_count": 54,
   "id": "af8a84a1",
   "metadata": {},
   "outputs": [
    {
     "name": "stdout",
     "output_type": "stream",
     "text": [
      "Epoch 1/200\n",
      "488/488 [==============================] - 20s 34ms/step - loss: 60.6766 - mean_absolute_error: 4.0005\n",
      "Epoch 2/200\n",
      "488/488 [==============================] - 16s 33ms/step - loss: 28.0358 - mean_absolute_error: 2.0040\n",
      "Epoch 3/200\n",
      "488/488 [==============================] - 16s 33ms/step - loss: 28.3573 - mean_absolute_error: 1.9275\n",
      "Epoch 4/200\n",
      "488/488 [==============================] - 16s 33ms/step - loss: 17.4150 - mean_absolute_error: 1.5539\n",
      "Epoch 5/200\n",
      "488/488 [==============================] - 16s 33ms/step - loss: 13.1775 - mean_absolute_error: 1.3483\n",
      "Epoch 6/200\n",
      "488/488 [==============================] - 16s 33ms/step - loss: 11.3331 - mean_absolute_error: 1.2484\n",
      "Epoch 7/200\n",
      "488/488 [==============================] - 16s 33ms/step - loss: 9.5175 - mean_absolute_error: 1.1751\n",
      "Epoch 8/200\n",
      "488/488 [==============================] - 16s 33ms/step - loss: 10.4416 - mean_absolute_error: 1.2466\n",
      "Epoch 9/200\n",
      "488/488 [==============================] - 16s 33ms/step - loss: 7.3077 - mean_absolute_error: 1.0580\n",
      "Epoch 10/200\n",
      "488/488 [==============================] - 16s 33ms/step - loss: 6.4560 - mean_absolute_error: 1.0001\n",
      "Epoch 11/200\n",
      "488/488 [==============================] - 16s 33ms/step - loss: 6.4587 - mean_absolute_error: 1.0052\n",
      "Epoch 12/200\n",
      "488/488 [==============================] - 18s 37ms/step - loss: 6.4455 - mean_absolute_error: 1.0137\n",
      "Epoch 13/200\n",
      "488/488 [==============================] - 16s 33ms/step - loss: 6.2173 - mean_absolute_error: 1.0002\n",
      "Epoch 14/200\n",
      "488/488 [==============================] - 16s 33ms/step - loss: 6.0373 - mean_absolute_error: 0.9857\n",
      "Epoch 15/200\n",
      "488/488 [==============================] - 16s 33ms/step - loss: 5.7565 - mean_absolute_error: 0.9268\n",
      "Epoch 16/200\n",
      "488/488 [==============================] - 16s 33ms/step - loss: 5.6254 - mean_absolute_error: 0.9194\n",
      "Epoch 17/200\n",
      "488/488 [==============================] - 16s 33ms/step - loss: 5.6417 - mean_absolute_error: 0.9238\n",
      "Epoch 18/200\n",
      "488/488 [==============================] - 16s 33ms/step - loss: 5.4376 - mean_absolute_error: 0.9178\n",
      "Epoch 19/200\n",
      "488/488 [==============================] - 16s 33ms/step - loss: 5.5776 - mean_absolute_error: 0.9479\n",
      "Epoch 20/200\n",
      "488/488 [==============================] - 16s 33ms/step - loss: 5.3248 - mean_absolute_error: 0.8861\n",
      "Epoch 21/200\n",
      "488/488 [==============================] - 16s 33ms/step - loss: 5.5271 - mean_absolute_error: 0.8922\n",
      "Epoch 22/200\n",
      "488/488 [==============================] - 16s 33ms/step - loss: 5.4451 - mean_absolute_error: 0.9006\n",
      "Epoch 23/200\n",
      "488/488 [==============================] - 16s 32ms/step - loss: 5.4083 - mean_absolute_error: 0.8950\n",
      "Epoch 24/200\n",
      "488/488 [==============================] - 16s 32ms/step - loss: 5.2577 - mean_absolute_error: 0.8831\n",
      "Epoch 25/200\n",
      "488/488 [==============================] - 16s 32ms/step - loss: 5.3395 - mean_absolute_error: 0.8943\n",
      "Epoch 26/200\n",
      "488/488 [==============================] - 16s 32ms/step - loss: 4.9952 - mean_absolute_error: 0.8586\n",
      "Epoch 27/200\n",
      "488/488 [==============================] - 16s 32ms/step - loss: 5.1706 - mean_absolute_error: 0.8725\n",
      "Epoch 28/200\n",
      "488/488 [==============================] - 16s 32ms/step - loss: 5.0255 - mean_absolute_error: 0.8671\n",
      "Epoch 29/200\n",
      "488/488 [==============================] - 16s 32ms/step - loss: 5.0252 - mean_absolute_error: 0.8684\n",
      "Epoch 30/200\n",
      "488/488 [==============================] - 16s 32ms/step - loss: 4.9690 - mean_absolute_error: 0.8541\n",
      "Epoch 31/200\n",
      "488/488 [==============================] - 17s 34ms/step - loss: 4.8310 - mean_absolute_error: 0.8518\n",
      "Epoch 32/200\n",
      "488/488 [==============================] - 16s 32ms/step - loss: 4.6715 - mean_absolute_error: 0.8346\n",
      "Epoch 33/200\n",
      "488/488 [==============================] - 16s 32ms/step - loss: 4.9788 - mean_absolute_error: 0.8544\n",
      "Epoch 34/200\n",
      "488/488 [==============================] - 17s 34ms/step - loss: 4.6845 - mean_absolute_error: 0.8380\n",
      "Epoch 35/200\n",
      "488/488 [==============================] - 18s 38ms/step - loss: 4.7964 - mean_absolute_error: 0.8433\n",
      "Epoch 36/200\n",
      "488/488 [==============================] - 18s 36ms/step - loss: 4.4043 - mean_absolute_error: 0.8244\n",
      "Epoch 37/200\n",
      "488/488 [==============================] - 16s 34ms/step - loss: 4.4145 - mean_absolute_error: 0.8162\n",
      "Epoch 38/200\n",
      "488/488 [==============================] - 16s 33ms/step - loss: 4.5419 - mean_absolute_error: 0.8255\n",
      "Epoch 39/200\n",
      "488/488 [==============================] - 16s 32ms/step - loss: 4.3890 - mean_absolute_error: 0.8209\n",
      "Epoch 40/200\n",
      "488/488 [==============================] - 16s 33ms/step - loss: 4.4569 - mean_absolute_error: 0.7996\n",
      "Epoch 41/200\n",
      "488/488 [==============================] - 16s 33ms/step - loss: 4.3671 - mean_absolute_error: 0.8219\n",
      "Epoch 42/200\n",
      "488/488 [==============================] - 16s 33ms/step - loss: 4.0523 - mean_absolute_error: 0.7792\n",
      "Epoch 43/200\n",
      "488/488 [==============================] - 16s 33ms/step - loss: 4.0329 - mean_absolute_error: 0.7783\n",
      "Epoch 44/200\n",
      "488/488 [==============================] - 16s 33ms/step - loss: 3.9046 - mean_absolute_error: 0.7669\n",
      "Epoch 45/200\n",
      "488/488 [==============================] - 16s 32ms/step - loss: 3.8978 - mean_absolute_error: 0.7728\n",
      "Epoch 46/200\n",
      "488/488 [==============================] - 16s 33ms/step - loss: 3.8511 - mean_absolute_error: 0.7578\n",
      "Epoch 47/200\n",
      "488/488 [==============================] - 16s 33ms/step - loss: 3.7153 - mean_absolute_error: 0.7509\n",
      "Epoch 48/200\n",
      "488/488 [==============================] - 16s 32ms/step - loss: 3.6753 - mean_absolute_error: 0.7444\n",
      "Epoch 49/200\n",
      "488/488 [==============================] - 16s 33ms/step - loss: 3.6064 - mean_absolute_error: 0.7417\n",
      "Epoch 50/200\n",
      "488/488 [==============================] - 16s 33ms/step - loss: 3.4212 - mean_absolute_error: 0.7305\n",
      "Epoch 51/200\n",
      "488/488 [==============================] - 16s 32ms/step - loss: 3.4443 - mean_absolute_error: 0.7410\n",
      "Epoch 52/200\n",
      "488/488 [==============================] - 16s 33ms/step - loss: 3.2846 - mean_absolute_error: 0.7232\n",
      "Epoch 53/200\n",
      "488/488 [==============================] - 16s 33ms/step - loss: 3.4537 - mean_absolute_error: 0.7359\n",
      "Epoch 54/200\n",
      "488/488 [==============================] - 16s 33ms/step - loss: 3.0997 - mean_absolute_error: 0.7148\n",
      "Epoch 55/200\n",
      "488/488 [==============================] - 16s 32ms/step - loss: 3.0225 - mean_absolute_error: 0.7054\n",
      "Epoch 56/200\n",
      "488/488 [==============================] - 16s 33ms/step - loss: 2.9896 - mean_absolute_error: 0.7030\n",
      "Epoch 57/200\n",
      "488/488 [==============================] - 15s 32ms/step - loss: 2.9287 - mean_absolute_error: 0.7014\n",
      "Epoch 58/200\n",
      "488/488 [==============================] - 15s 31ms/step - loss: 2.8103 - mean_absolute_error: 0.6903\n",
      "Epoch 59/200\n",
      "488/488 [==============================] - 15s 31ms/step - loss: 2.5800 - mean_absolute_error: 0.6787\n",
      "Epoch 60/200\n",
      "488/488 [==============================] - 15s 31ms/step - loss: 2.4868 - mean_absolute_error: 0.6646\n",
      "Epoch 61/200\n",
      "488/488 [==============================] - 15s 31ms/step - loss: 2.5785 - mean_absolute_error: 0.6847\n",
      "Epoch 62/200\n",
      "488/488 [==============================] - 15s 31ms/step - loss: 2.8639 - mean_absolute_error: 0.6877\n",
      "Epoch 63/200\n",
      "488/488 [==============================] - 15s 31ms/step - loss: 2.2176 - mean_absolute_error: 0.6355\n",
      "Epoch 64/200\n",
      "488/488 [==============================] - 15s 31ms/step - loss: 2.2060 - mean_absolute_error: 0.6393\n",
      "Epoch 65/200\n",
      "488/488 [==============================] - 15s 31ms/step - loss: 2.2126 - mean_absolute_error: 0.6425\n",
      "Epoch 66/200\n",
      "488/488 [==============================] - 15s 31ms/step - loss: 2.2270 - mean_absolute_error: 0.6489\n",
      "Epoch 67/200\n",
      "488/488 [==============================] - 15s 31ms/step - loss: 2.1705 - mean_absolute_error: 0.6389\n",
      "Epoch 68/200\n",
      "488/488 [==============================] - 15s 31ms/step - loss: 1.9699 - mean_absolute_error: 0.6158\n",
      "Epoch 69/200\n",
      "488/488 [==============================] - 15s 31ms/step - loss: 1.9368 - mean_absolute_error: 0.6154\n",
      "Epoch 70/200\n",
      "488/488 [==============================] - 15s 31ms/step - loss: 1.9142 - mean_absolute_error: 0.6164\n",
      "Epoch 71/200\n",
      "488/488 [==============================] - 15s 31ms/step - loss: 1.8818 - mean_absolute_error: 0.6054\n",
      "Epoch 72/200\n"
     ]
    },
    {
     "name": "stdout",
     "output_type": "stream",
     "text": [
      "488/488 [==============================] - 15s 31ms/step - loss: 1.8084 - mean_absolute_error: 0.5993\n",
      "Epoch 73/200\n",
      "488/488 [==============================] - 15s 31ms/step - loss: 1.6599 - mean_absolute_error: 0.5879\n",
      "Epoch 74/200\n",
      "488/488 [==============================] - 15s 31ms/step - loss: 1.6167 - mean_absolute_error: 0.5847\n",
      "Epoch 75/200\n",
      "488/488 [==============================] - 15s 31ms/step - loss: 1.6304 - mean_absolute_error: 0.5816\n",
      "Epoch 76/200\n",
      "488/488 [==============================] - 15s 31ms/step - loss: 1.5906 - mean_absolute_error: 0.5797\n",
      "Epoch 77/200\n",
      "488/488 [==============================] - 15s 32ms/step - loss: 1.5405 - mean_absolute_error: 0.5709\n",
      "Epoch 78/200\n",
      "488/488 [==============================] - 15s 31ms/step - loss: 1.4500 - mean_absolute_error: 0.5600\n",
      "Epoch 79/200\n",
      "488/488 [==============================] - 15s 31ms/step - loss: 1.5034 - mean_absolute_error: 0.5661\n",
      "Epoch 80/200\n",
      "488/488 [==============================] - 15s 31ms/step - loss: 1.5175 - mean_absolute_error: 0.5635\n",
      "Epoch 81/200\n",
      "488/488 [==============================] - 16s 33ms/step - loss: 1.3011 - mean_absolute_error: 0.5358\n",
      "Epoch 82/200\n",
      "488/488 [==============================] - 16s 33ms/step - loss: 1.3842 - mean_absolute_error: 0.5556\n",
      "Epoch 83/200\n",
      "488/488 [==============================] - 15s 32ms/step - loss: 1.3034 - mean_absolute_error: 0.5372\n",
      "Epoch 84/200\n",
      "488/488 [==============================] - 15s 31ms/step - loss: 1.3518 - mean_absolute_error: 0.5477\n",
      "Epoch 85/200\n",
      "488/488 [==============================] - 15s 31ms/step - loss: 1.2212 - mean_absolute_error: 0.5269\n",
      "Epoch 86/200\n",
      "488/488 [==============================] - 15s 31ms/step - loss: 1.1916 - mean_absolute_error: 0.5203\n",
      "Epoch 87/200\n",
      "488/488 [==============================] - 15s 32ms/step - loss: 1.1902 - mean_absolute_error: 0.5242\n",
      "Epoch 88/200\n",
      "488/488 [==============================] - 15s 31ms/step - loss: 1.1911 - mean_absolute_error: 0.5193\n",
      "Epoch 89/200\n",
      "488/488 [==============================] - 15s 31ms/step - loss: 1.4861 - mean_absolute_error: 0.5621\n",
      "Epoch 90/200\n",
      "488/488 [==============================] - 15s 31ms/step - loss: 1.1191 - mean_absolute_error: 0.5090\n",
      "Epoch 91/200\n",
      "488/488 [==============================] - 15s 32ms/step - loss: 1.0501 - mean_absolute_error: 0.4989\n",
      "Epoch 92/200\n",
      "488/488 [==============================] - 15s 32ms/step - loss: 1.0306 - mean_absolute_error: 0.4924\n",
      "Epoch 93/200\n",
      "488/488 [==============================] - 15s 32ms/step - loss: 0.9958 - mean_absolute_error: 0.4893\n",
      "Epoch 94/200\n",
      "488/488 [==============================] - 16s 32ms/step - loss: 0.9713 - mean_absolute_error: 0.4854\n",
      "Epoch 95/200\n",
      "488/488 [==============================] - 17s 34ms/step - loss: 1.0207 - mean_absolute_error: 0.4977\n",
      "Epoch 96/200\n",
      "488/488 [==============================] - 16s 33ms/step - loss: 1.9139 - mean_absolute_error: 0.5988\n",
      "Epoch 97/200\n",
      "488/488 [==============================] - 16s 33ms/step - loss: 1.0066 - mean_absolute_error: 0.4929\n",
      "Epoch 98/200\n",
      "488/488 [==============================] - 16s 33ms/step - loss: 0.8595 - mean_absolute_error: 0.4662\n",
      "Epoch 99/200\n",
      "488/488 [==============================] - 15s 31ms/step - loss: 0.8824 - mean_absolute_error: 0.4675\n",
      "Epoch 100/200\n",
      "488/488 [==============================] - 15s 31ms/step - loss: 0.8924 - mean_absolute_error: 0.4720\n",
      "Epoch 101/200\n",
      "488/488 [==============================] - 15s 31ms/step - loss: 0.9197 - mean_absolute_error: 0.4721\n",
      "Epoch 102/200\n",
      "488/488 [==============================] - 15s 31ms/step - loss: 0.8870 - mean_absolute_error: 0.4682\n",
      "Epoch 103/200\n",
      "488/488 [==============================] - 15s 31ms/step - loss: 0.9379 - mean_absolute_error: 0.4779\n",
      "Epoch 104/200\n",
      "488/488 [==============================] - 15s 32ms/step - loss: 0.8942 - mean_absolute_error: 0.4722\n",
      "Epoch 105/200\n",
      "488/488 [==============================] - 15s 31ms/step - loss: 0.8505 - mean_absolute_error: 0.4599\n",
      "Epoch 106/200\n",
      "488/488 [==============================] - 15s 31ms/step - loss: 1.5338 - mean_absolute_error: 0.5584\n",
      "Epoch 107/200\n",
      "488/488 [==============================] - 15s 31ms/step - loss: 1.0721 - mean_absolute_error: 0.5099\n",
      "Epoch 108/200\n",
      "488/488 [==============================] - 15s 32ms/step - loss: 0.8144 - mean_absolute_error: 0.4625\n",
      "Epoch 109/200\n",
      "488/488 [==============================] - 15s 31ms/step - loss: 0.8033 - mean_absolute_error: 0.4609\n",
      "Epoch 110/200\n",
      "488/488 [==============================] - 15s 31ms/step - loss: 0.7433 - mean_absolute_error: 0.4465\n",
      "Epoch 111/200\n",
      "488/488 [==============================] - 16s 32ms/step - loss: 1.2890 - mean_absolute_error: 0.5162\n",
      "Epoch 112/200\n",
      "488/488 [==============================] - 15s 32ms/step - loss: 0.8279 - mean_absolute_error: 0.4620\n",
      "Epoch 113/200\n",
      "488/488 [==============================] - 15s 31ms/step - loss: 0.6813 - mean_absolute_error: 0.4329\n",
      "Epoch 114/200\n",
      "488/488 [==============================] - 15s 31ms/step - loss: 0.7209 - mean_absolute_error: 0.4412\n",
      "Epoch 115/200\n",
      "488/488 [==============================] - 15s 31ms/step - loss: 0.6730 - mean_absolute_error: 0.4310\n",
      "Epoch 116/200\n",
      "488/488 [==============================] - 15s 31ms/step - loss: 0.7160 - mean_absolute_error: 0.4382\n",
      "Epoch 117/200\n",
      "488/488 [==============================] - 15s 31ms/step - loss: 0.7359 - mean_absolute_error: 0.4426\n",
      "Epoch 118/200\n",
      "488/488 [==============================] - 15s 31ms/step - loss: 0.7333 - mean_absolute_error: 0.4418\n",
      "Epoch 119/200\n",
      "488/488 [==============================] - 15s 31ms/step - loss: 0.7136 - mean_absolute_error: 0.4383\n",
      "Epoch 120/200\n",
      "488/488 [==============================] - 16s 33ms/step - loss: 0.7830 - mean_absolute_error: 0.4513\n",
      "Epoch 121/200\n",
      "488/488 [==============================] - 17s 35ms/step - loss: 0.6979 - mean_absolute_error: 0.4360\n",
      "Epoch 122/200\n",
      "488/488 [==============================] - 16s 33ms/step - loss: 0.6948 - mean_absolute_error: 0.4317\n",
      "Epoch 123/200\n",
      "488/488 [==============================] - 16s 33ms/step - loss: 0.6555 - mean_absolute_error: 0.4259\n",
      "Epoch 124/200\n",
      "488/488 [==============================] - 16s 33ms/step - loss: 0.6117 - mean_absolute_error: 0.4182\n",
      "Epoch 125/200\n",
      "488/488 [==============================] - 16s 34ms/step - loss: 0.6547 - mean_absolute_error: 0.4252\n",
      "Epoch 126/200\n",
      "488/488 [==============================] - 16s 32ms/step - loss: 0.6570 - mean_absolute_error: 0.4263\n",
      "Epoch 127/200\n",
      "488/488 [==============================] - 17s 34ms/step - loss: 0.6271 - mean_absolute_error: 0.4197\n",
      "Epoch 128/200\n",
      "488/488 [==============================] - 16s 32ms/step - loss: 0.6967 - mean_absolute_error: 0.4344\n",
      "Epoch 129/200\n",
      "488/488 [==============================] - 16s 32ms/step - loss: 0.6507 - mean_absolute_error: 0.4246\n",
      "Epoch 130/200\n",
      "488/488 [==============================] - 16s 34ms/step - loss: 0.5784 - mean_absolute_error: 0.4098\n",
      "Epoch 131/200\n",
      "488/488 [==============================] - 16s 33ms/step - loss: 0.5768 - mean_absolute_error: 0.4079\n",
      "Epoch 132/200\n",
      "488/488 [==============================] - 16s 32ms/step - loss: 0.5390 - mean_absolute_error: 0.4023\n",
      "Epoch 133/200\n",
      "488/488 [==============================] - 16s 33ms/step - loss: 0.6139 - mean_absolute_error: 0.4173\n",
      "Epoch 134/200\n",
      "488/488 [==============================] - 16s 32ms/step - loss: 0.5441 - mean_absolute_error: 0.4017\n",
      "Epoch 135/200\n",
      "488/488 [==============================] - 18s 36ms/step - loss: 0.5366 - mean_absolute_error: 0.3996\n",
      "Epoch 136/200\n",
      "488/488 [==============================] - 18s 37ms/step - loss: 0.5108 - mean_absolute_error: 0.3940\n",
      "Epoch 137/200\n",
      "488/488 [==============================] - 18s 36ms/step - loss: 0.5799 - mean_absolute_error: 0.4071\n",
      "Epoch 138/200\n",
      "488/488 [==============================] - 18s 37ms/step - loss: 0.5492 - mean_absolute_error: 0.4023\n",
      "Epoch 139/200\n",
      "488/488 [==============================] - 16s 33ms/step - loss: 0.5432 - mean_absolute_error: 0.4008\n",
      "Epoch 140/200\n",
      "488/488 [==============================] - 16s 32ms/step - loss: 0.5204 - mean_absolute_error: 0.3955\n",
      "Epoch 141/200\n",
      "488/488 [==============================] - 16s 32ms/step - loss: 0.5641 - mean_absolute_error: 0.3990\n",
      "Epoch 142/200\n",
      "488/488 [==============================] - 16s 32ms/step - loss: 0.6195 - mean_absolute_error: 0.4151\n"
     ]
    },
    {
     "name": "stdout",
     "output_type": "stream",
     "text": [
      "Epoch 143/200\n",
      "488/488 [==============================] - 16s 32ms/step - loss: 0.5223 - mean_absolute_error: 0.3908\n",
      "Epoch 144/200\n",
      "488/488 [==============================] - 16s 32ms/step - loss: 0.4133 - mean_absolute_error: 0.3661\n",
      "Epoch 145/200\n",
      "488/488 [==============================] - 17s 34ms/step - loss: 0.4516 - mean_absolute_error: 0.3747\n",
      "Epoch 146/200\n",
      "488/488 [==============================] - 16s 32ms/step - loss: 0.5875 - mean_absolute_error: 0.4049\n",
      "Epoch 147/200\n",
      "488/488 [==============================] - 16s 32ms/step - loss: 0.4742 - mean_absolute_error: 0.3808\n",
      "Epoch 148/200\n",
      "488/488 [==============================] - 16s 32ms/step - loss: 0.4242 - mean_absolute_error: 0.3680\n",
      "Epoch 149/200\n",
      "488/488 [==============================] - 18s 36ms/step - loss: 0.5310 - mean_absolute_error: 0.3898\n",
      "Epoch 150/200\n",
      "488/488 [==============================] - 17s 34ms/step - loss: 0.5457 - mean_absolute_error: 0.3981\n",
      "Epoch 151/200\n",
      "488/488 [==============================] - 17s 34ms/step - loss: 0.4469 - mean_absolute_error: 0.3730\n",
      "Epoch 152/200\n",
      "488/488 [==============================] - 17s 34ms/step - loss: 0.3992 - mean_absolute_error: 0.3595\n",
      "Epoch 153/200\n",
      "488/488 [==============================] - 16s 34ms/step - loss: 0.4907 - mean_absolute_error: 0.3862\n",
      "Epoch 154/200\n",
      "488/488 [==============================] - 16s 34ms/step - loss: 0.4308 - mean_absolute_error: 0.3711\n",
      "Epoch 155/200\n",
      "488/488 [==============================] - 17s 35ms/step - loss: 0.4091 - mean_absolute_error: 0.3631\n",
      "Epoch 156/200\n",
      "488/488 [==============================] - 18s 36ms/step - loss: 0.4509 - mean_absolute_error: 0.3760\n",
      "Epoch 157/200\n",
      "488/488 [==============================] - 17s 34ms/step - loss: 0.5224 - mean_absolute_error: 0.3868\n",
      "Epoch 158/200\n",
      "488/488 [==============================] - 16s 33ms/step - loss: 0.4492 - mean_absolute_error: 0.3740\n",
      "Epoch 159/200\n",
      "488/488 [==============================] - 16s 34ms/step - loss: 0.3966 - mean_absolute_error: 0.3588\n",
      "Epoch 160/200\n",
      "488/488 [==============================] - 17s 34ms/step - loss: 0.3941 - mean_absolute_error: 0.3576\n",
      "Epoch 161/200\n",
      "488/488 [==============================] - 17s 35ms/step - loss: 0.3776 - mean_absolute_error: 0.3503\n",
      "Epoch 162/200\n",
      "488/488 [==============================] - 17s 35ms/step - loss: 0.5741 - mean_absolute_error: 0.3910\n",
      "Epoch 163/200\n",
      "488/488 [==============================] - 17s 35ms/step - loss: 0.3644 - mean_absolute_error: 0.3453\n",
      "Epoch 164/200\n",
      "488/488 [==============================] - 17s 36ms/step - loss: 0.3667 - mean_absolute_error: 0.3496\n",
      "Epoch 165/200\n",
      "488/488 [==============================] - 17s 35ms/step - loss: 0.3854 - mean_absolute_error: 0.3530\n",
      "Epoch 166/200\n",
      "488/488 [==============================] - 17s 35ms/step - loss: 0.3749 - mean_absolute_error: 0.3500\n",
      "Epoch 167/200\n",
      "488/488 [==============================] - 19s 39ms/step - loss: 0.3888 - mean_absolute_error: 0.3546\n",
      "Epoch 168/200\n",
      "488/488 [==============================] - 18s 37ms/step - loss: 0.3544 - mean_absolute_error: 0.3431\n",
      "Epoch 169/200\n",
      "488/488 [==============================] - 18s 36ms/step - loss: 0.3666 - mean_absolute_error: 0.3466\n",
      "Epoch 170/200\n",
      "488/488 [==============================] - 19s 40ms/step - loss: 0.4038 - mean_absolute_error: 0.3585\n",
      "Epoch 171/200\n",
      "488/488 [==============================] - 21s 43ms/step - loss: 0.3987 - mean_absolute_error: 0.3559\n",
      "Epoch 172/200\n",
      "488/488 [==============================] - 21s 42ms/step - loss: 0.4450 - mean_absolute_error: 0.3684\n",
      "Epoch 173/200\n",
      "488/488 [==============================] - 21s 43ms/step - loss: 0.3162 - mean_absolute_error: 0.3303\n",
      "Epoch 174/200\n",
      "488/488 [==============================] - 20s 41ms/step - loss: 0.3106 - mean_absolute_error: 0.3292\n",
      "Epoch 175/200\n",
      "488/488 [==============================] - 19s 38ms/step - loss: 0.4768 - mean_absolute_error: 0.3741\n",
      "Epoch 176/200\n",
      "488/488 [==============================] - 19s 39ms/step - loss: 0.3939 - mean_absolute_error: 0.3537\n",
      "Epoch 177/200\n",
      "488/488 [==============================] - 19s 38ms/step - loss: 0.3352 - mean_absolute_error: 0.3361\n",
      "Epoch 178/200\n",
      "488/488 [==============================] - 18s 36ms/step - loss: 0.3007 - mean_absolute_error: 0.3249\n",
      "Epoch 179/200\n",
      "488/488 [==============================] - 18s 36ms/step - loss: 0.3438 - mean_absolute_error: 0.3409\n",
      "Epoch 180/200\n",
      "488/488 [==============================] - 17s 35ms/step - loss: 0.3813 - mean_absolute_error: 0.3503\n",
      "Epoch 181/200\n",
      "488/488 [==============================] - 18s 37ms/step - loss: 0.3299 - mean_absolute_error: 0.3362\n",
      "Epoch 182/200\n",
      "488/488 [==============================] - 17s 35ms/step - loss: 0.3544 - mean_absolute_error: 0.3399\n",
      "Epoch 183/200\n",
      "488/488 [==============================] - 17s 35ms/step - loss: 0.3906 - mean_absolute_error: 0.3504\n",
      "Epoch 184/200\n",
      "488/488 [==============================] - 17s 35ms/step - loss: 0.3492 - mean_absolute_error: 0.3381\n",
      "Epoch 185/200\n",
      "488/488 [==============================] - 17s 35ms/step - loss: 0.3078 - mean_absolute_error: 0.3282\n",
      "Epoch 186/200\n",
      "488/488 [==============================] - 18s 36ms/step - loss: 0.2844 - mean_absolute_error: 0.3199\n",
      "Epoch 187/200\n",
      "488/488 [==============================] - 18s 37ms/step - loss: 0.3047 - mean_absolute_error: 0.3256\n",
      "Epoch 188/200\n",
      "488/488 [==============================] - 17s 36ms/step - loss: 0.3375 - mean_absolute_error: 0.3359\n",
      "Epoch 189/200\n",
      "488/488 [==============================] - 17s 35ms/step - loss: 0.4875 - mean_absolute_error: 0.3762\n",
      "Epoch 190/200\n",
      "488/488 [==============================] - 18s 36ms/step - loss: 0.3318 - mean_absolute_error: 0.3332\n",
      "Epoch 191/200\n",
      "488/488 [==============================] - 17s 35ms/step - loss: 0.2749 - mean_absolute_error: 0.3135\n",
      "Epoch 192/200\n",
      "488/488 [==============================] - 17s 35ms/step - loss: 0.2858 - mean_absolute_error: 0.3171\n",
      "Epoch 193/200\n",
      "488/488 [==============================] - 17s 35ms/step - loss: 0.3518 - mean_absolute_error: 0.3393\n",
      "Epoch 194/200\n",
      "488/488 [==============================] - 17s 35ms/step - loss: 0.3213 - mean_absolute_error: 0.3285\n",
      "Epoch 195/200\n",
      "488/488 [==============================] - 18s 36ms/step - loss: 0.3071 - mean_absolute_error: 0.3245\n",
      "Epoch 196/200\n",
      "488/488 [==============================] - 17s 35ms/step - loss: 0.3083 - mean_absolute_error: 0.3244\n",
      "Epoch 197/200\n",
      "488/488 [==============================] - 17s 35ms/step - loss: 0.3055 - mean_absolute_error: 0.3266\n",
      "Epoch 198/200\n",
      "488/488 [==============================] - 17s 35ms/step - loss: 0.3038 - mean_absolute_error: 0.3221\n",
      "Epoch 199/200\n",
      "488/488 [==============================] - 17s 35ms/step - loss: 0.3391 - mean_absolute_error: 0.3363\n",
      "Epoch 200/200\n",
      "488/488 [==============================] - 17s 35ms/step - loss: 0.2721 - mean_absolute_error: 0.3112\n"
     ]
    }
   ],
   "source": [
    "# Sequential model developed using hyperparameter obtained from k-fold cross validation\n",
    "\n",
    "vocab_size = 17\n",
    "\n",
    "model = tf.keras.Sequential()\n",
    " \n",
    "model.add(tf.keras.layers.Embedding(input_dim=vocab_size, output_dim=max_len, mask_zero=True))\n",
    "model.add(tf.keras.layers.GRU(max_len))\n",
    "   \n",
    "# ANN start layer\n",
    "model.add(tf.keras.layers.Dense(max_len, activation=\"relu\"))\n",
    "#model.add(tf.keras.layers.Dense(40, activation=\"relu\"))\n",
    "model.add(tf.keras.layers.Dense(32, activation=\"relu\"))\n",
    "model.add(tf.keras.layers.Dense(24, activation=\"relu\"))\n",
    "model.add(tf.keras.layers.Dense(16, activation=\"relu\"))\n",
    "model.add(tf.keras.layers.Dense(8, activation=\"relu\"))\n",
    "model.add(tf.keras.layers.Dense(4, activation=\"relu\"))\n",
    "\n",
    "    \n",
    "# regression, so no activation\n",
    "model.add(tf.keras.layers.Dense(1))\n",
    "    \n",
    "# compile the model\n",
    "model.compile(loss = tf.losses.MeanSquaredError(), optimizer = tf.optimizers.Adam(), metrics = tf.metrics.MeanAbsoluteError())\n",
    "    \n",
    "# train the model\n",
    "model_history = model.fit(padded_train_X, train_y, batch_size=32, epochs=200)"
   ]
  },
  {
   "cell_type": "code",
   "execution_count": 55,
   "id": "ed8a00ed",
   "metadata": {},
   "outputs": [
    {
     "data": {
      "image/png": "[encoded data removed]",
      "text/plain": [
       "<Figure size 432x288 with 1 Axes>"
      ]
     },
     "metadata": {
      "needs_background": "light"
     },
     "output_type": "display_data"
    },
    {
     "data": {
      "image/png": "[encoded data removed]",
      "text/plain": [
       "<Figure size 432x288 with 1 Axes>"
      ]
     },
     "metadata": {
      "needs_background": "light"
     },
     "output_type": "display_data"
    }
   ],
   "source": [
    "# plotting mse loss\n",
    "training_mse_loss = model_history.history['loss']\n",
    "training_mae_loss = model_history.history['mean_absolute_error']\n",
    "\n",
    "epoch_count = range(0,len(training_mse_loss))\n",
    "\n",
    "plt.plot(epoch_count, training_mse_loss[0:], 'r--')\n",
    "plt.legend(['Training MSE Loss'])\n",
    "plt.xlabel('Epoch')\n",
    "plt.ylabel('Loss')\n",
    "plt.show();\n",
    "\n",
    "plt.plot(epoch_count, training_mae_loss[0:], 'b--')\n",
    "plt.legend(['Training MAE Loss'])\n",
    "plt.xlabel('Epoch')\n",
    "plt.ylabel('Loss')\n",
    "plt.show();"
   ]
  },
  {
   "cell_type": "code",
   "execution_count": 56,
   "id": "bae91ab6",
   "metadata": {},
   "outputs": [
    {
     "name": "stdout",
     "output_type": "stream",
     "text": [
      "163/163 [==============================] - 4s 10ms/step\n",
      "488/488 [==============================] - 5s 10ms/step\n"
     ]
    }
   ],
   "source": [
    "# evaluate on test data\n",
    "yhat = model.predict(padded_test_X)\n",
    "\n",
    "# evaluate on train data\n",
    "yhat_train = model.predict(padded_train_X)"
   ]
  },
  {
   "cell_type": "code",
   "execution_count": 57,
   "id": "aafb6584",
   "metadata": {},
   "outputs": [
    {
     "name": "stdout",
     "output_type": "stream",
     "text": [
      "test metrics\n",
      "0.6144173225237501\n",
      "3.5460919774483846\n",
      "0.9396509253418248\n",
      "train metrics\n",
      "0.2881207465621432\n",
      "0.22155676026963916\n",
      "0.9963563274728432\n"
     ]
    },
    {
     "data": {
      "image/png": "[encoded data removed]",
      "text/plain": [
       "<Figure size 432x288 with 1 Axes>"
      ]
     },
     "metadata": {
      "needs_background": "light"
     },
     "output_type": "display_data"
    }
   ],
   "source": [
    "print(\"test metrics\")\n",
    "mae_test = metrics.mean_absolute_error(test_y,yhat)\n",
    "mse_test = metrics.mean_squared_error(test_y,yhat)\n",
    "r2_test = metrics.r2_score(test_y,yhat)\n",
    "\n",
    "print(mae_test)\n",
    "print(mse_test)\n",
    "print(r2_test)\n",
    "\n",
    "print(\"train metrics\")\n",
    "mae_train = metrics.mean_absolute_error(train_y,yhat_train)\n",
    "mse_train = metrics.mean_squared_error(train_y,yhat_train)\n",
    "r2_train = metrics.r2_score(train_y,yhat_train)\n",
    "\n",
    "print(mae_train)\n",
    "print(mse_train)\n",
    "print(r2_train)\n",
    "\n",
    "plt.scatter(train_y,yhat_train,color = 'purple')\n",
    "plt.scatter(test_y,yhat, color = 'green')\n",
    "plt.plot(test_y,test_y, 'r--')\n",
    "#plt.title('Parity plot')\n",
    "plt.ylabel('predicted $CO_{2}$ barrier \\n (kcal/mol)')\n",
    "plt.xlabel('actual $CO_{2}$ barrier \\n (kcal/mol)')\n",
    "plt.legend(['train_set', 'test_set'])\n",
    "plt.show()"
   ]
  },
  {
   "cell_type": "markdown",
   "id": "969fb50d",
   "metadata": {},
   "source": [
    "# Saving the trained model"
   ]
  },
  {
   "cell_type": "code",
   "execution_count": 58,
   "id": "fbcb8f17",
   "metadata": {},
   "outputs": [],
   "source": [
    "from tensorflow.keras.models import save_model\n",
    "from tensorflow.keras.models import load_model"
   ]
  },
  {
   "cell_type": "code",
   "execution_count": 59,
   "id": "7b6ef389",
   "metadata": {},
   "outputs": [],
   "source": [
    "# save the model to disk\n",
    "filename = 'output/CO2_barrier_1/CO2_barrier_model.h5'\n",
    "save_model(model, filename)"
   ]
  },
  {
   "cell_type": "markdown",
   "id": "f3b22902",
   "metadata": {},
   "source": [
    "# Loading the saved model"
   ]
  },
  {
   "cell_type": "code",
   "execution_count": 60,
   "id": "8a3ba97e",
   "metadata": {},
   "outputs": [],
   "source": [
    "# load the model from disk\n",
    "filename = 'output/CO2_barrier_1/CO2_barrier_model.h5'\n",
    "loaded_model = load_model(filename)"
   ]
  },
  {
   "cell_type": "markdown",
   "id": "9f2f186f",
   "metadata": {},
   "source": [
    "# Testing the saved model"
   ]
  },
  {
   "cell_type": "code",
   "execution_count": 61,
   "id": "747a1589",
   "metadata": {},
   "outputs": [
    {
     "name": "stdout",
     "output_type": "stream",
     "text": [
      "163/163 [==============================] - 3s 10ms/step\n",
      "488/488 [==============================] - 5s 10ms/step\n"
     ]
    }
   ],
   "source": [
    "# evaluate on train and test data\n",
    "yhat_test_loaded = loaded_model.predict(padded_test_X)\n",
    "yhat_train_loaded = loaded_model.predict(padded_train_X)"
   ]
  },
  {
   "cell_type": "code",
   "execution_count": 62,
   "id": "96a4118d",
   "metadata": {},
   "outputs": [
    {
     "name": "stdout",
     "output_type": "stream",
     "text": [
      "test metrics\n",
      "0.6144173225237501\n",
      "3.5460919774483846\n",
      "0.9396509253418248\n",
      "train metrics\n",
      "0.2881207465621432\n",
      "0.22155676026963916\n",
      "0.9963563274728432\n"
     ]
    }
   ],
   "source": [
    "print(\"test metrics\")\n",
    "mae_test = metrics.mean_absolute_error(test_y,yhat_test_loaded)\n",
    "mse_test = metrics.mean_squared_error(test_y,yhat_test_loaded)\n",
    "r2_test = metrics.r2_score(test_y,yhat_test_loaded)\n",
    "\n",
    "print(mae_test)\n",
    "print(mse_test)\n",
    "print(r2_test)\n",
    "\n",
    "print(\"train metrics\")\n",
    "mae_train = metrics.mean_absolute_error(train_y,yhat_train_loaded)\n",
    "mse_train = metrics.mean_squared_error(train_y,yhat_train_loaded)\n",
    "r2_train = metrics.r2_score(train_y,yhat_train_loaded)\n",
    "\n",
    "print(mae_train)\n",
    "print(mse_train)\n",
    "print(r2_train)"
   ]
  },
  {
   "cell_type": "code",
   "execution_count": 63,
   "id": "481ec741",
   "metadata": {},
   "outputs": [
    {
     "data": {
      "image/png": "[encoded data removed]",
      "text/plain": [
       "<Figure size 432x288 with 1 Axes>"
      ]
     },
     "metadata": {
      "needs_background": "light"
     },
     "output_type": "display_data"
    }
   ],
   "source": [
    "plt.scatter(train_y,yhat_train_loaded,color = 'purple')\n",
    "plt.scatter(test_y,yhat_test_loaded, color = 'green')\n",
    "plt.plot(train_y,train_y, 'r--')\n",
    "\n",
    "plt.ylabel('predicted $\\\\rm CO_{2}$ barrier \\n (kcal/mol)', fontname=\"Arial\", fontsize=24)\n",
    "plt.xlabel('actual $\\\\rm CO_{2}$ barrier \\n (kcal/mol)', fontname=\"Arial\", fontsize=24)\n",
    "plt.legend(['train set', 'test set'], fontsize=\"20\" )\n",
    "plt.xticks(fontsize=20, fontname=\"Arial\")\n",
    "plt.yticks(fontsize=20, fontname=\"Arial\")\n",
    "plt.savefig(\"figures/CO2_barrier_1/parity_plot.png\", format=\"png\", dpi=1600, bbox_inches='tight')\n",
    "plt.show()"
   ]
  },
  {
   "cell_type": "markdown",
   "id": "392ecd00",
   "metadata": {},
   "source": [
    "# Predicting CO2 Barriers for stable nanopores obtained using STRONGs algorithm"
   ]
  },
  {
   "cell_type": "code",
   "execution_count": 64,
   "id": "b71ba0f5",
   "metadata": {},
   "outputs": [
    {
     "name": "stdout",
     "output_type": "stream",
     "text": [
      "<class 'pandas.core.frame.DataFrame'>\n",
      "RangeIndex: 20812 entries, 0 to 20811\n",
      "Data columns (total 8 columns):\n",
      " #   Column             Non-Null Count  Dtype  \n",
      "---  ------             --------------  -----  \n",
      " 0   Unnamed: 0         20812 non-null  int64  \n",
      " 1   pore_number        20812 non-null  int64  \n",
      " 2   pore_N             20812 non-null  int64  \n",
      " 3   Canonical_STRONGs  20812 non-null  object \n",
      " 4   barrier_CO2        20812 non-null  float64\n",
      " 5   x_coord            20812 non-null  float64\n",
      " 6   y_coord            20812 non-null  float64\n",
      " 7   radius             20812 non-null  float64\n",
      "dtypes: float64(4), int64(3), object(1)\n",
      "memory usage: 1.3+ MB\n"
     ]
    }
   ],
   "source": [
    "# Feature Data - Canonical STRONGs for stable nanopores\n",
    "\n",
    "csv_data_stable_nanopores = pd.read_csv('input/stable_nanopores_data_radius_feature.csv')\n",
    "csv_data.info()"
   ]
  },
  {
   "cell_type": "code",
   "execution_count": 65,
   "id": "6b456411",
   "metadata": {},
   "outputs": [],
   "source": [
    "# Tokenization of Feature Data\n",
    "\n",
    "stable_nanopores_STRONG_X = tokenizer.texts_to_sequences(csv_data_stable_nanopores['Canonical_STRONGs'])\n",
    "stable_nanopores_padded_X = tf.keras.preprocessing.sequence.pad_sequences(stable_nanopores_STRONG_X, padding=\"post\", maxlen = max_len)"
   ]
  },
  {
   "cell_type": "code",
   "execution_count": 66,
   "id": "ce895e68",
   "metadata": {},
   "outputs": [
    {
     "name": "stdout",
     "output_type": "stream",
     "text": [
      "12739/12739 [==============================] - 139s 11ms/step\n"
     ]
    }
   ],
   "source": [
    "# Calculating CO2 barriers for stable nanopores\n",
    "stable_nanopores_yhat = loaded_model.predict(stable_nanopores_padded_X)"
   ]
  },
  {
   "cell_type": "code",
   "execution_count": 67,
   "id": "f3b4352f",
   "metadata": {},
   "outputs": [],
   "source": [
    "# saving the CO2 barrier for stable nanopores\n",
    "type(stable_nanopores_yhat)\n",
    "np.savetxt('input/stable_strong_barrier_CO2.csv', stable_nanopores_yhat)"
   ]
  },
  {
   "cell_type": "code",
   "execution_count": null,
   "id": "eda0ccc6",
   "metadata": {},
   "outputs": [],
   "source": []
  }
 ],
 "metadata": {
  "kernelspec": {
   "display_name": "Python 3 (ipykernel)",
   "language": "python",
   "name": "python3"
  },
  "language_info": {
   "codemirror_mode": {
    "name": "ipython",
    "version": 3
   },
   "file_extension": ".py",
   "mimetype": "text/x-python",
   "name": "python",
   "nbconvert_exporter": "python",
   "pygments_lexer": "ipython3",
   "version": "3.9.12"
  }
 },
 "nbformat": 4,
 "nbformat_minor": 5
}
